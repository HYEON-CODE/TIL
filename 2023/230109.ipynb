{
  "nbformat": 4,
  "nbformat_minor": 0,
  "metadata": {
    "colab": {
      "provenance": []
    },
    "kernelspec": {
      "name": "python3",
      "display_name": "Python 3"
    },
    "language_info": {
      "name": "python"
    }
  },
  "cells": [
    {
      "cell_type": "markdown",
      "source": [
        "\n",
        "\n",
        "# Data type\n",
        "\n"
      ],
      "metadata": {
        "id": "s-wZAMJS3G75"
      }
    },
    {
      "cell_type": "code",
      "execution_count": null,
      "metadata": {
        "colab": {
          "base_uri": "https://localhost:8080/",
          "height": 35
        },
        "id": "KkRFkLVqxMLa",
        "outputId": "c1113521-bb2f-4f00-91bb-54fc2e6d0ebd"
      },
      "outputs": [
        {
          "output_type": "execute_result",
          "data": {
            "text/plain": [
              "'Gwan Hyeon'"
            ],
            "application/vnd.google.colaboratory.intrinsic+json": {
              "type": "string"
            }
          },
          "metadata": {},
          "execution_count": 6
        }
      ],
      "source": [
        "\"Gwan Hyeon\""
      ]
    },
    {
      "cell_type": "code",
      "source": [
        "'Gwan Hyeon'"
      ],
      "metadata": {
        "colab": {
          "base_uri": "https://localhost:8080/",
          "height": 35
        },
        "id": "K4JM39NQ3USP",
        "outputId": "9bab157a-091a-446d-d55b-6166fa73aaca"
      },
      "execution_count": null,
      "outputs": [
        {
          "output_type": "execute_result",
          "data": {
            "text/plain": [
              "'Gwan Hyeon'"
            ],
            "application/vnd.google.colaboratory.intrinsic+json": {
              "type": "string"
            }
          },
          "metadata": {},
          "execution_count": 5
        }
      ]
    },
    {
      "cell_type": "code",
      "source": [
        "# Check data type: type()\n",
        "type('Gwan Hyeon')"
      ],
      "metadata": {
        "colab": {
          "base_uri": "https://localhost:8080/"
        },
        "id": "6y3Pnf1o3auI",
        "outputId": "a97b5d2f-2bb1-4837-b776-0a79f1f4d90d"
      },
      "execution_count": null,
      "outputs": [
        {
          "output_type": "execute_result",
          "data": {
            "text/plain": [
              "str"
            ]
          },
          "metadata": {},
          "execution_count": 7
        }
      ]
    },
    {
      "cell_type": "code",
      "source": [
        "# multi-line string\n",
        "\"\"\"\n",
        "Line 1\n",
        "Line 2\n",
        "\"\"\""
      ],
      "metadata": {
        "colab": {
          "base_uri": "https://localhost:8080/",
          "height": 35
        },
        "id": "0Gzpcmmp3pQ2",
        "outputId": "7199318a-aa62-4672-b309-55f59b4eab03"
      },
      "execution_count": null,
      "outputs": [
        {
          "output_type": "execute_result",
          "data": {
            "text/plain": [
              "'\\nLine 1\\nLine 2\\n'"
            ],
            "application/vnd.google.colaboratory.intrinsic+json": {
              "type": "string"
            }
          },
          "metadata": {},
          "execution_count": 8
        }
      ]
    },
    {
      "cell_type": "code",
      "source": [
        "# multi-line string의 존재이유\n",
        "\"Gwan\n",
        "Hyeon\""
      ],
      "metadata": {
        "colab": {
          "base_uri": "https://localhost:8080/",
          "height": 136
        },
        "id": "XnvPy2eI4xCe",
        "outputId": "89eb76bd-a830-45d0-f027-4d51d3a33e81"
      },
      "execution_count": null,
      "outputs": [
        {
          "output_type": "error",
          "ename": "SyntaxError",
          "evalue": "ignored",
          "traceback": [
            "\u001b[0;36m  File \u001b[0;32m\"<ipython-input-9-084f2d320d25>\"\u001b[0;36m, line \u001b[0;32m2\u001b[0m\n\u001b[0;31m    \"Gwan\u001b[0m\n\u001b[0m         ^\u001b[0m\n\u001b[0;31mSyntaxError\u001b[0m\u001b[0;31m:\u001b[0m EOL while scanning string literal\n"
          ]
        }
      ]
    },
    {
      "cell_type": "code",
      "source": [
        "# Integer: 정수\n",
        "# In Mathematics, ???\n",
        "\n",
        "5"
      ],
      "metadata": {
        "colab": {
          "base_uri": "https://localhost:8080/"
        },
        "id": "FlmyjyqD471n",
        "outputId": "0d1c9454-7e12-45e4-c928-7fe4c58d9601"
      },
      "execution_count": null,
      "outputs": [
        {
          "output_type": "execute_result",
          "data": {
            "text/plain": [
              "5"
            ]
          },
          "metadata": {},
          "execution_count": 10
        }
      ]
    },
    {
      "cell_type": "code",
      "source": [
        "-5"
      ],
      "metadata": {
        "colab": {
          "base_uri": "https://localhost:8080/"
        },
        "id": "5Et2xRAy5V__",
        "outputId": "29cde4e8-9c0c-42d1-ac58-5694091813ba"
      },
      "execution_count": null,
      "outputs": [
        {
          "output_type": "execute_result",
          "data": {
            "text/plain": [
              "-5"
            ]
          },
          "metadata": {},
          "execution_count": 11
        }
      ]
    },
    {
      "cell_type": "code",
      "source": [
        "0"
      ],
      "metadata": {
        "colab": {
          "base_uri": "https://localhost:8080/"
        },
        "id": "0gKR0fS25Y8P",
        "outputId": "d14361e9-33b2-4421-92ab-4cb458795f88"
      },
      "execution_count": null,
      "outputs": [
        {
          "output_type": "execute_result",
          "data": {
            "text/plain": [
              "0"
            ]
          },
          "metadata": {},
          "execution_count": 12
        }
      ]
    },
    {
      "cell_type": "code",
      "source": [
        "# floating point\n",
        "\n",
        "3.14"
      ],
      "metadata": {
        "colab": {
          "base_uri": "https://localhost:8080/"
        },
        "id": "57lG_Omq5axX",
        "outputId": "cfce6d0b-db2f-4c5d-c562-bc526abfa931"
      },
      "execution_count": null,
      "outputs": [
        {
          "output_type": "execute_result",
          "data": {
            "text/plain": [
              "3.14"
            ]
          },
          "metadata": {},
          "execution_count": 14
        }
      ]
    },
    {
      "cell_type": "code",
      "source": [
        "2.714"
      ],
      "metadata": {
        "colab": {
          "base_uri": "https://localhost:8080/"
        },
        "id": "Ul2pLEcI5ien",
        "outputId": "80450d00-bf86-45a0-e23f-00d8df7598c9"
      },
      "execution_count": null,
      "outputs": [
        {
          "output_type": "execute_result",
          "data": {
            "text/plain": [
              "2.714"
            ]
          },
          "metadata": {},
          "execution_count": 15
        }
      ]
    },
    {
      "cell_type": "code",
      "source": [
        "1.0-0.1"
      ],
      "metadata": {
        "colab": {
          "base_uri": "https://localhost:8080/"
        },
        "id": "d4XrEoc25liv",
        "outputId": "8c909ddb-e824-4500-cccd-e91a7f8b92d6"
      },
      "execution_count": null,
      "outputs": [
        {
          "output_type": "execute_result",
          "data": {
            "text/plain": [
              "0.9"
            ]
          },
          "metadata": {},
          "execution_count": 16
        }
      ]
    },
    {
      "cell_type": "code",
      "source": [
        "# 2의 거듭제곱을 숫자로 넣으면 컴퓨터 시스템 상으로 깔끔하게 나눠진다.\n",
        "## Arithmetic Operator\n",
        "## + - * / // % **\n",
        "\n",
        "1+7"
      ],
      "metadata": {
        "colab": {
          "base_uri": "https://localhost:8080/"
        },
        "id": "DPcU_vmw5nvn",
        "outputId": "27d35c33-61fa-4f4b-b2f1-2bcf327a5f29"
      },
      "execution_count": null,
      "outputs": [
        {
          "output_type": "execute_result",
          "data": {
            "text/plain": [
              "8"
            ]
          },
          "metadata": {},
          "execution_count": 17
        }
      ]
    },
    {
      "cell_type": "code",
      "source": [
        "2-9"
      ],
      "metadata": {
        "colab": {
          "base_uri": "https://localhost:8080/"
        },
        "id": "P9LE5osP7IjQ",
        "outputId": "1792decf-c546-4a8b-8057-3aad6c0afc0f"
      },
      "execution_count": null,
      "outputs": [
        {
          "output_type": "execute_result",
          "data": {
            "text/plain": [
              "-7"
            ]
          },
          "metadata": {},
          "execution_count": 18
        }
      ]
    },
    {
      "cell_type": "code",
      "source": [
        "3.14 * 3"
      ],
      "metadata": {
        "colab": {
          "base_uri": "https://localhost:8080/"
        },
        "id": "H1NVO6357Jxf",
        "outputId": "0e4e23d2-1824-4c93-badb-da65e3e6adfa"
      },
      "execution_count": null,
      "outputs": [
        {
          "output_type": "execute_result",
          "data": {
            "text/plain": [
              "9.42"
            ]
          },
          "metadata": {},
          "execution_count": 19
        }
      ]
    },
    {
      "cell_type": "code",
      "source": [
        "199/3"
      ],
      "metadata": {
        "colab": {
          "base_uri": "https://localhost:8080/"
        },
        "id": "IuZm4W4r7Lnn",
        "outputId": "56f24c4f-8684-419f-ba3c-9ec918403852"
      },
      "execution_count": null,
      "outputs": [
        {
          "output_type": "execute_result",
          "data": {
            "text/plain": [
              "66.33333333333333"
            ]
          },
          "metadata": {},
          "execution_count": 20
        }
      ]
    },
    {
      "cell_type": "code",
      "source": [
        "199//3"
      ],
      "metadata": {
        "colab": {
          "base_uri": "https://localhost:8080/"
        },
        "id": "mj-aCn2v7N73",
        "outputId": "6c5f2a8a-ffff-4784-8be5-f63fe89267e1"
      },
      "execution_count": null,
      "outputs": [
        {
          "output_type": "execute_result",
          "data": {
            "text/plain": [
              "66"
            ]
          },
          "metadata": {},
          "execution_count": 21
        }
      ]
    },
    {
      "cell_type": "code",
      "source": [
        "199%3"
      ],
      "metadata": {
        "colab": {
          "base_uri": "https://localhost:8080/"
        },
        "id": "y2s4Aqg67P6n",
        "outputId": "34408fff-406f-424e-ac5d-064714b34c44"
      },
      "execution_count": null,
      "outputs": [
        {
          "output_type": "execute_result",
          "data": {
            "text/plain": [
              "1"
            ]
          },
          "metadata": {},
          "execution_count": 22
        }
      ]
    },
    {
      "cell_type": "code",
      "source": [
        "2**3"
      ],
      "metadata": {
        "colab": {
          "base_uri": "https://localhost:8080/"
        },
        "id": "hqdLscHP7RXX",
        "outputId": "6e30c35e-f448-4d61-cc16-b344bb8f28cb"
      },
      "execution_count": null,
      "outputs": [
        {
          "output_type": "execute_result",
          "data": {
            "text/plain": [
              "8"
            ]
          },
          "metadata": {},
          "execution_count": 23
        }
      ]
    },
    {
      "cell_type": "code",
      "source": [
        "# Comparative Operator \n",
        "# > < >= <= == !=\n",
        "# result is True or False.\n",
        "\n",
        "3!=5"
      ],
      "metadata": {
        "colab": {
          "base_uri": "https://localhost:8080/"
        },
        "id": "89T8kZNW7TE2",
        "outputId": "da3c98dc-de70-47fd-9ebc-f07c9fc85eb1"
      },
      "execution_count": null,
      "outputs": [
        {
          "output_type": "execute_result",
          "data": {
            "text/plain": [
              "True"
            ]
          },
          "metadata": {},
          "execution_count": 24
        }
      ]
    },
    {
      "cell_type": "code",
      "source": [
        "15>30"
      ],
      "metadata": {
        "colab": {
          "base_uri": "https://localhost:8080/"
        },
        "id": "Tq7hXrSU-apw",
        "outputId": "f64479a3-5fb0-49fd-fd79-e52d0db6c93e"
      },
      "execution_count": null,
      "outputs": [
        {
          "output_type": "execute_result",
          "data": {
            "text/plain": [
              "False"
            ]
          },
          "metadata": {},
          "execution_count": 26
        }
      ]
    },
    {
      "cell_type": "code",
      "source": [
        "type(7>3)"
      ],
      "metadata": {
        "colab": {
          "base_uri": "https://localhost:8080/"
        },
        "id": "EUWz6yM3-sUv",
        "outputId": "a961e412-38e1-4689-f345-0dfee419df18"
      },
      "execution_count": null,
      "outputs": [
        {
          "output_type": "execute_result",
          "data": {
            "text/plain": [
              "bool"
            ]
          },
          "metadata": {},
          "execution_count": 27
        }
      ]
    },
    {
      "cell_type": "code",
      "source": [
        "4>=4"
      ],
      "metadata": {
        "colab": {
          "base_uri": "https://localhost:8080/"
        },
        "id": "KgPxOt5P-364",
        "outputId": "825847d9-ae09-4750-a292-e27eb59b07e9"
      },
      "execution_count": null,
      "outputs": [
        {
          "output_type": "execute_result",
          "data": {
            "text/plain": [
              "True"
            ]
          },
          "metadata": {},
          "execution_count": 28
        }
      ]
    },
    {
      "cell_type": "code",
      "source": [
        "username = \"Gwan Hyeon\"\n",
        "username"
      ],
      "metadata": {
        "colab": {
          "base_uri": "https://localhost:8080/",
          "height": 35
        },
        "id": "avVZmv0c_IUw",
        "outputId": "7e2ede00-4de5-4184-c1fb-da49e466feda"
      },
      "execution_count": null,
      "outputs": [
        {
          "output_type": "execute_result",
          "data": {
            "text/plain": [
              "'Gwan Hyeon'"
            ],
            "application/vnd.google.colaboratory.intrinsic+json": {
              "type": "string"
            }
          },
          "metadata": {},
          "execution_count": 29
        }
      ]
    },
    {
      "cell_type": "code",
      "source": [
        "print(\"Hello, \" + username)"
      ],
      "metadata": {
        "colab": {
          "base_uri": "https://localhost:8080/"
        },
        "id": "p2Le_85qADHR",
        "outputId": "b376a370-3b33-432c-9271-3e0359988457"
      },
      "execution_count": null,
      "outputs": [
        {
          "output_type": "stream",
          "name": "stdout",
          "text": [
            "Hello, Gwan Hyeon\n"
          ]
        }
      ]
    },
    {
      "cell_type": "code",
      "source": [
        "num1 = 3.14\n",
        "num2 = 1.19\n",
        "\n",
        "num1+num2\n",
        "# 3.14 + 1.19"
      ],
      "metadata": {
        "colab": {
          "base_uri": "https://localhost:8080/"
        },
        "id": "VmjBdUSNATh4",
        "outputId": "688addaa-1d14-4200-d7da-7832960b458b"
      },
      "execution_count": null,
      "outputs": [
        {
          "output_type": "execute_result",
          "data": {
            "text/plain": [
              "4.33"
            ]
          },
          "metadata": {},
          "execution_count": 31
        }
      ]
    },
    {
      "cell_type": "code",
      "source": [
        "num1-num2\n",
        "# 3.14 - 1.19"
      ],
      "metadata": {
        "colab": {
          "base_uri": "https://localhost:8080/"
        },
        "id": "hoJRK0jXAtbx",
        "outputId": "6a389908-79e0-4390-c012-41075405f152"
      },
      "execution_count": null,
      "outputs": [
        {
          "output_type": "execute_result",
          "data": {
            "text/plain": [
              "1.9500000000000002"
            ]
          },
          "metadata": {},
          "execution_count": 32
        }
      ]
    },
    {
      "cell_type": "markdown",
      "source": [
        "반지름( r=10 )을 선언한 뒤, 이를 이용하여 원의 지름, 둘레, 넓이, 구의 겉넓이, 부피를 각각\n",
        "출력하는 파이썬 파일을 만들어보세요.( pi=3.1415 )"
      ],
      "metadata": {
        "id": "t4edqe-XBe48"
      }
    },
    {
      "cell_type": "code",
      "source": [
        "# Answer\n",
        "\n",
        "r=10\n",
        "pi=3.1415\n",
        "\n",
        "d=r*2\n",
        "c=d*pi\n",
        "a=r**2*pi\n",
        "gnb=4*pi*r**2\n",
        "v=4/3*pi*r**3\n",
        "\n",
        "print(\"원의 지름 :\", d, sep='')\n",
        "print(\"원의 둘레 :\", c, sep='')\n",
        "print(\"원의 넓이 :\", a, sep='')\n",
        "print(\"구의 겉넓이 :\",gnb, sep='')\n",
        "print(\"구의 부피 :\", v, sep='')"
      ],
      "metadata": {
        "colab": {
          "base_uri": "https://localhost:8080/"
        },
        "id": "TD51vBj7AvhA",
        "outputId": "5d09dc2c-5b3f-4f28-8ae5-364118b5ad86"
      },
      "execution_count": null,
      "outputs": [
        {
          "output_type": "stream",
          "name": "stdout",
          "text": [
            "원의 지름 :20\n",
            "원의 둘레 :62.830000000000005\n",
            "원의 넓이 :314.15000000000003\n",
            "구의 겉넓이 :1256.6000000000001\n",
            "구의 부피 :4188.666666666666\n"
          ]
        }
      ]
    },
    {
      "cell_type": "code",
      "source": [
        "# Check docstring\n",
        "print())_"
      ],
      "metadata": {
        "colab": {
          "base_uri": "https://localhost:8080/",
          "height": 136
        },
        "id": "UQuez15-EoHJ",
        "outputId": "ad61e77e-f1de-4213-9081-8a1ca16881ea"
      },
      "execution_count": null,
      "outputs": [
        {
          "output_type": "error",
          "ename": "SyntaxError",
          "evalue": "ignored",
          "traceback": [
            "\u001b[0;36m  File \u001b[0;32m\"<ipython-input-5-13d20b5398d7>\"\u001b[0;36m, line \u001b[0;32m2\u001b[0m\n\u001b[0;31m    print())_\u001b[0m\n\u001b[0m           ^\u001b[0m\n\u001b[0;31mSyntaxError\u001b[0m\u001b[0;31m:\u001b[0m unmatched ')'\n"
          ]
        }
      ]
    },
    {
      "cell_type": "markdown",
      "source": [
        "* oTSAAAAAAAAAAAAAAaaaaaaaaaaAAAAAAAAAAf"
      ],
      "metadata": {
        "id": "cky7ZQwAwQT-"
      }
    },
    {
      "cell_type": "code",
      "source": [
        "username =input(\"What's your name?\")\n",
        "print(username)"
      ],
      "metadata": {
        "colab": {
          "base_uri": "https://localhost:8080/"
        },
        "id": "lRvfg-e4Es6B",
        "outputId": "c59c3e25-03c6-4845-f79c-7ab7b6a5e255"
      },
      "execution_count": null,
      "outputs": [
        {
          "output_type": "stream",
          "name": "stdout",
          "text": [
            "What's your name?GwanHyeon\n",
            "GwanHyeon\n"
          ]
        }
      ]
    },
    {
      "cell_type": "code",
      "source": [
        "age = int(input(\"How old are age?\"))\n",
        "print(age)"
      ],
      "metadata": {
        "colab": {
          "base_uri": "https://localhost:8080/"
        },
        "id": "RZDCz1DtysgO",
        "outputId": "adf49f2c-35e8-4c25-e316-3904b2926efb"
      },
      "execution_count": null,
      "outputs": [
        {
          "output_type": "stream",
          "name": "stdout",
          "text": [
            "How old are age?4\n",
            "4\n"
          ]
        }
      ]
    },
    {
      "cell_type": "code",
      "source": [
        "# age = int(age)\n",
        "print(\"당신은 30년 뒤,\",age+30, \"세가 될겁니다.\")"
      ],
      "metadata": {
        "colab": {
          "base_uri": "https://localhost:8080/"
        },
        "id": "GvRv9a8CzJ2c",
        "outputId": "c16b066d-15cf-4897-d15b-4874980ed3a8"
      },
      "execution_count": null,
      "outputs": [
        {
          "output_type": "stream",
          "name": "stdout",
          "text": [
            "당신은 30년 뒤, 34 세가 될겁니다.\n"
          ]
        }
      ]
    },
    {
      "cell_type": "code",
      "source": [
        "memo = eval(input(\"Say anything> \"))\n",
        "print(type(memo), memo)"
      ],
      "metadata": {
        "colab": {
          "base_uri": "https://localhost:8080/"
        },
        "id": "Je2liecgzt22",
        "outputId": "ce4ee98e-a1b1-497b-dc0c-70b5f5356cb7"
      },
      "execution_count": null,
      "outputs": [
        {
          "output_type": "stream",
          "name": "stdout",
          "text": [
            "Say anything> 3.14\n",
            "<class 'float'> 3.14\n"
          ]
        }
      ]
    },
    {
      "cell_type": "markdown",
      "source": [
        "사용자의 입력을 받아 반지름( r )을 선언한 뒤, 이를 이용하여 원의 지름, 둘레, 넓이, 구의 겉\n",
        "넓이, 부피를 각각 출력하는 파이썬 파일을 만들어보세요.( pi=3.1415 )"
      ],
      "metadata": {
        "id": "bAaf00iX1Q5B"
      }
    },
    {
      "cell_type": "code",
      "source": [
        "# Answer\n",
        "\n",
        "r=int(input(\"반지름을 입력하세요.\"))\n",
        "pi=3.1415\n",
        "\n",
        "d=round(r*2,3)\n",
        "c=round(d*pi,3)\n",
        "a=round(r**2*pi,3)\n",
        "gnb=round(4*pi*r**2,3)\n",
        "v=round(4/3*pi*r**3,3)\n",
        "\n",
        "print(\"원의 지름 :\", d, sep='')\n",
        "print(\"원의 둘레 :\", c, sep='')\n",
        "print(\"원의 넓이 :\", a, sep='')\n",
        "print(\"구의 겉넓이 :\",gnb, sep='')\n",
        "print(\"구의 부피 :\", v, sep='')"
      ],
      "metadata": {
        "colab": {
          "base_uri": "https://localhost:8080/"
        },
        "id": "-E7bFGCH03eu",
        "outputId": "e14fee1d-be2e-4d25-b836-29a9ab613c1f"
      },
      "execution_count": null,
      "outputs": [
        {
          "output_type": "stream",
          "name": "stdout",
          "text": [
            "반지름을 입력하세요.10\n",
            "원의 지름 :20\n",
            "원의 둘레 :62.83\n",
            "원의 넓이 :314.15\n",
            "구의 겉넓이 :1256.6\n",
            "구의 부피 :4188.667\n"
          ]
        }
      ]
    },
    {
      "cell_type": "code",
      "source": [
        "some_string = \"python\""
      ],
      "metadata": {
        "id": "EZIyjTf43bA3"
      },
      "execution_count": null,
      "outputs": []
    },
    {
      "cell_type": "code",
      "source": [
        "len(some_string)"
      ],
      "metadata": {
        "colab": {
          "base_uri": "https://localhost:8080/"
        },
        "id": "i6kIMY9Q8Y9Z",
        "outputId": "06cebc44-410c-49c4-ab35-886fbcb34c35"
      },
      "execution_count": null,
      "outputs": [
        {
          "output_type": "execute_result",
          "data": {
            "text/plain": [
              "6"
            ]
          },
          "metadata": {},
          "execution_count": 18
        }
      ]
    },
    {
      "cell_type": "code",
      "source": [
        "some_string[2]"
      ],
      "metadata": {
        "colab": {
          "base_uri": "https://localhost:8080/",
          "height": 35
        },
        "id": "Ac_4eJzd8mOw",
        "outputId": "11f43e12-97fc-4cc3-869b-f6fa9d236893"
      },
      "execution_count": null,
      "outputs": [
        {
          "output_type": "execute_result",
          "data": {
            "text/plain": [
              "'t'"
            ],
            "application/vnd.google.colaboratory.intrinsic+json": {
              "type": "string"
            }
          },
          "metadata": {},
          "execution_count": 19
        }
      ]
    },
    {
      "cell_type": "code",
      "source": [
        "some_string[1:4]"
      ],
      "metadata": {
        "colab": {
          "base_uri": "https://localhost:8080/",
          "height": 35
        },
        "id": "YLmtIcS2863x",
        "outputId": "dd0dedca-b8a0-469e-91c8-4de7dfe79feb"
      },
      "execution_count": null,
      "outputs": [
        {
          "output_type": "execute_result",
          "data": {
            "text/plain": [
              "'yth'"
            ],
            "application/vnd.google.colaboratory.intrinsic+json": {
              "type": "string"
            }
          },
          "metadata": {},
          "execution_count": 20
        }
      ]
    },
    {
      "cell_type": "code",
      "source": [
        "some_string[1:5+1:2]"
      ],
      "metadata": {
        "colab": {
          "base_uri": "https://localhost:8080/",
          "height": 35
        },
        "id": "rx-WGUIx9VmZ",
        "outputId": "0db5d00d-3fef-4640-f7c6-8bd942d798bf"
      },
      "execution_count": null,
      "outputs": [
        {
          "output_type": "execute_result",
          "data": {
            "text/plain": [
              "'yhn'"
            ],
            "application/vnd.google.colaboratory.intrinsic+json": {
              "type": "string"
            }
          },
          "metadata": {},
          "execution_count": 24
        }
      ]
    },
    {
      "cell_type": "code",
      "source": [
        "# reverse\n",
        "some_string[::-1]"
      ],
      "metadata": {
        "colab": {
          "base_uri": "https://localhost:8080/",
          "height": 35
        },
        "id": "dReDll7O9aX5",
        "outputId": "8639e883-0c62-4d9e-e079-533d26ddd11a"
      },
      "execution_count": null,
      "outputs": [
        {
          "output_type": "execute_result",
          "data": {
            "text/plain": [
              "'nohtyp'"
            ],
            "application/vnd.google.colaboratory.intrinsic+json": {
              "type": "string"
            }
          },
          "metadata": {},
          "execution_count": 25
        }
      ]
    },
    {
      "cell_type": "code",
      "source": [
        "some_string = \"J\" + some_string[1:]\n",
        "some_string"
      ],
      "metadata": {
        "colab": {
          "base_uri": "https://localhost:8080/",
          "height": 35
        },
        "id": "BWrhK5Kq9zbS",
        "outputId": "13ee83f0-d4d9-4eba-d7ac-0842b54910a5"
      },
      "execution_count": null,
      "outputs": [
        {
          "output_type": "execute_result",
          "data": {
            "text/plain": [
              "'Jython'"
            ],
            "application/vnd.google.colaboratory.intrinsic+json": {
              "type": "string"
            }
          },
          "metadata": {},
          "execution_count": 27
        }
      ]
    },
    {
      "cell_type": "code",
      "source": [
        "func = \"I saw a kitten eating chicken in the kitchen\"\n",
        "func.count('a')"
      ],
      "metadata": {
        "colab": {
          "base_uri": "https://localhost:8080/"
        },
        "id": "niZBVQev_MKh",
        "outputId": "037ac760-251e-4288-c4de-a880e3071c89"
      },
      "execution_count": null,
      "outputs": [
        {
          "output_type": "execute_result",
          "data": {
            "text/plain": [
              "3"
            ]
          },
          "metadata": {},
          "execution_count": 36
        }
      ]
    },
    {
      "cell_type": "code",
      "source": [
        "func.find('a')"
      ],
      "metadata": {
        "colab": {
          "base_uri": "https://localhost:8080/"
        },
        "id": "X3Obb0y9_sQ7",
        "outputId": "d5df6b3e-f8c9-4283-a9a7-8581848a7753"
      },
      "execution_count": null,
      "outputs": [
        {
          "output_type": "execute_result",
          "data": {
            "text/plain": [
              "3"
            ]
          },
          "metadata": {},
          "execution_count": 37
        }
      ]
    },
    {
      "cell_type": "code",
      "source": [
        "comma = \",\"\n",
        "func = comma.join('python')\n",
        "func.split(',')"
      ],
      "metadata": {
        "colab": {
          "base_uri": "https://localhost:8080/"
        },
        "id": "erILVQTw_t2B",
        "outputId": "7e1880c0-d96c-411d-e79b-81b91bf19ac7"
      },
      "execution_count": null,
      "outputs": [
        {
          "output_type": "execute_result",
          "data": {
            "text/plain": [
              "['p', 'y', 't', 'h', 'o', 'n']"
            ]
          },
          "metadata": {},
          "execution_count": 39
        }
      ]
    },
    {
      "cell_type": "code",
      "source": [
        "python_is_easy = \"python is easy\"\n",
        "python_is_easy.split()"
      ],
      "metadata": {
        "colab": {
          "base_uri": "https://localhost:8080/"
        },
        "id": "SuuIrpeUAETx",
        "outputId": "fdcfdabe-27d9-4177-faaa-d1f1f75875f1"
      },
      "execution_count": null,
      "outputs": [
        {
          "output_type": "execute_result",
          "data": {
            "text/plain": [
              "['python', 'is', 'easy']"
            ]
          },
          "metadata": {},
          "execution_count": 40
        }
      ]
    },
    {
      "cell_type": "code",
      "source": [
        "python_is_easy.replace(\"python\", \"Java\")"
      ],
      "metadata": {
        "colab": {
          "base_uri": "https://localhost:8080/",
          "height": 35
        },
        "id": "ugECryWjAYCD",
        "outputId": "c7cdc553-992f-4e95-f739-5b590450c113"
      },
      "execution_count": null,
      "outputs": [
        {
          "output_type": "execute_result",
          "data": {
            "text/plain": [
              "'Java is easy'"
            ],
            "application/vnd.google.colaboratory.intrinsic+json": {
              "type": "string"
            }
          },
          "metadata": {},
          "execution_count": 45
        }
      ]
    },
    {
      "cell_type": "code",
      "source": [
        "some_string = \"   computer    \"\n",
        "some_string.strip()"
      ],
      "metadata": {
        "colab": {
          "base_uri": "https://localhost:8080/",
          "height": 35
        },
        "id": "1saAj0a2BDAS",
        "outputId": "772e9036-d3dd-4a35-f02b-3f940fba1dd3"
      },
      "execution_count": null,
      "outputs": [
        {
          "output_type": "execute_result",
          "data": {
            "text/plain": [
              "'computer'"
            ],
            "application/vnd.google.colaboratory.intrinsic+json": {
              "type": "string"
            }
          },
          "metadata": {},
          "execution_count": 46
        }
      ]
    },
    {
      "cell_type": "code",
      "source": [
        "some_string = \",,,computer...\"\n",
        "some_string.strip(',.')"
      ],
      "metadata": {
        "colab": {
          "base_uri": "https://localhost:8080/",
          "height": 35
        },
        "id": "xqPAgs_RCAnB",
        "outputId": "5e1bf8a9-ff8a-457d-e212-b6d369c4430e"
      },
      "execution_count": null,
      "outputs": [
        {
          "output_type": "execute_result",
          "data": {
            "text/plain": [
              "'computer'"
            ],
            "application/vnd.google.colaboratory.intrinsic+json": {
              "type": "string"
            }
          },
          "metadata": {},
          "execution_count": 47
        }
      ]
    },
    {
      "cell_type": "code",
      "source": [
        "some_string.islower()"
      ],
      "metadata": {
        "colab": {
          "base_uri": "https://localhost:8080/"
        },
        "id": "vZiyOzefCM8Q",
        "outputId": "8b0b479c-089c-46e2-e1c1-844339ccc8af"
      },
      "execution_count": null,
      "outputs": [
        {
          "output_type": "execute_result",
          "data": {
            "text/plain": [
              "True"
            ]
          },
          "metadata": {},
          "execution_count": 50
        }
      ]
    },
    {
      "cell_type": "code",
      "source": [
        "# String Formatting\n",
        "\n",
        "user_name = input(\"Enter your username >\")\n",
        "user_pw = input(\"Enter your password >\")\n",
        "\n",
        "print(f\"So, you are {user_name:15}, your password is {user_pw:15}, Right?\")"
      ],
      "metadata": {
        "colab": {
          "base_uri": "https://localhost:8080/"
        },
        "id": "VZMfa95nCoYk",
        "outputId": "fe07d1de-447a-4eee-92ce-8eaf42727e3d"
      },
      "execution_count": null,
      "outputs": [
        {
          "output_type": "stream",
          "name": "stdout",
          "text": [
            "Enter your username >GwanHyeon\n",
            "Enter your password >1q1q1q\n",
            "So, you are GwanHyeon      , your password is 1q1q1q         , Right?\n"
          ]
        }
      ]
    },
    {
      "cell_type": "code",
      "source": [
        "print(f\"So, you are {user_name:^15}, your password is {user_pw:>15}, Right?\")"
      ],
      "metadata": {
        "colab": {
          "base_uri": "https://localhost:8080/"
        },
        "id": "3mOL1OE7HzWz",
        "outputId": "6a2615c6-dbd5-40e1-d54a-0213858f1c82"
      },
      "execution_count": null,
      "outputs": [
        {
          "output_type": "stream",
          "name": "stdout",
          "text": [
            "So, you are    GwanHyeon   , your password is          1q1q1q, Right?\n"
          ]
        }
      ]
    },
    {
      "cell_type": "markdown",
      "source": [
        "1. 사용자가 입력한 전화번호를 저장하려합니다. 전화번호의 구분자로 - 또는 를 혼합하\n",
        "여 사용할 때 이를 split과 join을 이용하여 - 로 통일하여 입력 받아 결과물을 출력하세\n",
        "요.\n",
        "2. 사용자가 다음과 같은 입력을 할때, 그 자료가 알파벳 단독인지, 숫자 단독인지, 알파벳\n",
        "숫자인지, 소문자인지, 대문자인지를 formating 하여 출력하세요.\n"
      ],
      "metadata": {
        "id": "Kb0KbVA_I0DC"
      }
    },
    {
      "cell_type": "code",
      "source": [
        "# 1번\n",
        "user_number = input(\"전화번호를 입력하세요 >\")\n",
        "'-'.join(user_number.split())"
      ],
      "metadata": {
        "colab": {
          "base_uri": "https://localhost:8080/",
          "height": 54
        },
        "id": "Vg9StKOdIRbq",
        "outputId": "8b61dbf4-63fa-4548-9020-a76fe94892cd"
      },
      "execution_count": null,
      "outputs": [
        {
          "name": "stdout",
          "output_type": "stream",
          "text": [
            "전화번호를 입력하세요 >010-1234 5678\n"
          ]
        },
        {
          "output_type": "execute_result",
          "data": {
            "text/plain": [
              "'010-1234-5678'"
            ],
            "application/vnd.google.colaboratory.intrinsic+json": {
              "type": "string"
            }
          },
          "metadata": {},
          "execution_count": 63
        }
      ]
    },
    {
      "cell_type": "code",
      "source": [
        "# 2번\n",
        "for i in range(5):\n",
        "  cmd = input(\"\")\n",
        "  if cmd.isalpha():\n",
        "    if cmd.islower():\n",
        "      print(f\"{cmd} is alpha and is lower\")\n",
        "    elif cmd.isupper():\n",
        "      print(f\"{cmd} is alpha and is upper\")\n",
        "    else:\n",
        "      print(f\"{cmd} is alpha and is lower and upper\")\n",
        "  elif cmd.isdigit():\n",
        "    print(f\"{cmd} is digit\")\n",
        "  else:\n",
        "    if cmd.islower():\n",
        "      print(f\"{cmd} is alnum and is lower\")\n",
        "    elif cmd.isupper():\n",
        "      print(f\"{cmd} is alnum and is upper\")\n",
        "    else:\n",
        "      print(f\"{cmd} is alpha and is lower and upper\")\n",
        "  \n"
      ],
      "metadata": {
        "colab": {
          "base_uri": "https://localhost:8080/"
        },
        "id": "xXbDdGxEIUIt",
        "outputId": "ad951f52-abe2-4def-a7ab-586feb30f1f6"
      },
      "execution_count": null,
      "outputs": [
        {
          "output_type": "stream",
          "name": "stdout",
          "text": [
            "FAST\n",
            "FAST is alpha and is upper\n",
            "campus12\n",
            "campus12 is alnum and is lower\n",
            "FastCampus\n",
            "FastCampus is alpha and is lower and upper\n",
            "1107\n",
            "1107 is digit\n",
            "dynamite\n",
            "dynamite is alpha and is lower\n"
          ]
        }
      ]
    },
    {
      "cell_type": "code",
      "source": [
        "# 2번\n",
        "for i in range(5):\n",
        "  cmd = input(\"\")\n",
        "  is_alpha=cmd.isalpha()\n",
        "  is_digit=cmd.isdigit()\n",
        "  is_alnum=cmd.isalnum()\n",
        "  is_upper=cmd.isupper()\n",
        "  is_lower=cmd.islower()\n",
        "  print(f\"{cmd}는 알파벳 단독 : {is_alpha} 숫자 단독 : {is_digit} 알파벳 숫자 : {is_alnum} 대문자 : {is_upper} 소문자 : {is_lower}\")"
      ],
      "metadata": {
        "colab": {
          "base_uri": "https://localhost:8080/"
        },
        "id": "LsO2bP3xMWCT",
        "outputId": "1cf30a5d-f9ca-4ebc-eab3-e72eb2cc948e"
      },
      "execution_count": null,
      "outputs": [
        {
          "output_type": "stream",
          "name": "stdout",
          "text": [
            "FAST\n",
            "FAST는 알파벳 단독 : True 숫자 단독 : False 알파벳 숫자 : True 대문자 : True 소문자 : False\n",
            "campus12\n",
            "campus12는 알파벳 단독 : False 숫자 단독 : False 알파벳 숫자 : True 대문자 : False 소문자 : True\n",
            "FastCampus\n",
            "FastCampus는 알파벳 단독 : True 숫자 단독 : False 알파벳 숫자 : True 대문자 : False 소문자 : False\n",
            "1107\n",
            "1107는 알파벳 단독 : False 숫자 단독 : True 알파벳 숫자 : True 대문자 : False 소문자 : False\n",
            "dynamite\n",
            "dynamite는 알파벳 단독 : True 숫자 단독 : False 알파벳 숫자 : True 대문자 : False 소문자 : True\n"
          ]
        }
      ]
    },
    {
      "cell_type": "code",
      "source": [],
      "metadata": {
        "id": "rZePixMHQVzc"
      },
      "execution_count": null,
      "outputs": []
    }
  ]
}