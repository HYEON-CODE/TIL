{
  "nbformat": 4,
  "nbformat_minor": 0,
  "metadata": {
    "colab": {
      "provenance": []
    },
    "kernelspec": {
      "name": "python3",
      "display_name": "Python 3"
    },
    "language_info": {
      "name": "python"
    }
  },
  "cells": [
    {
      "cell_type": "markdown",
      "source": [
        "다음 문제를 해결하세요.\n",
        "\n",
        "사용자가 입력한 임의의 정수(2~100)에 대해 팩토리얼 연산을 수행하세요.\n",
        "다음 2차원 list에 대해 각 요소의 합을 구하세요.\n",
        "[\n",
        "\n",
        "[1, 0, 7, 0],\n",
        "\n",
        "[0, 2, 0, 9],\n",
        "\n",
        "[0, 6, 3, 7],\n",
        "\n",
        "[4, 0, 5, 1],\n",
        "\n",
        "]\n"
      ],
      "metadata": {
        "id": "2z7JUdVj74jX"
      }
    },
    {
      "cell_type": "code",
      "execution_count": null,
      "metadata": {
        "id": "4-jKGU-E66cw",
        "colab": {
          "base_uri": "https://localhost:8080/"
        },
        "outputId": "4a233265-ddb4-4969-cd81-d9cd303f4097"
      },
      "outputs": [
        {
          "output_type": "stream",
          "name": "stdout",
          "text": [
            "1 * 2 * 3 * 4 = 24\n"
          ]
        }
      ],
      "source": [
        "user_input=4\n",
        "i=1\n",
        "sum=1\n",
        "\n",
        "while i<=user_input:\n",
        "  print(f\"{i}\",end=\"\")\n",
        "  if user_input!=i:\n",
        "    print(\" * \",end='')\n",
        "  sum*=i\n",
        "  i+=1\n",
        "print(f\" = {sum}\")"
      ]
    },
    {
      "cell_type": "code",
      "source": [
        "mat=[\n",
        "[1, 0, 7, 0],\n",
        "[0, 2, 0, 9],\n",
        "[0, 6, 3, 7],\n",
        "[4, 0, 5, 1],\n",
        "]\n",
        "# del sum  예약어를 변수명으로 사용 x\n",
        "result=0\n",
        "for elem in mat:\n",
        "  for item in elem:\n",
        "    result+=item\n",
        "print(result)"
      ],
      "metadata": {
        "colab": {
          "base_uri": "https://localhost:8080/"
        },
        "id": "TpxYMbNR79BX",
        "outputId": "b4ed62e6-4b75-45d3-962f-219f69ab0ecd"
      },
      "execution_count": null,
      "outputs": [
        {
          "output_type": "stream",
          "name": "stdout",
          "text": [
            "45\n"
          ]
        }
      ]
    },
    {
      "cell_type": "code",
      "source": [
        "result=0\n",
        "for elem in mat:\n",
        "  result += sum(elem)\n",
        "print(result)\n",
        "# 소스 코드 최적화 가능"
      ],
      "metadata": {
        "id": "4JS-ozOqAPxQ",
        "colab": {
          "base_uri": "https://localhost:8080/"
        },
        "outputId": "0586ea52-d21b-4959-e2c9-e99e0f5b1d55"
      },
      "execution_count": null,
      "outputs": [
        {
          "output_type": "stream",
          "name": "stdout",
          "text": [
            "45\n"
          ]
        }
      ]
    },
    {
      "cell_type": "markdown",
      "source": [
        "# Dictionary with Iterations"
      ],
      "metadata": {
        "id": "Y9WYZowfFni5"
      }
    },
    {
      "cell_type": "code",
      "source": [
        "a_words = []\n",
        "with open('./a_word_list.txt') as f:\n",
        "  textlines = f.readlines()\n",
        "  #print(type(textlines))\n",
        "  #print(textlines[1])\n",
        "  for item in textlines:\n",
        "    a_words.append(item.replace('\\n',''))\n",
        "print(a_words)"
      ],
      "metadata": {
        "colab": {
          "base_uri": "https://localhost:8080/"
        },
        "id": "MhY9WgNkBfjX",
        "outputId": "64b6f6f6-5d9d-49ef-d8b7-8a2df672b8d7"
      },
      "execution_count": null,
      "outputs": [
        {
          "output_type": "stream",
          "name": "stdout",
          "text": [
            "['aback', 'abacus', 'abandon', 'abandoned', 'abandonment', 'abashed', 'abate', 'abbey', 'abbr.', 'abbreviate', 'abbreviation', 'ABC', \"ABC's\", 'abdicate', 'abdication', 'abdomen', 'abdominal', 'abduct', 'abduction', 'aberration', 'abet', 'abhor', 'abhorrence', 'abhorrent', 'abide', 'abiding', 'ability', 'abject', 'ablaze', 'able', 'able-bodied', 'ably', 'abnormal', 'abnormality', 'abnormally', 'aboard', 'abolish', 'abolition', 'abolitionist', 'abominable', 'aboriginal', 'aborigine', 'abort', 'abortion', 'abortive', 'abound', 'about', 'about-face', 'above', 'aboveboard', 'abrasive', 'abrasively', 'abreast', 'abridge', 'abridgment', 'abroad', 'abrupt', 'abruptly', 'abruptness', 'abscess', 'abscond', 'absence', 'absent', 'absentee', 'absenteeism', 'absently', 'absent-minded', 'absent-mindedly', 'absent-mindedness', 'absolute', 'absolutely', 'absolve', 'absorb', 'absorbed', 'absorbent', 'absorbing', 'absorption', 'abstain', 'abstention', 'abstinence', 'abstinent', 'abstract', 'abstraction', 'absurd', 'absurdity', 'absurdly', 'abundance', 'abundant', 'abundantly', 'abuse', 'abusive', 'abysmal', 'abysmally', 'abyss', 'AC', 'academic', 'academically', 'academy', 'accelerate', 'acceleration', 'accelerator', 'accent', 'accented', 'accentuate', 'accept', 'acceptability', 'acceptable', 'acceptably', 'acceptance', 'accepted', 'access', 'accessibility', 'accessible', 'accessory', 'accident', 'accidental', 'accidentally', 'accident-prone', 'acclaim', 'acclaimed', 'acclimate', 'acclimation', 'accolade', 'accommodate', 'accommodating', 'accommodation', 'accommodations', 'accompaniment', 'accompanist', 'accompany', 'accomplice', 'accomplish', 'accomplished', 'accomplishment', 'accord', 'accordance', 'accordingly', 'according to', 'accordion', 'accost', 'account', 'accountability', 'accountable', 'accountant', 'accounting', 'accreditation', 'accredited', 'accrue', 'accumulate', 'accumulation', 'accuracy', 'accurate', 'accurately', 'accusation', 'accuse', 'accused', 'accuser', 'accusing', 'accusingly', 'accustom', 'accustomed', 'ace', 'acerbic', 'ache', 'achieve', 'achievement', 'achiever', \"Achilles' heel\", 'achy', 'acid', 'acidic', 'acidity', 'acid rain', 'acknowledge', 'acknowledged', 'acknowledgment', 'acne', 'acorn', 'acoustic', 'acoustics', 'acquaint', 'acquaintance', 'acquainted', 'acquiesce', 'acquiescence', 'acquire', 'acquisition', 'acquit', 'acquittal', 'acre', 'acrid', 'acrimonious', 'acrimony', 'acrobat', 'acrobatic', 'acrobatics', 'acronym', 'across', 'across from', 'across-the-board', 'acrylic', 'ACT', 'act', 'acting', 'action', 'activate', 'activation', 'active', 'activism', 'activist', 'activity', 'actor', 'actress', 'actual', 'actuality', 'actualization', 'actually', 'acumen', 'acupuncture', 'acute', 'acute angle', 'acutely', 'ad', 'A.D.', 'adage', 'adamant', 'adamantly', \"Adam's apple\", 'adapt', 'adaptable', 'adaptation', 'adapter', 'add', 'addict', 'addicted', 'addiction', 'addictive', 'addition', 'additional', 'additionally', 'additive', 'address', 'adept', 'adeptly', 'adequacy', 'adequate', 'adequately', 'adhere', 'adherence', 'adherent', 'adhesion', 'adhesive', 'ad hoc', 'adjacent', 'adjectival', 'adjective', 'adjoin', 'adjoining', 'adjourn', 'adjournment', 'adjudicate', 'adjudicator', 'adjunct', 'adjust', 'adjustable', 'adjustment', 'ad lib', 'ad-lib', 'administer', 'administration', 'administrative', 'administrator', 'admirable', 'admirably', 'admiral', 'admiration', 'admire', 'admirer', 'admiring', 'admiringly', 'admissible', 'admission', 'admit', 'admittance', 'admittedly', 'admonish', 'admonition', 'adobe', 'adolescence', 'adolescent', 'adopt', 'adopted', 'adoption', 'adoptive', 'adorable', 'adoration', 'adore', 'adorn', 'adornment', 'adrenaline', 'adrift', 'adroit', 'adroitly', 'adulation', 'adult', 'adulterate', 'adulteration', 'adultery', 'advance', 'advanced', 'advancement', 'advantage', 'advantageous', 'Advent', 'advent', 'adventure', 'adventurer', 'adventurous', 'adverb', 'adverbial', 'adversary', 'adverse', 'adversely', 'adversity', 'advertise', 'advertisement', 'advertiser', 'advertising', 'advice', 'advisable', 'advise', 'adviser', 'advisory', 'advocacy', 'advocate', 'aerial', 'aerobic', 'aerobics', 'aerodynamic', 'aerodynamics', 'aerosol', 'aerospace', 'aesthetic', 'aesthetically', 'aesthetics', 'afar', 'affable', 'affably', 'affair', 'affairs', 'affect', 'affectation', 'affected', 'affection', 'affectionate', 'affectionately', 'affidavit', 'affiliate', 'affiliated', 'affiliation', 'affinity', 'affirm', 'affirmation', 'affirmative', 'affirmative action', 'affirmatively', 'affix', 'afflict', 'affliction', 'affluence', 'affluent', 'afford', 'affordable', 'affront', 'afloat', 'afraid', 'afresh', 'Africa', 'African', 'African-American', 'after', 'aftereffect', 'afterlife', 'aftermath', 'afternoon', 'aftershave', 'aftershock', 'afterthought', 'afterward', 'afterwards', 'again', 'against', 'age', 'aged', 'agency', 'agenda', 'agent', 'ages', 'aggravate', 'aggravating', 'aggravation', 'aggression', 'aggressive', 'aggressively', 'aggressiveness', 'aggressor', 'aggrieved', 'aghast', 'agile', 'agility', 'aging', 'agitate', 'agitated', 'agitation', 'agitator', 'agnostic', 'agnosticism', 'ago', 'agonize', 'agonized', 'agonizing', 'agonizingly', 'agony', 'agree', 'agreeable', 'agreeably', 'agreed', 'agreement', 'agricultural', 'agriculture', 'ah', 'aha', 'ahead', 'aid', 'aide', 'AIDS', 'ailing', 'ailment', 'aim', 'aimless', 'aimlessly', \"ain't\", 'air', 'air bag', 'air base', 'airborne', 'air-conditioned', 'air conditioner', 'air conditioning', 'aircraft', 'aircraft carrier', 'airfare', 'airfield', 'air force', 'airily', 'airing', 'airless', 'airline', 'airliner', 'airmail', 'airplane', 'airport', 'air raid', 'airs', 'airspace', 'airstrip', 'airtight', 'air time', 'air traffic controller', 'airwaves', 'airy', 'aisle', 'ajar', 'akin', 'a la carte', 'a la mode', 'alarm', 'alarm clock', 'alarmed', 'alarming', 'alarmingly', 'alarmist', 'alas', 'albeit', 'albino', 'album', 'alcohol', 'alcoholic', 'alcoholism', 'alcove', 'alderman', 'alderwoman', 'ale', 'alert', 'alfalfa', 'algae', 'algebra', 'algebraic', 'algorithm', 'alias', 'alibi', 'alien', 'alienate', 'alienation', 'alight', 'align', 'alignment', 'alike', 'alimony', 'alive', 'alkali', 'alkaline', 'all', 'Allah', 'all-American', 'all-around', 'allay', 'all-clear', 'allegation', 'allege', 'alleged', 'allegedly', 'allegiance', 'allegorical', 'allegory', 'allergic', 'allergy', 'alleviate', 'alleviation', 'alley', 'alliance', 'allied', 'alligator', 'all-inclusive', 'allocate', 'allocation', 'allot', 'allotment', 'all-out', 'allow', 'allowable', 'allowance', 'alloy', 'all right', 'all-star', 'allude', 'allure', 'alluring', 'allusion', 'ally', 'alma mater', 'almanac', 'almighty', 'almond', 'almost', 'alms', 'aloft', 'aloha', 'alone', 'along', 'alongside', 'aloof', 'aloud', 'alphabet', 'alphabetical', 'alphabetically', 'alpine', 'already', 'alright', 'also', 'altar', 'alter', 'alteration', 'altercation', 'alternate', 'alternately', 'alternation', 'alternative', 'alternatively', 'although', 'altitude', 'alto', 'altogether', 'altruism', 'altruistic', 'aluminum', 'alumna', 'alumnae', 'alumni', 'alumnus', 'always', 'AM', 'am', 'A.M.', 'amalgamate', 'amalgamation', 'amass', 'amateur', 'amateurish', 'amaze', 'amazed', 'amazement', 'amazing', 'amazingly', 'ambassador', 'ambassadorial', 'amber', 'ambiance', 'ambidextrous', 'ambiguity', 'ambiguous', 'ambiguously', 'ambition', 'ambitious', 'ambitiously', 'ambivalence', 'ambivalent', 'amble', 'ambulance', 'ambush', 'ameliorate', 'amelioration', 'amen', 'amenable', 'amend', 'amendment', 'amends', 'amenity', 'America', 'American', 'Americana', 'American dream', 'American Indian', 'Americanism', 'amiable', 'amiably', 'amicable', 'amicably', 'amid', 'amidst', 'amiss', 'ammo', 'ammonia', 'ammunition', 'amnesia', 'amnesiac', 'amnesty', 'amoeba', 'amok', 'among', 'amongst', 'amoral', 'amorous', 'amorphous', 'amount', 'amp', 'ampere', 'amphetamine', 'amphibian', 'amphibious']\n"
          ]
        }
      ]
    },
    {
      "cell_type": "code",
      "source": [
        "# a_word_list.txt의 단어 길이별 갯수 구하기\n",
        "len_count = {}\n",
        "for i in map(len, a_words):\n",
        "  len_count[i] = len_count.get(i,0) + 1\n",
        "  # len_count : ket=i , value=len_count + 1\n",
        "len_count"
      ],
      "metadata": {
        "colab": {
          "base_uri": "https://localhost:8080/"
        },
        "id": "KaRtUs0kDmUP",
        "outputId": "ad10f5f9-5d89-4a9d-c14e-c01f0de4b226"
      },
      "execution_count": null,
      "outputs": [
        {
          "output_type": "execute_result",
          "data": {
            "text/plain": [
              "{5: 67,\n",
              " 6: 80,\n",
              " 7: 85,\n",
              " 9: 89,\n",
              " 11: 47,\n",
              " 10: 86,\n",
              " 12: 25,\n",
              " 3: 14,\n",
              " 8: 96,\n",
              " 4: 28,\n",
              " 13: 15,\n",
              " 15: 4,\n",
              " 17: 1,\n",
              " 2: 5,\n",
              " 14: 12,\n",
              " 16: 4,\n",
              " 18: 1,\n",
              " 22: 1}"
            ]
          },
          "metadata": {},
          "execution_count": 38
        }
      ]
    },
    {
      "cell_type": "code",
      "source": [
        "map?\n",
        "# 첫 매개변수 함수, 두 번째 매개 변수 반복 가능한 자료형"
      ],
      "metadata": {
        "id": "JnmSaj7qD8aA"
      },
      "execution_count": null,
      "outputs": []
    },
    {
      "cell_type": "code",
      "source": [
        "# 길이별 단어 분류하기\n",
        "a_word_by_len = {}\n",
        "for word in a_words:\n",
        "  a_word_by_len.setdefault(len(word), []).append(word)\n",
        "  # setdefault 방식을 많이 씀\n",
        "len(a_word_by_len[3])\n",
        "# 단어 길이가 3인 것들의 개수구하기"
      ],
      "metadata": {
        "colab": {
          "base_uri": "https://localhost:8080/"
        },
        "id": "e4bqJXHuE8wY",
        "outputId": "1dda541f-8650-4668-b3e3-2a1cd39098f8"
      },
      "execution_count": null,
      "outputs": [
        {
          "output_type": "execute_result",
          "data": {
            "text/plain": [
              "14"
            ]
          },
          "metadata": {},
          "execution_count": 42
        }
      ]
    },
    {
      "cell_type": "code",
      "source": [
        "from random import shuffle, choice\n",
        "# 시뮬레이션 횟수와 결과를 고르면 됨.\n",
        "# 각각의 확률을 보여주면 됨.\n",
        "\n",
        "doors = [0,0,1]\n",
        "shuffle(doors)\n",
        "doors\n",
        "choice(doors)"
      ],
      "metadata": {
        "colab": {
          "base_uri": "https://localhost:8080/"
        },
        "id": "fCYoaVHHGN2w",
        "outputId": "215946c9-c8f4-47b8-e831-b3b888de2d81"
      },
      "execution_count": null,
      "outputs": [
        {
          "output_type": "execute_result",
          "data": {
            "text/plain": [
              "0"
            ]
          },
          "metadata": {},
          "execution_count": 63
        }
      ]
    },
    {
      "cell_type": "code",
      "source": [
        "shuffle?"
      ],
      "metadata": {
        "id": "foYy3zy6MBJh"
      },
      "execution_count": null,
      "outputs": []
    },
    {
      "cell_type": "code",
      "source": [
        "choice?"
      ],
      "metadata": {
        "id": "y82zI8oDMIap"
      },
      "execution_count": null,
      "outputs": []
    },
    {
      "cell_type": "markdown",
      "source": [
        "## Function"
      ],
      "metadata": {
        "id": "XW65AZ8NlZjZ"
      }
    },
    {
      "cell_type": "code",
      "source": [
        "def say_hello():\n",
        "  print('Hello, world!')"
      ],
      "metadata": {
        "id": "x-ROhDdpid3E"
      },
      "execution_count": null,
      "outputs": []
    },
    {
      "cell_type": "code",
      "source": [
        "say_hello()"
      ],
      "metadata": {
        "colab": {
          "base_uri": "https://localhost:8080/"
        },
        "id": "6No-HgoUlnGN",
        "outputId": "feca8b3b-61f0-4948-eed2-533eca644754"
      },
      "execution_count": null,
      "outputs": [
        {
          "output_type": "stream",
          "name": "stdout",
          "text": [
            "Hello, world!\n"
          ]
        }
      ]
    },
    {
      "cell_type": "code",
      "source": [
        "def say_hello(username):\n",
        "  print(f'Hello, {username}!')"
      ],
      "metadata": {
        "id": "glGm0lj2lp-J"
      },
      "execution_count": null,
      "outputs": []
    },
    {
      "cell_type": "code",
      "source": [
        "say_hello('John')"
      ],
      "metadata": {
        "colab": {
          "base_uri": "https://localhost:8080/"
        },
        "id": "X2mukv93l49C",
        "outputId": "aef18193-0c7f-4f63-81d5-9566c0f04210"
      },
      "execution_count": null,
      "outputs": [
        {
          "output_type": "stream",
          "name": "stdout",
          "text": [
            "Hello, John!\n"
          ]
        }
      ]
    },
    {
      "cell_type": "code",
      "source": [
        "say_hello"
      ],
      "metadata": {
        "colab": {
          "base_uri": "https://localhost:8080/"
        },
        "id": "YjuhouvmmFvP",
        "outputId": "271d2c61-ffa8-47a7-a79e-b15d45aaee17"
      },
      "execution_count": null,
      "outputs": [
        {
          "output_type": "execute_result",
          "data": {
            "text/plain": [
              "<function __main__.say_hello(username)>"
            ]
          },
          "metadata": {},
          "execution_count": 68
        }
      ]
    },
    {
      "cell_type": "code",
      "source": [
        "result = say_hello('John')"
      ],
      "metadata": {
        "colab": {
          "base_uri": "https://localhost:8080/"
        },
        "id": "v8LVQSvDmJ_A",
        "outputId": "4befe237-d204-43b8-f376-287d9771474b"
      },
      "execution_count": null,
      "outputs": [
        {
          "output_type": "stream",
          "name": "stdout",
          "text": [
            "Hello, John!\n"
          ]
        }
      ]
    },
    {
      "cell_type": "code",
      "source": [
        "result"
      ],
      "metadata": {
        "id": "w6BbJ4utmciK"
      },
      "execution_count": null,
      "outputs": []
    },
    {
      "cell_type": "code",
      "source": [
        "type(result)"
      ],
      "metadata": {
        "colab": {
          "base_uri": "https://localhost:8080/"
        },
        "id": "r7NT3Uo4mglC",
        "outputId": "5c4b665f-84dd-471d-912b-19d68c98bd8e"
      },
      "execution_count": null,
      "outputs": [
        {
          "output_type": "execute_result",
          "data": {
            "text/plain": [
              "NoneType"
            ]
          },
          "metadata": {},
          "execution_count": 72
        }
      ]
    },
    {
      "cell_type": "code",
      "source": [
        "def say_hello(username):\n",
        "  return f'Hello, {username}!'"
      ],
      "metadata": {
        "id": "9Xlim7yEmiOy"
      },
      "execution_count": null,
      "outputs": []
    },
    {
      "cell_type": "code",
      "source": [
        "result=say_hello('John')\n",
        "result"
      ],
      "metadata": {
        "colab": {
          "base_uri": "https://localhost:8080/",
          "height": 35
        },
        "id": "2TxqUa9rmvuc",
        "outputId": "c6974734-296d-47ec-a513-40bbd55b96b8"
      },
      "execution_count": null,
      "outputs": [
        {
          "output_type": "execute_result",
          "data": {
            "text/plain": [
              "'Hello, John!'"
            ],
            "application/vnd.google.colaboratory.intrinsic+json": {
              "type": "string"
            }
          },
          "metadata": {},
          "execution_count": 74
        }
      ]
    },
    {
      "cell_type": "code",
      "source": [
        "type(result)"
      ],
      "metadata": {
        "colab": {
          "base_uri": "https://localhost:8080/"
        },
        "id": "1s7RHYihmziD",
        "outputId": "272ecb94-7004-4f03-db74-5ea8b520d86b"
      },
      "execution_count": null,
      "outputs": [
        {
          "output_type": "execute_result",
          "data": {
            "text/plain": [
              "str"
            ]
          },
          "metadata": {},
          "execution_count": 75
        }
      ]
    },
    {
      "cell_type": "code",
      "source": [
        "from random import choice\n",
        "\n",
        "\n",
        "awesum = lambda : choice([0,1]) "
      ],
      "metadata": {
        "id": "ptyxaO7gncc8"
      },
      "execution_count": null,
      "outputs": []
    },
    {
      "cell_type": "code",
      "source": [
        "awesum()"
      ],
      "metadata": {
        "colab": {
          "base_uri": "https://localhost:8080/"
        },
        "id": "zlVppqaBozaC",
        "outputId": "f8cad4ea-142b-46bd-8e02-9111c10a8e5c"
      },
      "execution_count": null,
      "outputs": [
        {
          "output_type": "execute_result",
          "data": {
            "text/plain": [
              "0"
            ]
          },
          "metadata": {},
          "execution_count": 85
        }
      ]
    },
    {
      "cell_type": "code",
      "source": [
        "def id_validation(username):\n",
        "  if username=='admin':\n",
        "    print('You are not admin!')\n",
        "    return\n",
        "  else:\n",
        "    return username\n",
        "id_validation('admin')"
      ],
      "metadata": {
        "colab": {
          "base_uri": "https://localhost:8080/"
        },
        "id": "0kDBYLGqo428",
        "outputId": "d870206f-880e-48ec-fcc3-8afb9c4cf9c4"
      },
      "execution_count": null,
      "outputs": [
        {
          "output_type": "stream",
          "name": "stdout",
          "text": [
            "You are not admin!\n"
          ]
        }
      ]
    },
    {
      "cell_type": "code",
      "source": [
        "def say_hello(username='babo', nick=True):\n",
        "  print(f'Hello, {username}!')\n",
        "  if nick==True:\n",
        "    print(f'but, you are fool.')\n",
        "  else:\n",
        "    print(f'Now, you are not fool.')\n",
        "    return 'smartkid'"
      ],
      "metadata": {
        "id": "-NkWYIg_qSV-"
      },
      "execution_count": null,
      "outputs": []
    },
    {
      "cell_type": "code",
      "source": [
        "say_hello()"
      ],
      "metadata": {
        "colab": {
          "base_uri": "https://localhost:8080/"
        },
        "id": "yT3tafDRrYkW",
        "outputId": "a8081cc4-f81a-4cb2-90c6-7fe6d79ace61"
      },
      "execution_count": null,
      "outputs": [
        {
          "output_type": "stream",
          "name": "stdout",
          "text": [
            "Hello, babo!\n",
            "but, you are fool.\n"
          ]
        }
      ]
    },
    {
      "cell_type": "code",
      "source": [
        "say_hello(username='John', nick=False)"
      ],
      "metadata": {
        "colab": {
          "base_uri": "https://localhost:8080/",
          "height": 71
        },
        "id": "trWqusAAroRt",
        "outputId": "1295c808-0c02-49d7-cabe-27b5b1ecf6c7"
      },
      "execution_count": null,
      "outputs": [
        {
          "output_type": "stream",
          "name": "stdout",
          "text": [
            "Hello, John!\n",
            "Now, you are not fool.\n"
          ]
        },
        {
          "output_type": "execute_result",
          "data": {
            "text/plain": [
              "'smartkid'"
            ],
            "application/vnd.google.colaboratory.intrinsic+json": {
              "type": "string"
            }
          },
          "metadata": {},
          "execution_count": 90
        }
      ]
    },
    {
      "cell_type": "code",
      "source": [
        "# arguments 개수에 대해 정의되지 않음\n",
        "def mul_sum(*args):\n",
        "  result = 0\n",
        "  for i in args:\n",
        "    result += i\n",
        "  return result"
      ],
      "metadata": {
        "id": "LELPQGdSrzL6"
      },
      "execution_count": null,
      "outputs": []
    },
    {
      "cell_type": "code",
      "source": [
        "print(mul_sum(1,2,3))"
      ],
      "metadata": {
        "colab": {
          "base_uri": "https://localhost:8080/"
        },
        "id": "KccUgEPAsdaV",
        "outputId": "7de5a3b6-f235-4b04-c8ac-bbee1ef27c4e"
      },
      "execution_count": null,
      "outputs": [
        {
          "output_type": "stream",
          "name": "stdout",
          "text": [
            "6\n"
          ]
        }
      ]
    },
    {
      "cell_type": "code",
      "source": [
        "print(mul_sum([1,2,3]))"
      ],
      "metadata": {
        "colab": {
          "base_uri": "https://localhost:8080/",
          "height": 281
        },
        "id": "MeSfukKWuJk3",
        "outputId": "36ab080f-ffba-484e-9904-2c9893ce08f7"
      },
      "execution_count": null,
      "outputs": [
        {
          "output_type": "error",
          "ename": "TypeError",
          "evalue": "ignored",
          "traceback": [
            "\u001b[0;31m---------------------------------------------------------------------------\u001b[0m",
            "\u001b[0;31mTypeError\u001b[0m                                 Traceback (most recent call last)",
            "\u001b[0;32m<ipython-input-110-922734794061>\u001b[0m in \u001b[0;36m<module>\u001b[0;34m\u001b[0m\n\u001b[0;32m----> 1\u001b[0;31m \u001b[0mprint\u001b[0m\u001b[0;34m(\u001b[0m\u001b[0mmul_sum\u001b[0m\u001b[0;34m(\u001b[0m\u001b[0;34m[\u001b[0m\u001b[0;36m1\u001b[0m\u001b[0;34m,\u001b[0m\u001b[0;36m2\u001b[0m\u001b[0;34m,\u001b[0m\u001b[0;36m3\u001b[0m\u001b[0;34m]\u001b[0m\u001b[0;34m)\u001b[0m\u001b[0;34m)\u001b[0m\u001b[0;34m\u001b[0m\u001b[0;34m\u001b[0m\u001b[0m\n\u001b[0m",
            "\u001b[0;32m<ipython-input-106-b31e8a0af35e>\u001b[0m in \u001b[0;36mmul_sum\u001b[0;34m(*args)\u001b[0m\n\u001b[1;32m      3\u001b[0m   \u001b[0mresult\u001b[0m \u001b[0;34m=\u001b[0m \u001b[0;36m0\u001b[0m\u001b[0;34m\u001b[0m\u001b[0;34m\u001b[0m\u001b[0m\n\u001b[1;32m      4\u001b[0m   \u001b[0;32mfor\u001b[0m \u001b[0mi\u001b[0m \u001b[0;32min\u001b[0m \u001b[0margs\u001b[0m\u001b[0;34m:\u001b[0m\u001b[0;34m\u001b[0m\u001b[0;34m\u001b[0m\u001b[0m\n\u001b[0;32m----> 5\u001b[0;31m     \u001b[0mresult\u001b[0m \u001b[0;34m+=\u001b[0m \u001b[0mi\u001b[0m\u001b[0;34m\u001b[0m\u001b[0;34m\u001b[0m\u001b[0m\n\u001b[0m\u001b[1;32m      6\u001b[0m   \u001b[0;32mreturn\u001b[0m \u001b[0mresult\u001b[0m\u001b[0;34m\u001b[0m\u001b[0;34m\u001b[0m\u001b[0m\n",
            "\u001b[0;31mTypeError\u001b[0m: unsupported operand type(s) for +=: 'int' and 'list'"
          ]
        }
      ]
    },
    {
      "cell_type": "code",
      "source": [
        "def show_kwargs(**kwargs):\n",
        "  print(str(kwargs), type(kwargs))"
      ],
      "metadata": {
        "id": "VKzj4OI4uL09"
      },
      "execution_count": null,
      "outputs": []
    },
    {
      "cell_type": "code",
      "source": [
        "show_kwargs(a=10, b=\"google\")"
      ],
      "metadata": {
        "colab": {
          "base_uri": "https://localhost:8080/"
        },
        "id": "GBVBa_eOuYOf",
        "outputId": "e23d869a-cb68-48a6-9e4e-ccdfc3ac4096"
      },
      "execution_count": null,
      "outputs": [
        {
          "output_type": "stream",
          "name": "stdout",
          "text": [
            "{'a': 10, 'b': 'google'} <class 'dict'>\n"
          ]
        }
      ]
    },
    {
      "cell_type": "code",
      "source": [
        "def set_url(hostname, port, **query):\n",
        "  read_url = f\"https://{hostname}:{port}?\"\n",
        "  for key in query.keys():\n",
        "    read_url+=f\"{key}={query[key]}&\"\n",
        "  return read_url"
      ],
      "metadata": {
        "id": "nHO4KzUGus5W"
      },
      "execution_count": null,
      "outputs": []
    },
    {
      "cell_type": "code",
      "source": [
        "set_url('localhost', '8888', utm_source=\"google\")"
      ],
      "metadata": {
        "colab": {
          "base_uri": "https://localhost:8080/",
          "height": 35
        },
        "id": "F1T-XcrsvYjQ",
        "outputId": "023f975b-1a2c-4577-c30c-1b2e9488176b"
      },
      "execution_count": null,
      "outputs": [
        {
          "output_type": "execute_result",
          "data": {
            "text/plain": [
              "'https://localhost:8888?utm_source=google&'"
            ],
            "application/vnd.google.colaboratory.intrinsic+json": {
              "type": "string"
            }
          },
          "metadata": {},
          "execution_count": 116
        }
      ]
    },
    {
      "cell_type": "code",
      "source": [
        "a=\"hello\"\n",
        "def glob_test(a):\n",
        "  a += \"world\"\n",
        "  return a\n",
        "glob_test(a)\n",
        "print(a)"
      ],
      "metadata": {
        "colab": {
          "base_uri": "https://localhost:8080/"
        },
        "id": "aEzQrFOiC6So",
        "outputId": "23d4b049-c4cf-4c4f-dc1c-adecef880b92"
      },
      "execution_count": null,
      "outputs": [
        {
          "output_type": "stream",
          "name": "stdout",
          "text": [
            "hello\n"
          ]
        }
      ]
    },
    {
      "cell_type": "code",
      "source": [
        "a= \"hello\"\n",
        "def glob_test(a):\n",
        "  a += \"world\"\n",
        "  return a"
      ],
      "metadata": {
        "id": "wz-Az9PYDUqv"
      },
      "execution_count": null,
      "outputs": []
    },
    {
      "cell_type": "code",
      "source": [
        "glob_test(a)"
      ],
      "metadata": {
        "colab": {
          "base_uri": "https://localhost:8080/",
          "height": 35
        },
        "id": "C7fgb0PnDh4Y",
        "outputId": "21b88df5-f2c4-4b2d-d464-b6c30a7203b4"
      },
      "execution_count": null,
      "outputs": [
        {
          "output_type": "execute_result",
          "data": {
            "text/plain": [
              "'helloworld'"
            ],
            "application/vnd.google.colaboratory.intrinsic+json": {
              "type": "string"
            }
          },
          "metadata": {},
          "execution_count": 121
        }
      ]
    },
    {
      "cell_type": "code",
      "source": [
        "print(a)"
      ],
      "metadata": {
        "colab": {
          "base_uri": "https://localhost:8080/"
        },
        "id": "dLPvRXBADkTo",
        "outputId": "c8eedd95-acd3-4ecd-adfe-39381b075d12"
      },
      "execution_count": null,
      "outputs": [
        {
          "output_type": "stream",
          "name": "stdout",
          "text": [
            "hello\n"
          ]
        }
      ]
    },
    {
      "cell_type": "code",
      "source": [
        "a=\"hello\"\n",
        "def glob_test(x):\n",
        "  x += \"world\"\n",
        "  return x"
      ],
      "metadata": {
        "id": "yMn8FKZlDaL_"
      },
      "execution_count": null,
      "outputs": []
    },
    {
      "cell_type": "code",
      "source": [
        "glob_test(a)"
      ],
      "metadata": {
        "colab": {
          "base_uri": "https://localhost:8080/",
          "height": 35
        },
        "id": "S5FFbLGbDmno",
        "outputId": "ac690e6e-d5d1-4cae-98a9-7e6665bf0f9c"
      },
      "execution_count": null,
      "outputs": [
        {
          "output_type": "execute_result",
          "data": {
            "text/plain": [
              "'helloworld'"
            ],
            "application/vnd.google.colaboratory.intrinsic+json": {
              "type": "string"
            }
          },
          "metadata": {},
          "execution_count": 124
        }
      ]
    },
    {
      "cell_type": "code",
      "source": [
        "print(a)"
      ],
      "metadata": {
        "colab": {
          "base_uri": "https://localhost:8080/"
        },
        "id": "NJ8EcN2rDpjB",
        "outputId": "4bd75013-87f1-4fd8-d02b-2957a9257448"
      },
      "execution_count": null,
      "outputs": [
        {
          "output_type": "stream",
          "name": "stdout",
          "text": [
            "hello\n"
          ]
        }
      ]
    },
    {
      "cell_type": "code",
      "source": [
        "a=3"
      ],
      "metadata": {
        "id": "Jh7Ujs7wE0xp"
      },
      "execution_count": null,
      "outputs": []
    },
    {
      "cell_type": "code",
      "source": [
        "def glob_test2(d):\n",
        "  a += 'world'\n",
        "  d += 1\n",
        "  return a, d"
      ],
      "metadata": {
        "id": "058UMSF5Ekgg"
      },
      "execution_count": null,
      "outputs": []
    },
    {
      "cell_type": "code",
      "source": [
        "glob_test(2)"
      ],
      "metadata": {
        "colab": {
          "base_uri": "https://localhost:8080/",
          "height": 281
        },
        "id": "92LwX7PUEvHH",
        "outputId": "e34fb532-050e-4380-fa85-cd845b529dad"
      },
      "execution_count": null,
      "outputs": [
        {
          "output_type": "error",
          "ename": "TypeError",
          "evalue": "ignored",
          "traceback": [
            "\u001b[0;31m---------------------------------------------------------------------------\u001b[0m",
            "\u001b[0;31mTypeError\u001b[0m                                 Traceback (most recent call last)",
            "\u001b[0;32m<ipython-input-131-27fb0321cdf5>\u001b[0m in \u001b[0;36m<module>\u001b[0;34m\u001b[0m\n\u001b[0;32m----> 1\u001b[0;31m \u001b[0mglob_test\u001b[0m\u001b[0;34m(\u001b[0m\u001b[0;36m2\u001b[0m\u001b[0;34m)\u001b[0m\u001b[0;34m\u001b[0m\u001b[0;34m\u001b[0m\u001b[0m\n\u001b[0m",
            "\u001b[0;32m<ipython-input-123-b35a06c9bee9>\u001b[0m in \u001b[0;36mglob_test\u001b[0;34m(x)\u001b[0m\n\u001b[1;32m      1\u001b[0m \u001b[0ma\u001b[0m\u001b[0;34m=\u001b[0m\u001b[0;34m\"hello\"\u001b[0m\u001b[0;34m\u001b[0m\u001b[0;34m\u001b[0m\u001b[0m\n\u001b[1;32m      2\u001b[0m \u001b[0;32mdef\u001b[0m \u001b[0mglob_test\u001b[0m\u001b[0;34m(\u001b[0m\u001b[0mx\u001b[0m\u001b[0;34m)\u001b[0m\u001b[0;34m:\u001b[0m\u001b[0;34m\u001b[0m\u001b[0;34m\u001b[0m\u001b[0m\n\u001b[0;32m----> 3\u001b[0;31m   \u001b[0mx\u001b[0m \u001b[0;34m+=\u001b[0m \u001b[0;34m\"world\"\u001b[0m\u001b[0;34m\u001b[0m\u001b[0;34m\u001b[0m\u001b[0m\n\u001b[0m\u001b[1;32m      4\u001b[0m   \u001b[0;32mreturn\u001b[0m \u001b[0mx\u001b[0m\u001b[0;34m\u001b[0m\u001b[0;34m\u001b[0m\u001b[0m\n",
            "\u001b[0;31mTypeError\u001b[0m: unsupported operand type(s) for +=: 'int' and 'str'"
          ]
        }
      ]
    },
    {
      "cell_type": "code",
      "source": [
        "a = \"hello\"\n",
        "def glob_test(a):\n",
        "  a+= \"world\"\n",
        "  return a"
      ],
      "metadata": {
        "id": "ZO91FM92E3c-"
      },
      "execution_count": null,
      "outputs": []
    },
    {
      "cell_type": "code",
      "source": [
        "a = glob_test(a)\n",
        "print(a)"
      ],
      "metadata": {
        "colab": {
          "base_uri": "https://localhost:8080/"
        },
        "id": "xYjJfKUzFTy9",
        "outputId": "bab14367-e854-425c-8933-fdf68af6c799"
      },
      "execution_count": null,
      "outputs": [
        {
          "output_type": "stream",
          "name": "stdout",
          "text": [
            "helloworld\n"
          ]
        }
      ]
    },
    {
      "cell_type": "code",
      "source": [
        "# 가급적 global 사용 자제\n",
        "b=\"hello\"\n",
        "def glob_test():\n",
        "  global b\n",
        "  b += \"world\"\n",
        "  return b"
      ],
      "metadata": {
        "id": "gLDQc4JoFdIo"
      },
      "execution_count": null,
      "outputs": []
    },
    {
      "cell_type": "code",
      "source": [
        "glob_test()"
      ],
      "metadata": {
        "colab": {
          "base_uri": "https://localhost:8080/",
          "height": 35
        },
        "id": "Uq3tB8VSFx6w",
        "outputId": "9bfa1362-cdcf-494c-c279-d08cb1b015c0"
      },
      "execution_count": null,
      "outputs": [
        {
          "output_type": "execute_result",
          "data": {
            "text/plain": [
              "'helloworld'"
            ],
            "application/vnd.google.colaboratory.intrinsic+json": {
              "type": "string"
            }
          },
          "metadata": {},
          "execution_count": 139
        }
      ]
    },
    {
      "cell_type": "code",
      "source": [
        "print(b)"
      ],
      "metadata": {
        "colab": {
          "base_uri": "https://localhost:8080/"
        },
        "id": "cI6CCxu_F5c3",
        "outputId": "ffb7698c-edce-4782-a20f-a134d0bb198d"
      },
      "execution_count": null,
      "outputs": [
        {
          "output_type": "stream",
          "name": "stdout",
          "text": [
            "helloworld\n"
          ]
        }
      ]
    },
    {
      "cell_type": "code",
      "source": [
        "del b\n",
        "def glob_test():\n",
        "  global b\n",
        "  b += \"world\"\n",
        "  return b"
      ],
      "metadata": {
        "id": "VN_RbZB9GKTY"
      },
      "execution_count": null,
      "outputs": []
    },
    {
      "cell_type": "code",
      "source": [
        "glob_test()"
      ],
      "metadata": {
        "colab": {
          "base_uri": "https://localhost:8080/",
          "height": 281
        },
        "id": "U2ur2YCUGE9I",
        "outputId": "ab2cedc7-bb4f-4408-b105-46c9e42c5930"
      },
      "execution_count": null,
      "outputs": [
        {
          "output_type": "error",
          "ename": "NameError",
          "evalue": "ignored",
          "traceback": [
            "\u001b[0;31m---------------------------------------------------------------------------\u001b[0m",
            "\u001b[0;31mNameError\u001b[0m                                 Traceback (most recent call last)",
            "\u001b[0;32m<ipython-input-150-7a7fd413b784>\u001b[0m in \u001b[0;36m<module>\u001b[0;34m\u001b[0m\n\u001b[0;32m----> 1\u001b[0;31m \u001b[0mglob_test\u001b[0m\u001b[0;34m(\u001b[0m\u001b[0;34m)\u001b[0m\u001b[0;34m\u001b[0m\u001b[0;34m\u001b[0m\u001b[0m\n\u001b[0m",
            "\u001b[0;32m<ipython-input-149-7f6dab7a4216>\u001b[0m in \u001b[0;36mglob_test\u001b[0;34m()\u001b[0m\n\u001b[1;32m      2\u001b[0m \u001b[0;32mdef\u001b[0m \u001b[0mglob_test\u001b[0m\u001b[0;34m(\u001b[0m\u001b[0;34m)\u001b[0m\u001b[0;34m:\u001b[0m\u001b[0;34m\u001b[0m\u001b[0;34m\u001b[0m\u001b[0m\n\u001b[1;32m      3\u001b[0m   \u001b[0;32mglobal\u001b[0m \u001b[0mb\u001b[0m\u001b[0;34m\u001b[0m\u001b[0;34m\u001b[0m\u001b[0m\n\u001b[0;32m----> 4\u001b[0;31m   \u001b[0mb\u001b[0m \u001b[0;34m+=\u001b[0m \u001b[0;34m\"world\"\u001b[0m\u001b[0;34m\u001b[0m\u001b[0;34m\u001b[0m\u001b[0m\n\u001b[0m\u001b[1;32m      5\u001b[0m   \u001b[0;32mreturn\u001b[0m \u001b[0mb\u001b[0m\u001b[0;34m\u001b[0m\u001b[0;34m\u001b[0m\u001b[0m\n",
            "\u001b[0;31mNameError\u001b[0m: name 'b' is not defined"
          ]
        }
      ]
    },
    {
      "cell_type": "code",
      "source": [
        "def leap_year(year):\n",
        "  if year%100!=0 and year%4==0 or year%400==0:\n",
        "    print(f'{year} is leap year.')\n",
        "    return True\n",
        "  else:\n",
        "    print(f'{year} is normal year.')\n",
        "    return False\n",
        "leap_year(1233)"
      ],
      "metadata": {
        "colab": {
          "base_uri": "https://localhost:8080/"
        },
        "id": "jqNovMHqGZto",
        "outputId": "1be25180-e1f0-4120-a332-e96b95006ad5"
      },
      "execution_count": null,
      "outputs": [
        {
          "output_type": "stream",
          "name": "stdout",
          "text": [
            "1233 is normal year.\n"
          ]
        }
      ]
    },
    {
      "cell_type": "code",
      "source": [
        "# Type annotation\n",
        "\n",
        "def greeting(username: str, age: int) -> str:\n",
        "  \"\"\"\n",
        "  greeting 함수는 인사하는 기능입니다.\n",
        "  이름:str 과 나이:int를 입력하면 친절하게 인사를 건낼 것입니다.\n",
        "  \"\"\"\n",
        "  return f\"Hi {username}. And you are {age} years old.\""
      ],
      "metadata": {
        "id": "TybOKrnzN9g6"
      },
      "execution_count": null,
      "outputs": []
    },
    {
      "cell_type": "code",
      "source": [
        "greeting('Gwan', 56)"
      ],
      "metadata": {
        "colab": {
          "base_uri": "https://localhost:8080/",
          "height": 35
        },
        "id": "_3HZaD10Oqni",
        "outputId": "caf9c436-83f6-49be-d260-7e5519862ad8"
      },
      "execution_count": null,
      "outputs": [
        {
          "output_type": "execute_result",
          "data": {
            "text/plain": [
              "'Hi Gwan. And you are 56 years old.'"
            ],
            "application/vnd.google.colaboratory.intrinsic+json": {
              "type": "string"
            }
          },
          "metadata": {},
          "execution_count": 157
        }
      ]
    },
    {
      "cell_type": "code",
      "source": [
        "greeting(56, 'Gwan')"
      ],
      "metadata": {
        "colab": {
          "base_uri": "https://localhost:8080/",
          "height": 35
        },
        "id": "cSgCMQ_XO02a",
        "outputId": "40d3fc12-5b4b-4d3c-8b54-cd9999e524d8"
      },
      "execution_count": null,
      "outputs": [
        {
          "output_type": "execute_result",
          "data": {
            "text/plain": [
              "'Hi 56. And you are Gwan years old.'"
            ],
            "application/vnd.google.colaboratory.intrinsic+json": {
              "type": "string"
            }
          },
          "metadata": {},
          "execution_count": 158
        }
      ]
    },
    {
      "cell_type": "code",
      "source": [
        "greeting?"
      ],
      "metadata": {
        "id": "wSDn1jeQO3bU"
      },
      "execution_count": null,
      "outputs": []
    },
    {
      "cell_type": "code",
      "source": [
        "query = \"\"\"\n",
        "select *\n",
        "from users;\n",
        "\"\"\""
      ],
      "metadata": {
        "id": "gjwd67slQNmC"
      },
      "execution_count": null,
      "outputs": []
    },
    {
      "cell_type": "code",
      "source": [
        "query ='\n",
        "  안녕\n",
        "'"
      ],
      "metadata": {
        "colab": {
          "base_uri": "https://localhost:8080/",
          "height": 136
        },
        "id": "WS6H7KstQT_5",
        "outputId": "d1fb24af-e32c-4a21-c3f1-83f0e63b0e6a"
      },
      "execution_count": null,
      "outputs": [
        {
          "output_type": "error",
          "ename": "SyntaxError",
          "evalue": "ignored",
          "traceback": [
            "\u001b[0;36m  File \u001b[0;32m\"<ipython-input-164-8d34e5ac3db2>\"\u001b[0;36m, line \u001b[0;32m1\u001b[0m\n\u001b[0;31m    query ='\u001b[0m\n\u001b[0m            ^\u001b[0m\n\u001b[0;31mSyntaxError\u001b[0m\u001b[0;31m:\u001b[0m EOL while scanning string literal\n"
          ]
        }
      ]
    },
    {
      "cell_type": "markdown",
      "source": [
        "# Recursive"
      ],
      "metadata": {
        "id": "nCji01IaRrSi"
      }
    },
    {
      "cell_type": "code",
      "source": [
        "times = int(input(\"How many times want to curse the beast??: \"))\n",
        "def recurse_beast(a):\n",
        "  if a==0:\n",
        "    print(\"curse complete!\")\n",
        "    return\n",
        "  else:\n",
        "    print(f\"Fusion!!!!({a-1} times left)\")\n",
        "    recurse_beast(a-1)\n",
        "recurse_beast(times)"
      ],
      "metadata": {
        "colab": {
          "base_uri": "https://localhost:8080/"
        },
        "id": "NgNCJE8BQdJM",
        "outputId": "7c0a7efe-c003-4946-abec-a5e8ef422741"
      },
      "execution_count": null,
      "outputs": [
        {
          "output_type": "stream",
          "name": "stdout",
          "text": [
            "How many times want to curse the beast??: 5\n",
            "Fusion!!!!(4 times left)\n",
            "Fusion!!!!(3 times left)\n",
            "Fusion!!!!(2 times left)\n",
            "Fusion!!!!(1 times left)\n",
            "Fusion!!!!(0 times left)\n",
            "curse complete!\n"
          ]
        }
      ]
    },
    {
      "cell_type": "code",
      "source": [
        "# Fibonacci Sequence\n",
        "\n",
        "def Fibonacci(num):\n",
        "  if num <2:\n",
        "    return num\n",
        "  else: \n",
        "    return Fibonacci(num-1) + Fibonacci(num-2)\n",
        "Fibonacci(5)"
      ],
      "metadata": {
        "colab": {
          "base_uri": "https://localhost:8080/"
        },
        "id": "l2y406e1SORA",
        "outputId": "d1ab3a3a-79da-4403-c2c6-f1a89874a39d"
      },
      "execution_count": null,
      "outputs": [
        {
          "output_type": "execute_result",
          "data": {
            "text/plain": [
              "5"
            ]
          },
          "metadata": {},
          "execution_count": 221
        }
      ]
    },
    {
      "cell_type": "markdown",
      "source": [
        "# Binet's Formula\n"
      ],
      "metadata": {
        "id": "6wYQH6wcbVE0"
      }
    },
    {
      "cell_type": "code",
      "source": [
        "# 시간복잡도를 줄이는 방법\n",
        "# 수학 공식(Binet 공식) 사용\n",
        "from math import sqrt"
      ],
      "metadata": {
        "id": "cDMMq_1XWUrz"
      },
      "execution_count": null,
      "outputs": []
    },
    {
      "cell_type": "code",
      "source": [
        "def fibo_binet(n):\n",
        "  sqrt_5=sqrt(5)\n",
        "  return int(((1+sqrt_5)**n-(1-sqrt_5)**n) / (2**n*sqrt_5))"
      ],
      "metadata": {
        "id": "MNMeoXUQW1LF"
      },
      "execution_count": null,
      "outputs": []
    },
    {
      "cell_type": "code",
      "source": [
        "fibo_binet(5)"
      ],
      "metadata": {
        "colab": {
          "base_uri": "https://localhost:8080/"
        },
        "id": "KzSh1UbTXL30",
        "outputId": "268eef9c-7eb7-43f9-efd3-f58a356eacd9"
      },
      "execution_count": null,
      "outputs": [
        {
          "output_type": "execute_result",
          "data": {
            "text/plain": [
              "5"
            ]
          },
          "metadata": {},
          "execution_count": 225
        }
      ]
    },
    {
      "cell_type": "code",
      "source": [
        "from time import time"
      ],
      "metadata": {
        "id": "9P5m6Lg_dOW0"
      },
      "execution_count": null,
      "outputs": []
    },
    {
      "cell_type": "code",
      "source": [
        "s_time=time()\n",
        "Fibonacci(35)\n",
        "e_time=time()\n",
        "fibo_time=e_time-s_time\n",
        "print(fibo_time)"
      ],
      "metadata": {
        "colab": {
          "base_uri": "https://localhost:8080/"
        },
        "id": "CtDvue-MdDSk",
        "outputId": "007edaa5-b6a7-46ee-8219-8df40523288f"
      },
      "execution_count": null,
      "outputs": [
        {
          "output_type": "stream",
          "name": "stdout",
          "text": [
            "4.220484733581543\n"
          ]
        }
      ]
    },
    {
      "cell_type": "code",
      "source": [
        "s_time=time()\n",
        "fibo_binet(35)\n",
        "e_time=time()\n",
        "binet_time=e_time-s_time\n",
        "print(binet_time)"
      ],
      "metadata": {
        "colab": {
          "base_uri": "https://localhost:8080/"
        },
        "id": "Epvu3EN_cWpz",
        "outputId": "282691e9-02e1-40a1-afc7-12eea24b39ec"
      },
      "execution_count": null,
      "outputs": [
        {
          "output_type": "stream",
          "name": "stdout",
          "text": [
            "9.512901306152344e-05\n"
          ]
        }
      ]
    },
    {
      "cell_type": "markdown",
      "source": [
        "# Comprehension\n",
        "## List comprehension"
      ],
      "metadata": {
        "id": "zQxR7_cPdcH8"
      }
    },
    {
      "cell_type": "code",
      "source": [
        "old_list = [1, 2, 3, 4, 5]\n",
        "\n",
        "doubled_list=[]\n",
        "for i in old_list:\n",
        "  doubled_list.append(i*2)\n",
        "doubled_list"
      ],
      "metadata": {
        "colab": {
          "base_uri": "https://localhost:8080/"
        },
        "id": "9cQ_c6EAdZgs",
        "outputId": "1d74c68f-578a-42ae-92ca-78e414ac7f8b"
      },
      "execution_count": null,
      "outputs": [
        {
          "output_type": "execute_result",
          "data": {
            "text/plain": [
              "[2, 4, 6, 8, 10]"
            ]
          },
          "metadata": {},
          "execution_count": 233
        }
      ]
    },
    {
      "cell_type": "code",
      "source": [
        "doubled_list = [i*2 for i in old_list]\n",
        "doubled_list"
      ],
      "metadata": {
        "colab": {
          "base_uri": "https://localhost:8080/"
        },
        "id": "syquFTV_eY-u",
        "outputId": "74c07059-cc23-4c92-bfc6-e3642f958218"
      },
      "execution_count": null,
      "outputs": [
        {
          "output_type": "execute_result",
          "data": {
            "text/plain": [
              "[2, 4, 6, 8, 10]"
            ]
          },
          "metadata": {},
          "execution_count": 236
        }
      ]
    },
    {
      "cell_type": "code",
      "source": [
        "old_list = [1, 2, 3, 4, 5]\n",
        "\n",
        "doubled_list=[]\n",
        "for i in old_list:\n",
        "  if i%2==0:\n",
        "    doubled_list.append(i*2)\n",
        "doubled_list"
      ],
      "metadata": {
        "colab": {
          "base_uri": "https://localhost:8080/"
        },
        "id": "0UwMaqP3fx7O",
        "outputId": "b1874e44-f699-42ab-f107-c0cd5fb97cce"
      },
      "execution_count": null,
      "outputs": [
        {
          "output_type": "execute_result",
          "data": {
            "text/plain": [
              "[4, 8]"
            ]
          },
          "metadata": {},
          "execution_count": 240
        }
      ]
    },
    {
      "cell_type": "code",
      "source": [
        "double_list = [i*2 for i in old_list if i%2==0]\n",
        "double_list"
      ],
      "metadata": {
        "colab": {
          "base_uri": "https://localhost:8080/"
        },
        "id": "T6UtUFLjeuHF",
        "outputId": "1840548f-2611-4b36-c671-4083439fdf79"
      },
      "execution_count": null,
      "outputs": [
        {
          "output_type": "execute_result",
          "data": {
            "text/plain": [
              "[4, 8]"
            ]
          },
          "metadata": {},
          "execution_count": 237
        }
      ]
    },
    {
      "cell_type": "code",
      "source": [
        "old_list = [1, 2, 3, 4, 5]\n",
        "\n",
        "doubled_list=[]\n",
        "for i in old_list:\n",
        "  if i%2==0:\n",
        "    doubled_list.append(i*2)\n",
        "  else:\n",
        "    doubled_list.append(i)\n",
        "doubled_list"
      ],
      "metadata": {
        "colab": {
          "base_uri": "https://localhost:8080/"
        },
        "id": "0JnOmajqfbDL",
        "outputId": "fcd72f0f-fa44-42bd-efc0-62f372128707"
      },
      "execution_count": null,
      "outputs": [
        {
          "output_type": "execute_result",
          "data": {
            "text/plain": [
              "[1, 4, 3, 8, 5]"
            ]
          },
          "metadata": {},
          "execution_count": 241
        }
      ]
    },
    {
      "cell_type": "code",
      "source": [
        "doubled_list = [i*2 if i%2==0 else i for i in old_list]\n",
        "doubled_list"
      ],
      "metadata": {
        "colab": {
          "base_uri": "https://localhost:8080/"
        },
        "id": "t7AdqL5Rf8GE",
        "outputId": "5dec4c20-2f69-4ef8-db62-a0518593e107"
      },
      "execution_count": null,
      "outputs": [
        {
          "output_type": "execute_result",
          "data": {
            "text/plain": [
              "[1, 4, 3, 8, 5]"
            ]
          },
          "metadata": {},
          "execution_count": 244
        }
      ]
    },
    {
      "cell_type": "code",
      "source": [
        "old_list = [1, 2, 3, 4, 5]\n",
        "\n",
        "doubled_list=[]\n",
        "for i in old_list:\n",
        "  if i%2==0:\n",
        "    doubled_list.append(i*2)\n",
        "  elif i%3==0:\n",
        "    doubled_list.append(i**2)\n",
        "  else:\n",
        "    doubled_list.append(i)\n",
        "doubled_list"
      ],
      "metadata": {
        "colab": {
          "base_uri": "https://localhost:8080/"
        },
        "id": "QDhKVd2BgWYR",
        "outputId": "1f7b120b-3fad-42ee-e9d8-2d01aae50812"
      },
      "execution_count": null,
      "outputs": [
        {
          "output_type": "execute_result",
          "data": {
            "text/plain": [
              "[1, 4, 9, 8, 5]"
            ]
          },
          "metadata": {},
          "execution_count": 246
        }
      ]
    },
    {
      "cell_type": "code",
      "source": [
        "doubled_list=[\n",
        "    i*2 if i%2==0 else \n",
        "    i**2 if i%3==0 else \n",
        "    i for i in old_list]\n",
        "doubled_list"
      ],
      "metadata": {
        "colab": {
          "base_uri": "https://localhost:8080/"
        },
        "id": "A5i_PLRcgepM",
        "outputId": "86e69cf1-6190-4743-ba41-0193a454d594"
      },
      "execution_count": null,
      "outputs": [
        {
          "output_type": "execute_result",
          "data": {
            "text/plain": [
              "[1, 4, 9, 8, 5]"
            ]
          },
          "metadata": {},
          "execution_count": 245
        }
      ]
    },
    {
      "cell_type": "code",
      "source": [
        "## fizzbuzz list\n",
        "num_range = [i for i in range(1,30+1)]\n",
        "\n",
        "\n",
        "## List comprehension\n",
        "fb_list = ['fizzbuzz' if i%15==0 else\n",
        "           'fizz' if i%3==0 else\n",
        "           'buzz' if i%5==0 else\n",
        "           i for i in num_range] \n",
        "fb_list"
      ],
      "metadata": {
        "colab": {
          "base_uri": "https://localhost:8080/"
        },
        "id": "529BxpnugsFI",
        "outputId": "7ef53c7c-b018-4471-b982-a68a44db568d"
      },
      "execution_count": null,
      "outputs": [
        {
          "output_type": "execute_result",
          "data": {
            "text/plain": [
              "[1,\n",
              " 2,\n",
              " 'fizz',\n",
              " 4,\n",
              " 'buzz',\n",
              " 'fizz',\n",
              " 7,\n",
              " 8,\n",
              " 'fizz',\n",
              " 'buzz',\n",
              " 11,\n",
              " 'fizz',\n",
              " 13,\n",
              " 14,\n",
              " 'fizzbuzz',\n",
              " 16,\n",
              " 17,\n",
              " 'fizz',\n",
              " 19,\n",
              " 'buzz',\n",
              " 'fizz',\n",
              " 22,\n",
              " 23,\n",
              " 'fizz',\n",
              " 'buzz',\n",
              " 26,\n",
              " 'fizz',\n",
              " 28,\n",
              " 29,\n",
              " 'fizzbuzz']"
            ]
          },
          "metadata": {},
          "execution_count": 250
        }
      ]
    },
    {
      "cell_type": "code",
      "source": [
        "## Dictionary Comprehensions\n",
        "old_dict = {1:1, 2:2, 3:3, 4:4}\n",
        "\n",
        "new_dict = {}\n",
        "for k,v in old_dict.items():\n",
        "  new_dict[k]=v*2\n",
        "new_dict"
      ],
      "metadata": {
        "colab": {
          "base_uri": "https://localhost:8080/"
        },
        "id": "FJ7W5LC1jN8s",
        "outputId": "732046d2-9ae3-4e37-81a3-b5db6f367f25"
      },
      "execution_count": null,
      "outputs": [
        {
          "output_type": "execute_result",
          "data": {
            "text/plain": [
              "{1: 2, 2: 4, 3: 6, 4: 8}"
            ]
          },
          "metadata": {},
          "execution_count": 251
        }
      ]
    },
    {
      "cell_type": "code",
      "source": [
        "new_dict={k:v*2 for k,v in old_dict.items()}\n",
        "new_dict"
      ],
      "metadata": {
        "colab": {
          "base_uri": "https://localhost:8080/"
        },
        "id": "Ac35YSL-i0n0",
        "outputId": "60ed0c6a-d731-4417-cec6-818e011286b7"
      },
      "execution_count": null,
      "outputs": [
        {
          "output_type": "execute_result",
          "data": {
            "text/plain": [
              "{1: 2, 2: 4, 3: 6, 4: 8}"
            ]
          },
          "metadata": {},
          "execution_count": 253
        }
      ]
    },
    {
      "cell_type": "code",
      "source": [
        "old_dict = {1:1, 2:2, 3:3, 4:4}\n",
        "\n",
        "new_dict = {}\n",
        "for k,v in old_dict.items():\n",
        "  if k%2==0:\n",
        "    new_dict[k]=v*2\n",
        "new_dict"
      ],
      "metadata": {
        "id": "aclA8YHZjl7E"
      },
      "execution_count": null,
      "outputs": []
    },
    {
      "cell_type": "code",
      "source": [
        "new_dict = {k:v*2 for k,v in old_dict.items() if k%2==0}\n",
        "new_dict"
      ],
      "metadata": {
        "colab": {
          "base_uri": "https://localhost:8080/"
        },
        "id": "-PqkZVBqjx6H",
        "outputId": "2006843c-e562-4d99-e37e-7f7c33cf3066"
      },
      "execution_count": null,
      "outputs": [
        {
          "output_type": "execute_result",
          "data": {
            "text/plain": [
              "{2: 4, 4: 8}"
            ]
          },
          "metadata": {},
          "execution_count": 255
        }
      ]
    },
    {
      "cell_type": "code",
      "source": [],
      "metadata": {
        "id": "mKoX1lSAj-J1"
      },
      "execution_count": null,
      "outputs": []
    }
  ]
}