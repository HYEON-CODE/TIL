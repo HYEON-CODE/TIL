{
  "nbformat": 4,
  "nbformat_minor": 0,
  "metadata": {
    "colab": {
      "provenance": []
    },
    "kernelspec": {
      "name": "python3",
      "display_name": "Python 3"
    },
    "language_info": {
      "name": "python"
    }
  },
  "cells": [
    {
      "cell_type": "markdown",
      "source": [
        "# scope"
      ],
      "metadata": {
        "id": "14zoM4AztkAO"
      }
    },
    {
      "cell_type": "code",
      "execution_count": 43,
      "metadata": {
        "colab": {
          "base_uri": "https://localhost:8080/"
        },
        "id": "bWwigfRJrmI9",
        "outputId": "b13181be-d370-42f6-b3ac-eaf565fc0cd1"
      },
      "outputs": [
        {
          "output_type": "stream",
          "name": "stdout",
          "text": [
            "local Seong-su 139693281125232\n",
            "nonlocal Finance 139693352345072\n",
            "global Finance 139693352345072\n",
            "Fastcampus\n"
          ]
        }
      ],
      "source": [
        "def outer_scope():\n",
        "  def inner_local():\n",
        "    msg = \"Shinhan\"\n",
        "  \n",
        "  def inner_nonlocal():\n",
        "    nonlocal msg\n",
        "    msg = \"Finance\"\n",
        "\n",
        "  def inner_global():\n",
        "    global msg\n",
        "    msg = \"Fastcampus\"\n",
        "  \n",
        "  msg='Seong-su'\n",
        "  inner_local()\n",
        "  print('local', msg, id(msg))\n",
        "  inner_nonlocal()\n",
        "  print('nonlocal', msg, id(msg))\n",
        "  inner_global()\n",
        "  print('global', msg, id(msg))\n",
        "outer_scope()\n",
        "print(msg)"
      ]
    },
    {
      "cell_type": "code",
      "source": [
        "# Class"
      ],
      "metadata": {
        "id": "CCJygCHDvjFZ"
      },
      "execution_count": 44,
      "outputs": []
    },
    {
      "cell_type": "code",
      "source": [
        "# class ClassName:\n",
        "\n",
        "class Hero:\n",
        "  pass"
      ],
      "metadata": {
        "id": "7rDsZ2QWxOGm"
      },
      "execution_count": 45,
      "outputs": []
    },
    {
      "cell_type": "code",
      "source": [
        "IronMan = Hero()"
      ],
      "metadata": {
        "id": "2SDKSz5sxgVG"
      },
      "execution_count": 46,
      "outputs": []
    },
    {
      "cell_type": "code",
      "source": [
        "IronMan"
      ],
      "metadata": {
        "colab": {
          "base_uri": "https://localhost:8080/"
        },
        "id": "XIXk9zCXxiNW",
        "outputId": "a5a2bca7-0c30-4468-be01-97e9632ebecd"
      },
      "execution_count": 47,
      "outputs": [
        {
          "output_type": "execute_result",
          "data": {
            "text/plain": [
              "<__main__.Hero at 0x7f0ce1c67f70>"
            ]
          },
          "metadata": {},
          "execution_count": 47
        }
      ]
    },
    {
      "cell_type": "code",
      "source": [
        "Thor = Hero()"
      ],
      "metadata": {
        "id": "BKVsLTFuxjh3"
      },
      "execution_count": 48,
      "outputs": []
    },
    {
      "cell_type": "code",
      "source": [
        "CaptainAmeriaca = Hero()"
      ],
      "metadata": {
        "id": "AYu9WUZfxmrs"
      },
      "execution_count": 49,
      "outputs": []
    },
    {
      "cell_type": "code",
      "source": [
        "class Hero:\n",
        "  health = 100\n",
        "\n",
        "  def __init__(self, name, weapon):\n",
        "    self.name = name\n",
        "    self.weapon = weapon\n",
        "\n",
        "  def attack(self):\n",
        "    print(f\"attack with {self.weapon}\")\n",
        "\n",
        "IronMan = Hero('Tony Stark', 'Impulse Gun')\n",
        "IronMan.attack()"
      ],
      "metadata": {
        "colab": {
          "base_uri": "https://localhost:8080/"
        },
        "id": "tl0DaDO6xrPT",
        "outputId": "014f8d56-e26e-4685-dd66-69114fc8dc4a"
      },
      "execution_count": 50,
      "outputs": [
        {
          "output_type": "stream",
          "name": "stdout",
          "text": [
            "attack with Impulse Gun\n"
          ]
        }
      ]
    },
    {
      "cell_type": "code",
      "source": [
        "IronMan.name"
      ],
      "metadata": {
        "colab": {
          "base_uri": "https://localhost:8080/",
          "height": 35
        },
        "id": "7a0O4eKXyzQ9",
        "outputId": "5df0742a-812e-4d6f-9d43-ec67b91c5bc7"
      },
      "execution_count": 51,
      "outputs": [
        {
          "output_type": "execute_result",
          "data": {
            "text/plain": [
              "'Tony Stark'"
            ],
            "application/vnd.google.colaboratory.intrinsic+json": {
              "type": "string"
            }
          },
          "metadata": {},
          "execution_count": 51
        }
      ]
    },
    {
      "cell_type": "code",
      "source": [
        "IronMan.health"
      ],
      "metadata": {
        "colab": {
          "base_uri": "https://localhost:8080/"
        },
        "id": "zqDastyDy2Nu",
        "outputId": "8fc9b7f2-637f-4e3e-9628-219a390d04fd"
      },
      "execution_count": 52,
      "outputs": [
        {
          "output_type": "execute_result",
          "data": {
            "text/plain": [
              "100"
            ]
          },
          "metadata": {},
          "execution_count": 52
        }
      ]
    },
    {
      "cell_type": "code",
      "source": [
        "IronMan.weapon"
      ],
      "metadata": {
        "colab": {
          "base_uri": "https://localhost:8080/",
          "height": 35
        },
        "id": "NioJ-jQCy5XZ",
        "outputId": "b6eb9b24-6add-42f8-c287-6f041827e098"
      },
      "execution_count": 53,
      "outputs": [
        {
          "output_type": "execute_result",
          "data": {
            "text/plain": [
              "'Impulse Gun'"
            ],
            "application/vnd.google.colaboratory.intrinsic+json": {
              "type": "string"
            }
          },
          "metadata": {},
          "execution_count": 53
        }
      ]
    },
    {
      "cell_type": "code",
      "source": [
        "class SeeAttributes:\n",
        "  \"\"\"\n",
        "  This is docstring\n",
        "  \"\"\"\n",
        "  inter=ger = 2048\n",
        "\n",
        "  def method(self):\n",
        "    return 'Fastcampus'"
      ],
      "metadata": {
        "id": "riu4iFt2y74_"
      },
      "execution_count": 54,
      "outputs": []
    },
    {
      "cell_type": "code",
      "source": [
        "shinhan=SeeAttributes()"
      ],
      "metadata": {
        "id": "3noXQHHsz3aN"
      },
      "execution_count": 55,
      "outputs": []
    },
    {
      "cell_type": "code",
      "source": [
        "shinhan?"
      ],
      "metadata": {
        "id": "9x4ck3qnz7N4"
      },
      "execution_count": 56,
      "outputs": []
    },
    {
      "cell_type": "code",
      "source": [
        "shinhan.function"
      ],
      "metadata": {
        "colab": {
          "base_uri": "https://localhost:8080/",
          "height": 172
        },
        "id": "tdb1FXf30Du1",
        "outputId": "5f54209f-9fe8-420e-d2cb-dd1d9cc7455b"
      },
      "execution_count": 57,
      "outputs": [
        {
          "output_type": "error",
          "ename": "AttributeError",
          "evalue": "ignored",
          "traceback": [
            "\u001b[0;31m---------------------------------------------------------------------------\u001b[0m",
            "\u001b[0;31mAttributeError\u001b[0m                            Traceback (most recent call last)",
            "\u001b[0;32m<ipython-input-57-93e30296b6c3>\u001b[0m in \u001b[0;36m<module>\u001b[0;34m\u001b[0m\n\u001b[0;32m----> 1\u001b[0;31m \u001b[0mshinhan\u001b[0m\u001b[0;34m.\u001b[0m\u001b[0mfunction\u001b[0m\u001b[0;34m\u001b[0m\u001b[0;34m\u001b[0m\u001b[0m\n\u001b[0m",
            "\u001b[0;31mAttributeError\u001b[0m: 'SeeAttributes' object has no attribute 'function'"
          ]
        }
      ]
    },
    {
      "cell_type": "code",
      "source": [
        "shinhan.integer=16"
      ],
      "metadata": {
        "id": "GS_YzJlF0twx"
      },
      "execution_count": null,
      "outputs": []
    },
    {
      "cell_type": "code",
      "source": [
        "dir(shinhan)"
      ],
      "metadata": {
        "id": "QdGtNGrp0ypx"
      },
      "execution_count": null,
      "outputs": []
    },
    {
      "cell_type": "code",
      "source": [
        "shinhan.__doc__"
      ],
      "metadata": {
        "id": "OOCXSYRN01NT"
      },
      "execution_count": null,
      "outputs": []
    },
    {
      "cell_type": "code",
      "source": [
        "Hulk=Hero('Bruce Banner', 'Radioactive Fist')"
      ],
      "metadata": {
        "id": "SZ5uY49Z03th"
      },
      "execution_count": null,
      "outputs": []
    },
    {
      "cell_type": "code",
      "source": [
        "Hulk.health = 10000"
      ],
      "metadata": {
        "id": "gi1xsUiI1AdB"
      },
      "execution_count": null,
      "outputs": []
    },
    {
      "cell_type": "code",
      "source": [
        "Hulk.health"
      ],
      "metadata": {
        "id": "wCdy2KS01D8V"
      },
      "execution_count": null,
      "outputs": []
    },
    {
      "cell_type": "code",
      "source": [
        "class Hero:\n",
        "  health = 100\n",
        "  inventory = []\n",
        "\n",
        "  def __init__(self, name, weapon):\n",
        "    self.name = name\n",
        "    self.weapon = weapon\n",
        "\n",
        "  def attack(self):\n",
        "    print(f\"attack with {self.weapon}\")\n",
        "  def save_item(self, item):\n",
        "    self.inventory.append(item)"
      ],
      "metadata": {
        "id": "Y8pQCOOp1F9b"
      },
      "execution_count": null,
      "outputs": []
    },
    {
      "cell_type": "code",
      "source": [
        "IronMan = Hero('Tony Stark', 'Impulse gun')"
      ],
      "metadata": {
        "id": "ZUVpCLCm1Uhv"
      },
      "execution_count": 59,
      "outputs": []
    },
    {
      "cell_type": "code",
      "source": [
        "IronMan.save_item(\"Fancy glassed\")"
      ],
      "metadata": {
        "id": "BgG6VNLX1oA0"
      },
      "execution_count": 60,
      "outputs": []
    },
    {
      "cell_type": "code",
      "source": [
        "IronMan.inventory"
      ],
      "metadata": {
        "colab": {
          "base_uri": "https://localhost:8080/"
        },
        "id": "aCzW-1Qa1tYb",
        "outputId": "31b09527-6708-44fd-84f0-621884cabfd1"
      },
      "execution_count": 61,
      "outputs": [
        {
          "output_type": "execute_result",
          "data": {
            "text/plain": [
              "['Fancy glassed']"
            ]
          },
          "metadata": {},
          "execution_count": 61
        }
      ]
    },
    {
      "cell_type": "code",
      "source": [
        "Hulk = Hero('Bruce Banner', 'Radioactive Fist')"
      ],
      "metadata": {
        "id": "xCP4kvCT16uS"
      },
      "execution_count": 62,
      "outputs": []
    },
    {
      "cell_type": "code",
      "source": [
        "Hulk.save_item('pants')"
      ],
      "metadata": {
        "id": "AHabkogs2JQL"
      },
      "execution_count": 63,
      "outputs": []
    },
    {
      "cell_type": "code",
      "source": [
        "Hulk.inventory"
      ],
      "metadata": {
        "colab": {
          "base_uri": "https://localhost:8080/"
        },
        "id": "Xee33oWr2MC3",
        "outputId": "c038db08-d75b-4ef7-8d20-7983be4e9a50"
      },
      "execution_count": 64,
      "outputs": [
        {
          "output_type": "execute_result",
          "data": {
            "text/plain": [
              "['pants']"
            ]
          },
          "metadata": {},
          "execution_count": 64
        }
      ]
    },
    {
      "cell_type": "code",
      "source": [
        "# Call Another Method using self\n",
        "class Hero:\n",
        "  health = 100\n",
        "\n",
        "  def __init__(self, name, weapon):\n",
        "    self.name = name\n",
        "    self.weapon = weapon\n",
        "    self.inventory = []\n",
        "\n",
        "  def attack(self):\n",
        "    print(f\"attack with {self.weapon}\")\n",
        "  def save_item(self, item):\n",
        "    self.inventory.append(item)\n",
        "  def save_item_multiple(self, item, num):\n",
        "    for _ in range(num):\n",
        "      self.save_item(item)\n",
        "  def __del__(self):\n",
        "    print(\"I love you \")"
      ],
      "metadata": {
        "id": "5RrDDS-E2PMx"
      },
      "execution_count": 68,
      "outputs": []
    },
    {
      "cell_type": "code",
      "source": [
        "IronMan = Hero('Tony', 'Gun')\n",
        "IronMan.inventory"
      ],
      "metadata": {
        "colab": {
          "base_uri": "https://localhost:8080/"
        },
        "id": "WY5W9j4b3KBH",
        "outputId": "5af907e1-7045-4c7b-907e-9bb0fb871193"
      },
      "execution_count": 69,
      "outputs": [
        {
          "output_type": "execute_result",
          "data": {
            "text/plain": [
              "[]"
            ]
          },
          "metadata": {},
          "execution_count": 69
        }
      ]
    },
    {
      "cell_type": "code",
      "source": [
        "IronMan.save_item_multiple('$10,000',10)"
      ],
      "metadata": {
        "id": "UuHUFEBoK3D6"
      },
      "execution_count": 70,
      "outputs": []
    },
    {
      "cell_type": "code",
      "source": [
        "IronMan.inventory"
      ],
      "metadata": {
        "colab": {
          "base_uri": "https://localhost:8080/"
        },
        "id": "k3EQYjSDLEM0",
        "outputId": "bcd8faba-5f15-4188-cebe-6bd151c6b16d"
      },
      "execution_count": 72,
      "outputs": [
        {
          "output_type": "execute_result",
          "data": {
            "text/plain": [
              "['$10,000',\n",
              " '$10,000',\n",
              " '$10,000',\n",
              " '$10,000',\n",
              " '$10,000',\n",
              " '$10,000',\n",
              " '$10,000',\n",
              " '$10,000',\n",
              " '$10,000',\n",
              " '$10,000']"
            ]
          },
          "metadata": {},
          "execution_count": 72
        }
      ]
    },
    {
      "cell_type": "code",
      "source": [
        "class Hero:\n",
        "  health = 100\n",
        "\n",
        "  def __init__(self, name, weapon):\n",
        "    self.name = name\n",
        "    self.weapon = weapon\n",
        "    self.inventory = []\n",
        "\n",
        "  def attack(self):\n",
        "    print(f\"attack with {self.weapon}\")\n",
        "  def save_item(self, item):\n",
        "    self.inventory.append(item)\n",
        "  def save_item_multiple(self, item, num):\n",
        "    for _ in range(num):\n",
        "      self.save_item(item)\n",
        "\n",
        "  def save_items(self, *items):\n",
        "    for item in items:\n",
        "      self.save_item(item)\n",
        "\n",
        "  def __del__(self):\n",
        "    print(\"I love you \")"
      ],
      "metadata": {
        "id": "yafBWK1mLLR0"
      },
      "execution_count": 90,
      "outputs": []
    },
    {
      "cell_type": "code",
      "source": [
        "IronMan = Hero('Tony', 'Gun')\n",
        "IronMan.save_items('one','two','three')"
      ],
      "metadata": {
        "id": "x_xmdQ6jLyJV"
      },
      "execution_count": 91,
      "outputs": []
    },
    {
      "cell_type": "code",
      "source": [
        "IronMan.inventory"
      ],
      "metadata": {
        "colab": {
          "base_uri": "https://localhost:8080/"
        },
        "id": "XSpPl2i2Me6P",
        "outputId": "87b031c2-be40-4cb4-da0a-7d069c14a21c"
      },
      "execution_count": 92,
      "outputs": [
        {
          "output_type": "execute_result",
          "data": {
            "text/plain": [
              "['one', 'two', 'three']"
            ]
          },
          "metadata": {},
          "execution_count": 92
        }
      ]
    },
    {
      "cell_type": "markdown",
      "source": [
        "다\n",
        "음\n",
        "조\n",
        "건\n",
        "에\n",
        "맞\n",
        "는\n",
        "cla\n",
        "s\n",
        "s\n",
        "Ele\n",
        "v\n",
        "a\n",
        "t\n",
        "o\n",
        "r\n",
        "를\n",
        "설\n",
        "계\n",
        "하\n",
        "세\n",
        "요. \n",
        "\n",
        "1. 목적(use_for): 화물용, 사람용 \n",
        "\n",
        "2. 고유번호(elevator_id): 임의 배정 \n",
        "\n",
        "3. 공간(space): [] \n",
        "\n",
        "4. 상승(go_up()): 출발층, 목적층\n",
        "\n",
        "5. 하강(go_down()): 출발층, 목적층 \n",
        "\n",
        "6. 한계하중(max_cap) \n",
        "\n",
        "7. 현재하중(cur_cap) \n",
        "\n",
        "8. 현재상태(status): 점검중, 만원"
      ],
      "metadata": {
        "id": "DCMCa9pmPGqT"
      }
    },
    {
      "cell_type": "code",
      "source": [
        "from random import randint\n",
        "\n",
        "\n",
        "class Elevator:\n",
        "\n",
        "  def __init__(self):\n",
        "    self.elevator_id = randint(1,100)\n",
        "    self.space=[] ## 층에 대한 변수\n",
        "    self.weight=0 # 하중의 대한 변수\n",
        "\n",
        "  def go_move(self, start, end): # go_up and go_down\n",
        "    if not self.status():\n",
        "      return\n",
        "    else:\n",
        "      self.space = end # 층 이동\n",
        "    \n",
        "  def status(self, condition):\n",
        "    if condition<0:\n",
        "      print(\"현재 점검중입니다.\")\n",
        "      return 0\n",
        "    elif condition>100: # max_cap=100\n",
        "      print(\"현재 만원입니다.\")\n",
        "      return 0\n",
        "    else:\n",
        "      return 1"
      ],
      "metadata": {
        "id": "S9HhM4phPE-j"
      },
      "execution_count": 94,
      "outputs": []
    },
    {
      "cell_type": "code",
      "source": [
        "class Fried:\n",
        "  def __init__(self, mixture, chicken):\n",
        "    self.mixture = mixture\n",
        "    self.chincken = chicken\n",
        "  def mix(self):\n",
        "    pass\n",
        "  def fry(self):\n",
        "    print(\"Chinken is now frying..\")\n",
        "\n",
        "class Seasoned(Fried):\n",
        "  def __init__(self, mixture, chicken, sauce='red chili'):\n",
        "    Fried.__init__(self, mixture, chicken)\n",
        "    self.sauce = sauce\n",
        "  \n",
        "  def place_into_fryer(self):\n",
        "    print('chicken in now frying for 13min..')\n",
        "\n",
        "  def mix_with_sauce(self, sauce):\n",
        "    print(f\"mix with {self.sauce}\")"
      ],
      "metadata": {
        "id": "gDBOS1FcY8L6"
      },
      "execution_count": 96,
      "outputs": []
    },
    {
      "cell_type": "code",
      "source": [
        "class SmartPhone:\n",
        "  def __init__(self, ap, cam):\n",
        "    self.ap = ap\n",
        "    self.cam = cam\n",
        "  \n",
        "  def open_ai(self):\n",
        "    print(\"I don't have feature like that.\")\n",
        "\n",
        "  def __str__(self):\n",
        "    return f\"I am {self.__class__.__name__}\""
      ],
      "metadata": {
        "id": "oxMBcw0VbWYU"
      },
      "execution_count": 100,
      "outputs": []
    },
    {
      "cell_type": "code",
      "source": [
        "SomePhone=SmartPhone('snapdragon','1MP')\n",
        "SomePhone.open_ai()"
      ],
      "metadata": {
        "colab": {
          "base_uri": "https://localhost:8080/"
        },
        "id": "jAIq5L2ocVuW",
        "outputId": "3fcbfc67-8a10-4b59-e70c-9087f024af93"
      },
      "execution_count": 101,
      "outputs": [
        {
          "output_type": "stream",
          "name": "stdout",
          "text": [
            "I don't have feature like that.\n"
          ]
        }
      ]
    },
    {
      "cell_type": "code",
      "source": [
        "print(SomePhone)"
      ],
      "metadata": {
        "colab": {
          "base_uri": "https://localhost:8080/"
        },
        "id": "KfixOnChdM85",
        "outputId": "9d46a66a-ea2e-4713-f018-eabe9108c484"
      },
      "execution_count": 104,
      "outputs": [
        {
          "output_type": "stream",
          "name": "stdout",
          "text": [
            "I am SmartPhone\n"
          ]
        }
      ]
    },
    {
      "cell_type": "code",
      "source": [
        "class IPhone(SmartPhone):\n",
        "  def __init__(self, ap, cam, touch_id):\n",
        "    # with class name\n",
        "    SmartPhone.__init__(self, ap, cam)\n",
        "    self.touch_id = touch_id\n",
        "\n",
        "  def open_ai(self): # override\n",
        "    print(\"Hey, Siri!\")\n",
        "\n",
        "  def __str__(self):\n",
        "    return super(IPhone, self).__str__()"
      ],
      "metadata": {
        "id": "K87VpWWgdfii"
      },
      "execution_count": 105,
      "outputs": []
    },
    {
      "cell_type": "code",
      "source": [
        "IPhone14 = IPhone('A14', '13MP', 'FaceID')"
      ],
      "metadata": {
        "id": "B-2QMdtMeF0Q"
      },
      "execution_count": 106,
      "outputs": []
    },
    {
      "cell_type": "code",
      "source": [
        "IPhone14.open_ai()"
      ],
      "metadata": {
        "colab": {
          "base_uri": "https://localhost:8080/"
        },
        "id": "CM89WW95eYx0",
        "outputId": "928c0d71-4683-4531-c9b9-985aa54a2b9b"
      },
      "execution_count": 110,
      "outputs": [
        {
          "output_type": "stream",
          "name": "stdout",
          "text": [
            "Hey, Siri!\n"
          ]
        }
      ]
    },
    {
      "cell_type": "code",
      "source": [
        "IPhone14.__str__()"
      ],
      "metadata": {
        "colab": {
          "base_uri": "https://localhost:8080/",
          "height": 35
        },
        "id": "hOA5K89pekGl",
        "outputId": "7a55fdee-94e9-41ba-9107-9ac234804f5a"
      },
      "execution_count": 111,
      "outputs": [
        {
          "output_type": "execute_result",
          "data": {
            "text/plain": [
              "'I am IPhone'"
            ],
            "application/vnd.google.colaboratory.intrinsic+json": {
              "type": "string"
            }
          },
          "metadata": {},
          "execution_count": 111
        }
      ]
    },
    {
      "cell_type": "code",
      "source": [
        "class Galaxy(SmartPhone):\n",
        "  def __init__(self, ap, cam, NFC):\n",
        "    SmartPhone.__init__(self, ap, cam)\n",
        "    self.NFC = NFC\n",
        "\n",
        "  def open_ai(self):\n",
        "    print('Hi, Bixby!')\n",
        "\n",
        "  def __str__(self):\n",
        "    print(f'I am a {self.__class__.__name__}')"
      ],
      "metadata": {
        "id": "aH_T1jJLe013"
      },
      "execution_count": 118,
      "outputs": []
    },
    {
      "cell_type": "code",
      "source": [
        "GalaxyS23 = Galaxy(\"Hummingbird\", \"40MP\", \"Samsung Pay\")"
      ],
      "metadata": {
        "id": "w1LuWrp0fn-n"
      },
      "execution_count": 119,
      "outputs": []
    },
    {
      "cell_type": "code",
      "source": [
        "GalaxyS23.open_ai()"
      ],
      "metadata": {
        "colab": {
          "base_uri": "https://localhost:8080/"
        },
        "id": "ncwZ1lw0gaTw",
        "outputId": "bb2e2eb0-8750-4234-ded2-f066bd148f3e"
      },
      "execution_count": 120,
      "outputs": [
        {
          "output_type": "stream",
          "name": "stdout",
          "text": [
            "Hi, Bixby!\n"
          ]
        }
      ]
    },
    {
      "cell_type": "code",
      "source": [
        "GalaxyS23.__str__()"
      ],
      "metadata": {
        "colab": {
          "base_uri": "https://localhost:8080/"
        },
        "id": "AQrmjPtLgpq7",
        "outputId": "6ad1526f-ed05-47ad-b66b-7237116d684f"
      },
      "execution_count": 122,
      "outputs": [
        {
          "output_type": "stream",
          "name": "stdout",
          "text": [
            "I am a Galaxy\n"
          ]
        }
      ]
    },
    {
      "cell_type": "code",
      "source": [
        "class NoteBook:\n",
        "  def __init__(self, name):\n",
        "    self.name=name\n",
        "  def readbook(self):\n",
        "    print(f\"bookname is {self.name}!\")\n",
        "  def __str__(self):\n",
        "    print(f\"I am a {self.__class__.__name__}\")\n",
        "class MacBook(NoteBook):\n",
        "  def __init__(self, name, func):\n",
        "    NoteBook.__init__(self, name)\n",
        "    self.name=name\n",
        "    self.func=func\n",
        "  def readbook(self):\n",
        "    print(f\"bookname is {self.name}!\")\n",
        "  def __str__(self):\n",
        "    print(f\"I am a {self.__class__.__name__}\")\n",
        "class GalaxyBook(NoteBook):\n",
        "  def __init__(self, name, func):\n",
        "    self.name=name\n",
        "    self.func=func\n",
        "  def readbook(self):\n",
        "    print(f\"bookname is {self.name}!\")\n",
        "  def __str__(self):\n",
        "    print(f\"I am a {self.__class__.__name__}\")"
      ],
      "metadata": {
        "id": "Ew1sbCVOgwTO"
      },
      "execution_count": 123,
      "outputs": []
    },
    {
      "cell_type": "code",
      "source": [
        "class AP:\n",
        "  pass\n",
        "\n",
        "class Cam:\n",
        "  pass\n",
        "\n",
        "class SmartPhone:\n",
        "  def __init__(self):\n",
        "    self.ap = AP()\n",
        "    self.cam = Cam()"
      ],
      "metadata": {
        "id": "FdUr3GzflGgW"
      },
      "execution_count": 124,
      "outputs": []
    },
    {
      "cell_type": "code",
      "source": [
        "class Hammer:\n",
        "  def __init__(self, name):\n",
        "    self.name = name\n",
        "\n",
        "  def fly(self):\n",
        "    print('Flying..')"
      ],
      "metadata": {
        "id": "dUL6z_wOl39k"
      },
      "execution_count": 125,
      "outputs": []
    },
    {
      "cell_type": "code",
      "source": [
        "class Thor:\n",
        "  def __init__(self):\n",
        "    self.weapon = None\n",
        "\n",
        "  def recall_hammer(self, weapon):\n",
        "    self.weapon = weapon\n",
        "\n",
        "  def throw_hammer(self):\n",
        "    weapon = self.weapon\n",
        "    self.weapon = None\n",
        "    return weapon\n",
        "\n",
        "  def fly(self):\n",
        "    if self.weapon:\n",
        "      self.weapon.fly()\n",
        "    else:\n",
        "      print(\"You can't do this\")"
      ],
      "metadata": {
        "id": "6bQe_eWmmH_P"
      },
      "execution_count": 127,
      "outputs": []
    },
    {
      "cell_type": "code",
      "source": [
        "Thor = Thor()\n",
        "molnir = Hammer('molnir')\n",
        "Thor.recall_hammer(molnir)"
      ],
      "metadata": {
        "id": "rAUhlAvqnByP"
      },
      "execution_count": 128,
      "outputs": []
    },
    {
      "cell_type": "code",
      "source": [
        "Thor.fly()"
      ],
      "metadata": {
        "colab": {
          "base_uri": "https://localhost:8080/"
        },
        "id": "WauH1Q8moI3e",
        "outputId": "a00ba6c5-844e-4ccb-fd60-47bf42c3c54f"
      },
      "execution_count": 129,
      "outputs": [
        {
          "output_type": "stream",
          "name": "stdout",
          "text": [
            "Flying..\n"
          ]
        }
      ]
    },
    {
      "cell_type": "code",
      "source": [
        "Thor.throw_hammer()"
      ],
      "metadata": {
        "colab": {
          "base_uri": "https://localhost:8080/"
        },
        "id": "OcR9ZzvRoJzt",
        "outputId": "76270fb5-a76a-4819-9a22-5397f2c6bb0b"
      },
      "execution_count": 130,
      "outputs": [
        {
          "output_type": "execute_result",
          "data": {
            "text/plain": [
              "<__main__.Hammer at 0x7f0ce063a160>"
            ]
          },
          "metadata": {},
          "execution_count": 130
        }
      ]
    },
    {
      "cell_type": "code",
      "source": [
        "Thor.fly()"
      ],
      "metadata": {
        "colab": {
          "base_uri": "https://localhost:8080/"
        },
        "id": "gsDejFQcoL2U",
        "outputId": "b0e94a93-308f-4692-a365-d0e52aaa5a91"
      },
      "execution_count": 131,
      "outputs": [
        {
          "output_type": "stream",
          "name": "stdout",
          "text": [
            "You can't do this\n"
          ]
        }
      ]
    },
    {
      "cell_type": "markdown",
      "source": [
        "# Final Practice\n",
        "## 지금까지 배운 개념을 활용하여 블랙잭 게임의 딜러와 유저를 클래스로 구현하세요"
      ],
      "metadata": {
        "id": "7ijQhPMbonl1"
      }
    },
    {
      "cell_type": "code",
      "source": [
        "from random import randint\n",
        "\n",
        "\n",
        "# Dealer and User\n",
        "class BlackJack:\n",
        "  pass\n",
        "class Human:\n",
        "  def __init__(self, user, money):\n",
        "    self.user=user\n",
        "    self.money=money\n",
        "    self.card=[]\n",
        "  \n",
        "  def betting(self, use_money):\n",
        "    self.draw_card()\n",
        "    if self.card[0]+self.card[1]>21:\n",
        "      print('Bust')\n",
        "    \n",
        "  def show_money(self):\n",
        "    print(f\"My remaining money {money}\")\n",
        "\n",
        "  def draw_card(self):\n",
        "    self.card.append(randint(1,11))\n",
        "    self.card.append(randint(1,11))\n",
        "    return self.card"
      ],
      "metadata": {
        "id": "akM5BEYdoO9H"
      },
      "execution_count": null,
      "outputs": []
    },
    {
      "cell_type": "code",
      "source": [
        "class Language:\n",
        "  # 클래스 변수\n",
        "  mother_lang = \"Spanish\"\n",
        "\n",
        "  def __init__(self):\n",
        "    self.talk = f\"I can speak {self.mother_lang}\"\n",
        "\n",
        "  # 클래스 메소드\n",
        "  @classmethod\n",
        "  def talk_class_method(cls):\n",
        "    return cls()\n",
        "\n",
        "  # staticmethod\n",
        "  @staticmethod\n",
        "  def talk_static_method():\n",
        "    return Language()\n",
        "\n",
        "  def tell_lang(self):\n",
        "    print(self.talk)\n",
        "\n",
        "class English(Language):\n",
        "  mother_lang = \"english\""
      ],
      "metadata": {
        "id": "4vN6YGCqsduU"
      },
      "execution_count": 133,
      "outputs": []
    },
    {
      "cell_type": "code",
      "source": [
        "BiLingual = English()"
      ],
      "metadata": {
        "id": "K9MEohm0uPda"
      },
      "execution_count": 134,
      "outputs": []
    },
    {
      "cell_type": "code",
      "source": [
        "es = BiLingual.talk_static_method()\n",
        "en = BiLingual.talk_class_method()"
      ],
      "metadata": {
        "id": "A_0564lkuX-r"
      },
      "execution_count": 143,
      "outputs": []
    },
    {
      "cell_type": "code",
      "source": [
        "es.tell_lang()"
      ],
      "metadata": {
        "colab": {
          "base_uri": "https://localhost:8080/"
        },
        "id": "rzNfrB81ughO",
        "outputId": "c36c462a-b88f-4d33-f7c8-c1ef348f8af1"
      },
      "execution_count": 144,
      "outputs": [
        {
          "output_type": "stream",
          "name": "stdout",
          "text": [
            "I can speak Spanish\n"
          ]
        }
      ]
    },
    {
      "cell_type": "code",
      "source": [
        "en.tell_lang()"
      ],
      "metadata": {
        "colab": {
          "base_uri": "https://localhost:8080/"
        },
        "id": "uDuuLj5ouiUw",
        "outputId": "6c727931-1866-4b21-a7ed-92568ce5f2d9"
      },
      "execution_count": 145,
      "outputs": [
        {
          "output_type": "stream",
          "name": "stdout",
          "text": [
            "I can speak english\n"
          ]
        }
      ]
    },
    {
      "cell_type": "code",
      "source": [
        "# random은 패키지 , randint, choice, shuffle은 모듈(.py)\n",
        "import random\n",
        "from random import randint, choice, shuffle\n",
        "\n"
      ],
      "metadata": {
        "id": "WXQgKJsRyjfa"
      },
      "execution_count": null,
      "outputs": []
    },
    {
      "cell_type": "code",
      "source": [
        "!pip install requests\n",
        "# 파이썬을 이용해서 웹에 요청을 보내고 응답을 받는 것 "
      ],
      "metadata": {
        "colab": {
          "base_uri": "https://localhost:8080/"
        },
        "id": "bYhwSEgr25Oo",
        "outputId": "604a3980-7789-47ea-9caa-576afc45d546"
      },
      "execution_count": 146,
      "outputs": [
        {
          "output_type": "stream",
          "name": "stdout",
          "text": [
            "Looking in indexes: https://pypi.org/simple, https://us-python.pkg.dev/colab-wheels/public/simple/\n",
            "Requirement already satisfied: requests in /usr/local/lib/python3.8/dist-packages (2.25.1)\n",
            "Requirement already satisfied: certifi>=2017.4.17 in /usr/local/lib/python3.8/dist-packages (from requests) (2022.12.7)\n",
            "Requirement already satisfied: idna<3,>=2.5 in /usr/local/lib/python3.8/dist-packages (from requests) (2.10)\n",
            "Requirement already satisfied: urllib3<1.27,>=1.21.1 in /usr/local/lib/python3.8/dist-packages (from requests) (1.24.3)\n",
            "Requirement already satisfied: chardet<5,>=3.0.2 in /usr/local/lib/python3.8/dist-packages (from requests) (4.0.0)\n"
          ]
        }
      ]
    },
    {
      "cell_type": "code",
      "source": [
        "import requests\n",
        "\n",
        "\n",
        "response = requests.get('https://www.google.com/')\n",
        "response.status_code\n",
        "# 200번은 잘 받았다는 뜻"
      ],
      "metadata": {
        "colab": {
          "base_uri": "https://localhost:8080/"
        },
        "id": "pjveSyls2-ZG",
        "outputId": "23575748-0708-4a12-a07a-2d7a5d5a3cb5"
      },
      "execution_count": 147,
      "outputs": [
        {
          "output_type": "execute_result",
          "data": {
            "text/plain": [
              "200"
            ]
          },
          "metadata": {},
          "execution_count": 147
        }
      ]
    },
    {
      "cell_type": "code",
      "source": [
        "response.text"
      ],
      "metadata": {
        "colab": {
          "base_uri": "https://localhost:8080/",
          "height": 127
        },
        "id": "062ksbz03TVU",
        "outputId": "98048c7d-4aae-4ef2-a23d-df7970a0a8b5"
      },
      "execution_count": 148,
      "outputs": [
        {
          "output_type": "execute_result",
          "data": {
            "text/plain": [
              "'<!doctype html><html itemscope=\"\" itemtype=\"http://schema.org/WebPage\" lang=\"en\"><head><meta content=\"Search the world\\'s information, including webpages, images, videos and more. Google has many special features to help you find exactly what you\\'re looking for.\" name=\"description\"><meta content=\"noodp\" name=\"robots\"><meta content=\"text/html; charset=UTF-8\" http-equiv=\"Content-Type\"><meta content=\"/images/branding/googleg/1x/googleg_standard_color_128dp.png\" itemprop=\"image\"><title>Google</title><script nonce=\"xO47Rg6Wr-mqWaWHS8RyQQ\">(function(){window.google={kEI:\\'gLW_Y8_GAe7RkPIPqPaIwAU\\',kEXPI:\\'0,1359409,6058,207,2415,2389,2316,383,246,5,1129120,1197766,635,105,379985,16114,28684,22431,1361,12311,17588,4998,13228,3847,10622,22741,5081,1593,1279,2742,149,1103,840,1983,4314,3514,606,2023,2298,14669,3227,2845,7,4808,791,23476,4695,1850,15325,432,3,346,1244,1,5445,148,11323,2652,4,1528,2304,7039,3580,16729,1714,5708,7355,16640,1457,15351,1435,5767,2590,4094,4052,3,3541,1,39047,1,3106,2,14022,1649,724,185,157,23024,5679,1021,31121,4568,6259,23418,1252,5835,14967,4333,2204,5280,445,2,2,1,26632,8155,6682,699,2,3,1474,14491,872,9626,10009,6,1922,5784,3995,21390,389,9543,4832,8311,18193,15605,4531,14,82,891,2999,751,3015,1,8857,3692,109,830,683,899,880,3851,1125,3785,5205,3476,138,2287,1741,2328,2350,933,564,2,563,991,781,607,1147,495,427,847,186,42,291,2669,723,926,1410,20,3,261,606,136,98,2026,284,141,1548,953,2219,947,1,314,241,4,6,291,446,2,375,2612,237,1211,1037,605,261,764,184,1479,166,1088,5,801,847,109,462,219,84,129,109,23,101,422,22,3,182,1,577,1279,129,840,18,44,512,2117,1571,1124,640,36,12,105,191,740,1,27,295,118,536,420,4,2,3,589,363,555,933,266,1253,1405,1794,4,19,209,2,357,18,114,68,1992,198,509,240,525,495,1588,9,51,45,58,439,118,1,269,5,1070,5272953,359,112,34,139,18,7,36,7,8798843,3311,141,795,19735,1,1,346,3658,30,23946797,4042142,1964,16672,3406,5595,11,3835,7197,1404516\\',kBL:\\'0vWo\\'};google.sn=\\'webhp\\';google.kHL=\\'en\\';})();(function(){\\nvar f=this||self;var h,k=[];function l(a){for(var b;a&&(!a.getAttribute||!(b=a.getAttribute(\"eid\")));)a=a.parentNode;return b||h}function m(a){for(var b=null;a&&(!a.getAttribute||!(b=a.getAttribute(\"leid\")));)a=a.parentNode;return b}\\nfunction n(a,b,c,d,g){var e=\"\";c||-1!==b.search(\"&ei=\")||(e=\"&ei=\"+l(d),-1===b.search(\"&lei=\")&&(d=m(d))&&(e+=\"&lei=\"+d));d=\"\";!c&&f._cshid&&-1===b.search(\"&cshid=\")&&\"slh\"!==a&&(d=\"&cshid=\"+f._cshid);c=c||\"/\"+(g||\"gen_204\")+\"?atyp=i&ct=\"+a+\"&cad=\"+b+e+\"&zx=\"+Date.now()+d;/^http:/i.test(c)&&\"https:\"===window.location.protocol&&(google.ml&&google.ml(Error(\"a\"),!1,{src:c,glmm:1}),c=\"\");return c};h=google.kEI;google.getEI=l;google.getLEI=m;google.ml=function(){return null};google.log=function(a,b,c,d,g){if(c=n(a,b,c,d,g)){a=new Image;var e=k.length;k[e]=a;a.onerror=a.onload=a.onabort=function(){delete k[e]};a.src=c}};google.logUrl=n;}).call(this);(function(){google.y={};google.sy=[];google.x=function(a,b){if(a)var c=a.id;else{do c=Math.random();while(google.y[c])}google.y[c]=[a,b];return!1};google.sx=function(a){google.sy.push(a)};google.lm=[];google.plm=function(a){google.lm.push.apply(google.lm,a)};google.lq=[];google.load=function(a,b,c){google.lq.push([[a],b,c])};google.loadAll=function(a,b){google.lq.push([a,b])};google.bx=!1;google.lx=function(){};}).call(this);google.f={};(function(){\\ndocument.documentElement.addEventListener(\"submit\",function(b){var a;if(a=b.target){var c=a.getAttribute(\"data-submitfalse\");a=\"1\"===c||\"q\"===c&&!a.elements.q.value?!0:!1}else a=!1;a&&(b.preventDefault(),b.stopPropagation())},!0);document.documentElement.addEventListener(\"click\",function(b){var a;a:{for(a=b.target;a&&a!==document.documentElement;a=a.parentElement)if(\"A\"===a.tagName){a=\"1\"===a.getAttribute(\"data-nohref\");break a}a=!1}a&&b.preventDefault()},!0);}).call(this);</script><style>#gbar,#guser{font-size:13px;padding-top:1px !important;}#gbar{height:22px}#guser{padding-bottom:7px !important;text-align:right}.gbh,.gbd{border-top:1px solid #c9d7f1;font-size:1px}.gbh{height:0;position:absolute;top:24px;width:100%}@media all{.gb1{height:22px;margin-right:.5em;vertical-align:top}#gbar{float:left}}a.gb1,a.gb4{text-decoration:underline !important}a.gb1,a.gb4{color:#00c !important}.gbi .gb4{color:#dd8e27 !important}.gbf .gb4{color:#900 !important}\\n</style><style>body,td,a,p,.h{font-family:arial,sans-serif}body{margin:0;overflow-y:scroll}#gog{padding:3px 8px 0}td{line-height:.8em}.gac_m td{line-height:17px}form{margin-bottom:20px}.h{color:#1558d6}em{font-weight:bold;font-style:normal}.lst{height:25px;width:496px}.gsfi,.lst{font:18px arial,sans-serif}.gsfs{font:17px arial,sans-serif}.ds{display:inline-box;display:inline-block;margin:3px 0 4px;margin-left:4px}input{font-family:inherit}body{background:#fff;color:#000}a{color:#4b11a8;text-decoration:none}a:hover,a:active{text-decoration:underline}.fl a{color:#1558d6}a:visited{color:#4b11a8}.sblc{padding-top:5px}.sblc a{display:block;margin:2px 0;margin-left:13px;font-size:11px}.lsbb{background:#f8f9fa;border:solid 1px;border-color:#dadce0 #70757a #70757a #dadce0;height:30px}.lsbb{display:block}#WqQANb a{display:inline-block;margin:0 12px}.lsb{background:url(/images/nav_logo229.png) 0 -261px repeat-x;border:none;color:#000;cursor:pointer;height:30px;margin:0;outline:0;font:15px arial,sans-serif;vertical-align:top}.lsb:active{background:#dadce0}.lst:focus{outline:none}</style><script nonce=\"xO47Rg6Wr-mqWaWHS8RyQQ\">(function(){window.google.erd={jsr:1,bv:1722,de:true};\\nvar h=this||self;var k,l=null!=(k=h.mei)?k:1,n,p=null!=(n=h.sdo)?n:!0,q=0,r,t=google.erd,v=t.jsr;google.ml=function(a,b,d,m,e){e=void 0===e?2:e;b&&(r=a&&a.message);if(google.dl)return google.dl(a,e,d),null;if(0>v){window.console&&console.error(a,d);if(-2===v)throw a;b=!1}else b=!a||!a.message||\"Error loading script\"===a.message||q>=l&&!m?!1:!0;if(!b)return null;q++;d=d||{};b=encodeURIComponent;var c=\"/gen_204?atyp=i&ei=\"+b(google.kEI);google.kEXPI&&(c+=\"&jexpid=\"+b(google.kEXPI));c+=\"&srcpg=\"+b(google.sn)+\"&jsr=\"+b(t.jsr)+\"&bver=\"+b(t.bv);var f=a.lineNumber;void 0!==f&&(c+=\"&line=\"+f);var g=\\na.fileName;g&&(0<g.indexOf(\"-extension:/\")&&(e=3),c+=\"&script=\"+b(g),f&&g===window.location.href&&(f=document.documentElement.outerHTML.split(\"\\\\n\")[f],c+=\"&cad=\"+b(f?f.substring(0,300):\"No script found.\")));c+=\"&jsel=\"+e;for(var u in d)c+=\"&\",c+=b(u),c+=\"=\",c+=b(d[u]);c=c+\"&emsg=\"+b(a.name+\": \"+a.message);c=c+\"&jsst=\"+b(a.stack||\"N/A\");12288<=c.length&&(c=c.substr(0,12288));a=c;m||google.log(0,\"\",a);return a};window.onerror=function(a,b,d,m,e){r!==a&&(a=e instanceof Error?e:Error(a),void 0===d||\"lineNumber\"in a||(a.lineNumber=d),void 0===b||\"fileName\"in a||(a.fileName=b),google.ml(a,!1,void 0,!1,\"SyntaxError\"===a.name||\"SyntaxError\"===a.message.substring(0,11)||-1!==a.message.indexOf(\"Script error\")?3:0));r=null;p&&q>=l&&(window.onerror=null)};})();</script></head><body bgcolor=\"#fff\"><script nonce=\"xO47Rg6Wr-mqWaWHS8RyQQ\">(function(){var src=\\'/images/nav_logo229.png\\';var iesg=false;document.body.onload = function(){window.n && window.n();if (document.images){new Image().src=src;}\\nif (!iesg){document.f&&document.f.q.focus();document.gbqf&&document.gbqf.q.focus();}\\n}\\n})();</script><div id=\"mngb\"><div id=gbar><nobr><b class=gb1>Search</b> <a class=gb1 href=\"https://www.google.com/imghp?hl=en&tab=wi\">Images</a> <a class=gb1 href=\"https://maps.google.com/maps?hl=en&tab=wl\">Maps</a> <a class=gb1 href=\"https://play.google.com/?hl=en&tab=w8\">Play</a> <a class=gb1 href=\"https://www.youtube.com/?tab=w1\">YouTube</a> <a class=gb1 href=\"https://news.google.com/?tab=wn\">News</a> <a class=gb1 href=\"https://mail.google.com/mail/?tab=wm\">Gmail</a> <a class=gb1 href=\"https://drive.google.com/?tab=wo\">Drive</a> <a class=gb1 style=\"text-decoration:none\" href=\"https://www.google.com/intl/en/about/products?tab=wh\"><u>More</u> &raquo;</a></nobr></div><div id=guser width=100%><nobr><span id=gbn class=gbi></span><span id=gbf class=gbf></span><span id=gbe></span><a href=\"http://www.google.com/history/optout?hl=en\" class=gb4>Web History</a> | <a  href=\"/preferences?hl=en\" class=gb4>Settings</a> | <a target=_top id=gb_70 href=\"https://accounts.google.com/ServiceLogin?hl=en&passive=true&continue=https://www.google.com/&ec=GAZAAQ\" class=gb4>Sign in</a></nobr></div><div class=gbh style=left:0></div><div class=gbh style=right:0></div></div><center><br clear=\"all\" id=\"lgpd\"><div id=\"lga\"><img alt=\"Google\" height=\"92\" src=\"/images/branding/googlelogo/1x/googlelogo_white_background_color_272x92dp.png\" style=\"padding:28px 0 14px\" width=\"272\" id=\"hplogo\"><br><br></div><form action=\"/search\" name=\"f\"><table cellpadding=\"0\" cellspacing=\"0\"><tr valign=\"top\"><td width=\"25%\">&nbsp;</td><td align=\"center\" nowrap=\"\"><input name=\"ie\" value=\"ISO-8859-1\" type=\"hidden\"><input value=\"en\" name=\"hl\" type=\"hidden\"><input name=\"source\" type=\"hidden\" value=\"hp\"><input name=\"biw\" type=\"hidden\"><input name=\"bih\" type=\"hidden\"><div class=\"ds\" style=\"height:32px;margin:4px 0\"><input class=\"lst\" style=\"margin:0;padding:5px 8px 0 6px;vertical-align:top;color:#000\" autocomplete=\"off\" value=\"\" title=\"Google Search\" maxlength=\"2048\" name=\"q\" size=\"57\"></div><br style=\"line-height:0\"><span class=\"ds\"><span class=\"lsbb\"><input class=\"lsb\" value=\"Google Search\" name=\"btnG\" type=\"submit\"></span></span><span class=\"ds\"><span class=\"lsbb\"><input class=\"lsb\" id=\"tsuid_1\" value=\"I\\'m Feeling Lucky\" name=\"btnI\" type=\"submit\"><script nonce=\"xO47Rg6Wr-mqWaWHS8RyQQ\">(function(){var id=\\'tsuid_1\\';document.getElementById(id).onclick = function(){if (this.form.q.value){this.checked = 1;if (this.form.iflsig)this.form.iflsig.disabled = false;}\\nelse top.location=\\'/doodles/\\';};})();</script><input value=\"AK50M_UAAAAAY7_DkLwgI8QfCVspzU2Hpmhbx9qUeqsi\" name=\"iflsig\" type=\"hidden\"></span></span></td><td class=\"fl sblc\" align=\"left\" nowrap=\"\" width=\"25%\"><a href=\"/advanced_search?hl=en&amp;authuser=0\">Advanced search</a></td></tr></table><input id=\"gbv\" name=\"gbv\" type=\"hidden\" value=\"1\"><script nonce=\"xO47Rg6Wr-mqWaWHS8RyQQ\">(function(){var a,b=\"1\";if(document&&document.getElementById)if(\"undefined\"!=typeof XMLHttpRequest)b=\"2\";else if(\"undefined\"!=typeof ActiveXObject){var c,d,e=[\"MSXML2.XMLHTTP.6.0\",\"MSXML2.XMLHTTP.3.0\",\"MSXML2.XMLHTTP\",\"Microsoft.XMLHTTP\"];for(c=0;d=e[c++];)try{new ActiveXObject(d),b=\"2\"}catch(h){}}a=b;if(\"2\"==a&&-1==location.search.indexOf(\"&gbv=2\")){var f=google.gbvu,g=document.getElementById(\"gbv\");g&&(g.value=a);f&&window.setTimeout(function(){location.href=f},0)};}).call(this);</script></form><div id=\"gac_scont\"></div><div style=\"font-size:83%;min-height:3.5em\"><br></div><span id=\"footer\"><div style=\"font-size:10pt\"><div style=\"margin:19px auto;text-align:center\" id=\"WqQANb\"><a href=\"/intl/en/ads/\">Advertising\\xa0Programs</a><a href=\"/services/\">Business Solutions</a><a href=\"/intl/en/about.html\">About Google</a></div></div><p style=\"font-size:8pt;color:#70757a\">&copy; 2023 - <a href=\"/intl/en/policies/privacy/\">Privacy</a> - <a href=\"/intl/en/policies/terms/\">Terms</a></p></span></center><script nonce=\"xO47Rg6Wr-mqWaWHS8RyQQ\">(function(){window.google.cdo={height:757,width:1440};(function(){var a=window.innerWidth,b=window.innerHeight;if(!a||!b){var c=window.document,d=\"CSS1Compat\"==c.compatMode?c.documentElement:c.body;a=d.clientWidth;b=d.clientHeight}a&&b&&(a!=google.cdo.width||b!=google.cdo.height)&&google.log(\"\",\"\",\"/client_204?&atyp=i&biw=\"+a+\"&bih=\"+b+\"&ei=\"+google.kEI);}).call(this);})();</script> <script nonce=\"xO47Rg6Wr-mqWaWHS8RyQQ\">(function(){google.xjs={ck:\\'xjs.hp.L0TU2uVtv08.L.X.O\\',cs:\\'ACT90oFP89nXhPgbhrh-AdQldVFbm6vavw\\',excm:[]};})();</script>  <script nonce=\"xO47Rg6Wr-mqWaWHS8RyQQ\">(function(){var u=\\'/xjs/_/js/k\\\\x3dxjs.hp.en.SwcG8wQQlgg.O/am\\\\x3dAADoBABQAGAB/d\\\\x3d1/ed\\\\x3d1/rs\\\\x3dACT90oHQ0gPKKRFaGP5cT4LAExuyN1ibpg/m\\\\x3dsb_he,d\\';var amd=0;\\nvar d=this||self,e=function(a){return a};var g;var l=function(a,b){this.g=b===h?a:\"\"};l.prototype.toString=function(){return this.g+\"\"};var h={};\\nfunction m(){var a=u;google.lx=function(){p(a);google.lx=function(){}};google.bx||google.lx()}\\nfunction p(a){google.timers&&google.timers.load&&google.tick&&google.tick(\"load\",\"xjsls\");var b=document;var c=\"SCRIPT\";\"application/xhtml+xml\"===b.contentType&&(c=c.toLowerCase());c=b.createElement(c);a=null===a?\"null\":void 0===a?\"undefined\":a;if(void 0===g){b=null;var k=d.trustedTypes;if(k&&k.createPolicy){try{b=k.createPolicy(\"goog#html\",{createHTML:e,createScript:e,createScriptURL:e})}catch(q){d.console&&d.console.error(q.message)}g=b}else g=b}a=(b=g)?b.createScriptURL(a):a;a=new l(a,h);c.src=\\na instanceof l&&a.constructor===l?a.g:\"type_error:TrustedResourceUrl\";var f,n;(f=(a=null==(n=(f=(c.ownerDocument&&c.ownerDocument.defaultView||window).document).querySelector)?void 0:n.call(f,\"script[nonce]\"))?a.nonce||a.getAttribute(\"nonce\")||\"\":\"\")&&c.setAttribute(\"nonce\",f);document.body.appendChild(c);google.psa=!0};google.xjsu=u;setTimeout(function(){0<amd?google.caft(function(){return m()},amd):m()},0);})();function _DumpException(e){throw e;}\\nfunction _F_installCss(c){}\\n(function(){google.jl={blt:\\'none\\',chnk:0,dw:false,dwu:true,emtn:0,end:0,ico:false,ikb:0,ine:false,injs:\\'none\\',injt:0,injth:0,injv2:false,lls:\\'default\\',pdt:0,rep:0,snet:true,strt:0,ubm:false,uwp:true};})();(function(){var pmc=\\'{\\\\x22d\\\\x22:{},\\\\x22sb_he\\\\x22:{\\\\x22agen\\\\x22:true,\\\\x22cgen\\\\x22:true,\\\\x22client\\\\x22:\\\\x22heirloom-hp\\\\x22,\\\\x22dh\\\\x22:true,\\\\x22ds\\\\x22:\\\\x22\\\\x22,\\\\x22fl\\\\x22:true,\\\\x22host\\\\x22:\\\\x22google.com\\\\x22,\\\\x22jsonp\\\\x22:true,\\\\x22msgs\\\\x22:{\\\\x22cibl\\\\x22:\\\\x22Clear Search\\\\x22,\\\\x22dym\\\\x22:\\\\x22Did you mean:\\\\x22,\\\\x22lcky\\\\x22:\\\\x22I\\\\\\\\u0026#39;m Feeling Lucky\\\\x22,\\\\x22lml\\\\x22:\\\\x22Learn more\\\\x22,\\\\x22psrc\\\\x22:\\\\x22This search was removed from your \\\\\\\\u003Ca href\\\\x3d\\\\\\\\\\\\x22/history\\\\\\\\\\\\x22\\\\\\\\u003EWeb History\\\\\\\\u003C/a\\\\\\\\u003E\\\\x22,\\\\x22psrl\\\\x22:\\\\x22Remove\\\\x22,\\\\x22sbit\\\\x22:\\\\x22Search by image\\\\x22,\\\\x22srch\\\\x22:\\\\x22Google Search\\\\x22},\\\\x22ovr\\\\x22:{},\\\\x22pq\\\\x22:\\\\x22\\\\x22,\\\\x22rfs\\\\x22:[],\\\\x22sbas\\\\x22:\\\\x220 3px 8px 0 rgba(0,0,0,0.2),0 0 0 1px rgba(0,0,0,0.08)\\\\x22,\\\\x22stok\\\\x22:\\\\x22zAMJbR8iE9LWsNsymz4CwaX1VAU\\\\x22}}\\';google.pmc=JSON.parse(pmc);})();</script>        </body></html>'"
            ],
            "application/vnd.google.colaboratory.intrinsic+json": {
              "type": "string"
            }
          },
          "metadata": {},
          "execution_count": 148
        }
      ]
    },
    {
      "cell_type": "code",
      "source": [
        "import pandas as pd"
      ],
      "metadata": {
        "id": "69hflsAg3VoJ"
      },
      "execution_count": 150,
      "outputs": []
    },
    {
      "cell_type": "code",
      "source": [
        "pd.from_csv().to_json()"
      ],
      "metadata": {
        "id": "fXJkcqK73vOd"
      },
      "execution_count": null,
      "outputs": []
    }
  ]
}