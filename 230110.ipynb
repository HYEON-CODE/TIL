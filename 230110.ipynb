{
  "nbformat": 4,
  "nbformat_minor": 0,
  "metadata": {
    "colab": {
      "provenance": [],
      "collapsed_sections": [
        "YowloTyWgWgO",
        "J7lGD5mLgRki",
        "K6nYPGZLgMlK",
        "oxMOBcn-J_tV",
        "g8qgw8l5U5fN",
        "RGEwLs16YL6m"
      ]
    },
    "kernelspec": {
      "name": "python3",
      "display_name": "Python 3"
    },
    "language_info": {
      "name": "python"
    }
  },
  "cells": [
    {
      "cell_type": "markdown",
      "source": [
        "# List, Tuple"
      ],
      "metadata": {
        "id": "YowloTyWgWgO"
      }
    },
    {
      "cell_type": "code",
      "execution_count": 2,
      "metadata": {
        "id": "VNi5P_q8vF0G",
        "outputId": "d19a9d3c-79e8-4bd4-9463-e6e343d11879",
        "colab": {
          "base_uri": "https://localhost:8080/"
        }
      },
      "outputs": [
        {
          "output_type": "execute_result",
          "data": {
            "text/plain": [
              "['', '', '', '']"
            ]
          },
          "metadata": {},
          "execution_count": 2
        }
      ],
      "source": [
        "# List\n",
        "animals = ['','','','']\n",
        "animals"
      ]
    },
    {
      "cell_type": "code",
      "source": [
        "# Tuple\n",
        "Cat = ('','','')\n",
        "Cat"
      ],
      "metadata": {
        "colab": {
          "base_uri": "https://localhost:8080/"
        },
        "id": "qw_WBpBrzvy0",
        "outputId": "c8d64714-4571-43b4-daf9-9a25ad4c8ce3"
      },
      "execution_count": 3,
      "outputs": [
        {
          "output_type": "execute_result",
          "data": {
            "text/plain": [
              "('', '', '')"
            ]
          },
          "metadata": {},
          "execution_count": 3
        }
      ]
    },
    {
      "cell_type": "code",
      "source": [
        "animals.append('cat')\n",
        "animals.append('hi')"
      ],
      "metadata": {
        "id": "YJDRS-uZz63r"
      },
      "execution_count": 6,
      "outputs": []
    },
    {
      "cell_type": "code",
      "source": [
        "animals"
      ],
      "metadata": {
        "colab": {
          "base_uri": "https://localhost:8080/"
        },
        "id": "xSc0FGmU0EIk",
        "outputId": "c626702e-394f-43e7-d70d-9a27f1a1de33"
      },
      "execution_count": 7,
      "outputs": [
        {
          "output_type": "execute_result",
          "data": {
            "text/plain": [
              "['', '', '', '', 'cat', 'hi', 'cat', 'hi']"
            ]
          },
          "metadata": {},
          "execution_count": 7
        }
      ]
    },
    {
      "cell_type": "code",
      "source": [
        "animals.insert(1, 'tiger')\n",
        "animals"
      ],
      "metadata": {
        "colab": {
          "base_uri": "https://localhost:8080/"
        },
        "id": "9hILyW1K0Joj",
        "outputId": "93007256-edc7-418a-adf6-2ced5358b936"
      },
      "execution_count": 8,
      "outputs": [
        {
          "output_type": "execute_result",
          "data": {
            "text/plain": [
              "['', 'tiger', '', '', '', 'cat', 'hi', 'cat', 'hi']"
            ]
          },
          "metadata": {},
          "execution_count": 8
        }
      ]
    },
    {
      "cell_type": "code",
      "source": [
        "animals.remove('cat')\n",
        "animals"
      ],
      "metadata": {
        "colab": {
          "base_uri": "https://localhost:8080/"
        },
        "id": "SkoH15a60Qtj",
        "outputId": "0fa9e2aa-c077-4aae-b32b-38ae1294eda2"
      },
      "execution_count": 9,
      "outputs": [
        {
          "output_type": "execute_result",
          "data": {
            "text/plain": [
              "['', 'tiger', '', '', '', 'hi', 'cat', 'hi']"
            ]
          },
          "metadata": {},
          "execution_count": 9
        }
      ]
    },
    {
      "cell_type": "code",
      "source": [
        "escape_animal=animals.pop(5)\n",
        "escape_animal"
      ],
      "metadata": {
        "colab": {
          "base_uri": "https://localhost:8080/",
          "height": 35
        },
        "id": "Tr8XS9WW0XWs",
        "outputId": "1f44a2db-e219-47e4-f23c-bfd655351045"
      },
      "execution_count": 11,
      "outputs": [
        {
          "output_type": "execute_result",
          "data": {
            "text/plain": [
              "'hi'"
            ],
            "application/vnd.google.colaboratory.intrinsic+json": {
              "type": "string"
            }
          },
          "metadata": {},
          "execution_count": 11
        }
      ]
    },
    {
      "cell_type": "code",
      "source": [
        "animals"
      ],
      "metadata": {
        "colab": {
          "base_uri": "https://localhost:8080/"
        },
        "id": "Qjoglix90mGE",
        "outputId": "f895ad73-664d-4fc3-cb39-41a1a95f9691"
      },
      "execution_count": 12,
      "outputs": [
        {
          "output_type": "execute_result",
          "data": {
            "text/plain": [
              "['', 'tiger', '', '', '', 'cat', 'hi']"
            ]
          },
          "metadata": {},
          "execution_count": 12
        }
      ]
    },
    {
      "cell_type": "code",
      "source": [
        "numbers=[5,1,2,7]\n",
        "numbers"
      ],
      "metadata": {
        "colab": {
          "base_uri": "https://localhost:8080/"
        },
        "id": "NfM7j3XJ0qRG",
        "outputId": "2ce84ef4-ecb3-4871-8a5f-b5318f4abd58"
      },
      "execution_count": 13,
      "outputs": [
        {
          "output_type": "execute_result",
          "data": {
            "text/plain": [
              "[5, 1, 2, 7]"
            ]
          },
          "metadata": {},
          "execution_count": 13
        }
      ]
    },
    {
      "cell_type": "code",
      "source": [
        "numbers.sort()\n",
        "numbers"
      ],
      "metadata": {
        "colab": {
          "base_uri": "https://localhost:8080/"
        },
        "id": "ot0H6pcP0u2M",
        "outputId": "b44a7c96-ec8e-4085-e34f-5521421c64a0"
      },
      "execution_count": 14,
      "outputs": [
        {
          "output_type": "execute_result",
          "data": {
            "text/plain": [
              "[1, 2, 5, 7]"
            ]
          },
          "metadata": {},
          "execution_count": 14
        }
      ]
    },
    {
      "cell_type": "code",
      "source": [
        "numbers.reverse()\n",
        "numbers"
      ],
      "metadata": {
        "colab": {
          "base_uri": "https://localhost:8080/"
        },
        "id": "Xah8t73L000U",
        "outputId": "1dded050-8104-479b-87f3-93032a0e47dd"
      },
      "execution_count": 15,
      "outputs": [
        {
          "output_type": "execute_result",
          "data": {
            "text/plain": [
              "[7, 5, 2, 1]"
            ]
          },
          "metadata": {},
          "execution_count": 15
        }
      ]
    },
    {
      "cell_type": "code",
      "source": [
        "print('hi', flush='True')"
      ],
      "metadata": {
        "colab": {
          "base_uri": "https://localhost:8080/"
        },
        "id": "luKfRKAu1q2s",
        "outputId": "560c2ff0-ca2f-44f0-c7b7-f45b5b3003a0"
      },
      "execution_count": 16,
      "outputs": [
        {
          "output_type": "stream",
          "name": "stdout",
          "text": [
            "hi\n"
          ]
        }
      ]
    },
    {
      "cell_type": "code",
      "source": [
        "numbers=[5,1,2,7]\n",
        "numbers.sort(reverse=True)\n",
        "numbers"
      ],
      "metadata": {
        "colab": {
          "base_uri": "https://localhost:8080/"
        },
        "id": "lhftyEvd2mDU",
        "outputId": "d2fa5506-571b-44fd-98fc-acd3e328c9c9"
      },
      "execution_count": 21,
      "outputs": [
        {
          "output_type": "execute_result",
          "data": {
            "text/plain": [
              "[7, 5, 2, 1]"
            ]
          },
          "metadata": {},
          "execution_count": 21
        }
      ]
    },
    {
      "cell_type": "code",
      "source": [
        "numbers.index(2)"
      ],
      "metadata": {
        "colab": {
          "base_uri": "https://localhost:8080/"
        },
        "id": "vxAVb7C53S6W",
        "outputId": "daa18775-c92e-440a-cafd-f4cb410c5383"
      },
      "execution_count": 19,
      "outputs": [
        {
          "output_type": "execute_result",
          "data": {
            "text/plain": [
              "2"
            ]
          },
          "metadata": {},
          "execution_count": 19
        }
      ]
    },
    {
      "cell_type": "code",
      "source": [
        "numbers[:numbers.index(2)]"
      ],
      "metadata": {
        "colab": {
          "base_uri": "https://localhost:8080/"
        },
        "id": "kEElFZCf3YBE",
        "outputId": "62e66d0b-3009-4fee-83dc-40a9a0db0cea"
      },
      "execution_count": 23,
      "outputs": [
        {
          "output_type": "execute_result",
          "data": {
            "text/plain": [
              "[7, 5]"
            ]
          },
          "metadata": {},
          "execution_count": 23
        }
      ]
    },
    {
      "cell_type": "code",
      "source": [
        "numbers"
      ],
      "metadata": {
        "colab": {
          "base_uri": "https://localhost:8080/"
        },
        "id": "QdgWYXgJ4wQ8",
        "outputId": "6bd70033-d30b-4822-89b6-4e2fd33dd040"
      },
      "execution_count": 24,
      "outputs": [
        {
          "output_type": "execute_result",
          "data": {
            "text/plain": [
              "[7, 5, 2, 1]"
            ]
          },
          "metadata": {},
          "execution_count": 24
        }
      ]
    },
    {
      "cell_type": "code",
      "source": [
        "6 in numbers"
      ],
      "metadata": {
        "colab": {
          "base_uri": "https://localhost:8080/"
        },
        "id": "uf7MSRPn4yzU",
        "outputId": "c713425f-9bbc-4a94-c401-666bb527be19"
      },
      "execution_count": 25,
      "outputs": [
        {
          "output_type": "execute_result",
          "data": {
            "text/plain": [
              "False"
            ]
          },
          "metadata": {},
          "execution_count": 25
        }
      ]
    },
    {
      "cell_type": "code",
      "source": [
        "numbers.append(0)"
      ],
      "metadata": {
        "id": "oOzYBqN15TGU"
      },
      "execution_count": 28,
      "outputs": []
    },
    {
      "cell_type": "code",
      "source": [
        "for num in numbers:\n",
        "  if num==0:\n",
        "    print('0 is in numbers')"
      ],
      "metadata": {
        "colab": {
          "base_uri": "https://localhost:8080/"
        },
        "id": "B7fyMY_z40t8",
        "outputId": "08ddf8f0-213b-4874-9d30-0062ecae7743"
      },
      "execution_count": 29,
      "outputs": [
        {
          "output_type": "stream",
          "name": "stdout",
          "text": [
            "0 is in numbers\n"
          ]
        }
      ]
    },
    {
      "cell_type": "code",
      "source": [
        "pet= ('cat', 'dog')\n",
        "pet"
      ],
      "metadata": {
        "colab": {
          "base_uri": "https://localhost:8080/"
        },
        "id": "hs2Cv8b66Mg0",
        "outputId": "730be686-9467-4a06-bdc6-2c0a86c5aaa0"
      },
      "execution_count": 32,
      "outputs": [
        {
          "output_type": "execute_result",
          "data": {
            "text/plain": [
              "('cat', 'dog')"
            ]
          },
          "metadata": {},
          "execution_count": 32
        }
      ]
    },
    {
      "cell_type": "code",
      "source": [
        "print(pet+'1')"
      ],
      "metadata": {
        "colab": {
          "base_uri": "https://localhost:8080/",
          "height": 172
        },
        "id": "W7qOf1SA6OlM",
        "outputId": "fd3dd3ef-4af4-454e-bd3b-e6f550d1d470"
      },
      "execution_count": 34,
      "outputs": [
        {
          "output_type": "error",
          "ename": "TypeError",
          "evalue": "ignored",
          "traceback": [
            "\u001b[0;31m---------------------------------------------------------------------------\u001b[0m",
            "\u001b[0;31mTypeError\u001b[0m                                 Traceback (most recent call last)",
            "\u001b[0;32m<ipython-input-34-2e003196688d>\u001b[0m in \u001b[0;36m<module>\u001b[0;34m\u001b[0m\n\u001b[0;32m----> 1\u001b[0;31m \u001b[0mprint\u001b[0m\u001b[0;34m(\u001b[0m\u001b[0mpet\u001b[0m \u001b[0;34m+\u001b[0m \u001b[0;34m'1'\u001b[0m\u001b[0;34m)\u001b[0m\u001b[0;34m\u001b[0m\u001b[0;34m\u001b[0m\u001b[0m\n\u001b[0m",
            "\u001b[0;31mTypeError\u001b[0m: can only concatenate tuple (not \"str\") to tuple"
          ]
        }
      ]
    },
    {
      "cell_type": "code",
      "source": [
        "pet+Cat"
      ],
      "metadata": {
        "colab": {
          "base_uri": "https://localhost:8080/"
        },
        "id": "kIPEwsC26ijV",
        "outputId": "918e1226-acd6-44c0-edb5-9aacb906bba5"
      },
      "execution_count": 36,
      "outputs": [
        {
          "output_type": "execute_result",
          "data": {
            "text/plain": [
              "('cat', 'dog', '', '', '')"
            ]
          },
          "metadata": {},
          "execution_count": 36
        }
      ]
    },
    {
      "cell_type": "code",
      "source": [
        "x=(1,2)\n",
        "y=(3,4)\n",
        "x,y = y,x\n",
        "print(x,y)"
      ],
      "metadata": {
        "colab": {
          "base_uri": "https://localhost:8080/"
        },
        "id": "6J8Qb_CN60at",
        "outputId": "1026e93c-7e6a-4ac8-b893-f81c441f4617"
      },
      "execution_count": 39,
      "outputs": [
        {
          "output_type": "stream",
          "name": "stdout",
          "text": [
            "(3, 4) (1, 2)\n"
          ]
        }
      ]
    },
    {
      "cell_type": "code",
      "source": [
        "pet=list(pet)\n",
        "pet"
      ],
      "metadata": {
        "colab": {
          "base_uri": "https://localhost:8080/"
        },
        "id": "E3vOZu3R8GqU",
        "outputId": "bcec3ba3-dab8-4f78-da53-4c9596c62e94"
      },
      "execution_count": 40,
      "outputs": [
        {
          "output_type": "execute_result",
          "data": {
            "text/plain": [
              "['cat', 'dog']"
            ]
          },
          "metadata": {},
          "execution_count": 40
        }
      ]
    },
    {
      "cell_type": "code",
      "source": [
        "pet.append('tiger')\n",
        "pet=tuple(pet)\n",
        "pet"
      ],
      "metadata": {
        "colab": {
          "base_uri": "https://localhost:8080/"
        },
        "id": "_QrhXOdw8Kwt",
        "outputId": "8447fa8f-0231-4331-fed6-dbceb09e3b41"
      },
      "execution_count": 42,
      "outputs": [
        {
          "output_type": "execute_result",
          "data": {
            "text/plain": [
              "('cat', 'dog', 'tiger', 'tiger')"
            ]
          },
          "metadata": {},
          "execution_count": 42
        }
      ]
    },
    {
      "cell_type": "code",
      "source": [
        "type(pet)"
      ],
      "metadata": {
        "colab": {
          "base_uri": "https://localhost:8080/"
        },
        "id": "VfOk5Dzk8Q41",
        "outputId": "47f0fb3f-4380-4e4d-bc57-1a1f7fe4fcce"
      },
      "execution_count": 43,
      "outputs": [
        {
          "output_type": "execute_result",
          "data": {
            "text/plain": [
              "tuple"
            ]
          },
          "metadata": {},
          "execution_count": 43
        }
      ]
    },
    {
      "cell_type": "markdown",
      "source": [
        "list와 tuple을 이용하여 다음의 문제를 해결하세요.\n",
        "1. 변수 animals 에 다음의 자료를 입력하세요.\n",
        "rabbit, cat, dog, aligator, tiger, lion\n",
        "2. animals에 새로운 동물을 3마리 추가하세요.\n",
        "3. animals를 알파벳 내림차순으로 정렬하세요.\n",
        "4. 정렬된 animals의 짝수(index 기준) 동물을 even_animals에 할당하세요.\n"
      ],
      "metadata": {
        "id": "_t0lwwsN_N6t"
      }
    },
    {
      "cell_type": "code",
      "source": [
        "# List ver.\n",
        "animals=['rabbit','cat','dog','aligator','tiger','lion']\n",
        "animals.extend(['cow','goat','deer'])\n",
        "animals.sort(reverse=True)\n",
        "even_animals=animals[::2]\n",
        "\n",
        "print(animals)\n",
        "print(even_animals)"
      ],
      "metadata": {
        "colab": {
          "base_uri": "https://localhost:8080/"
        },
        "id": "p48ViyN-_Nw8",
        "outputId": "b1cfc5eb-a516-428c-9073-073f3b4859de"
      },
      "execution_count": 44,
      "outputs": [
        {
          "output_type": "stream",
          "name": "stdout",
          "text": [
            "['tiger', 'rabbit', 'lion', 'goat', 'dog', 'deer', 'cow', 'cat', 'aligator']\n",
            "['tiger', 'lion', 'dog', 'cow', 'aligator']\n"
          ]
        }
      ]
    },
    {
      "cell_type": "code",
      "source": [
        "# Tuple ver.\n",
        "animals=('rabbit','cat','dog','aligator','tiger','lion')\n",
        "add_animals=('cow','goat','deer')\n",
        "animals=animals+add_animals\n",
        "animals=list(animals)\n",
        "animals.sort(reverse=True)\n",
        "animals=tuple(animals)\n",
        "even_animals=animals[::2]\n",
        "\n",
        "print(animals)\n",
        "print(even_animals)"
      ],
      "metadata": {
        "colab": {
          "base_uri": "https://localhost:8080/"
        },
        "id": "nJDFA0axAOzu",
        "outputId": "c039859c-4501-4706-8896-87a4e42281eb"
      },
      "execution_count": 49,
      "outputs": [
        {
          "output_type": "stream",
          "name": "stdout",
          "text": [
            "('tiger', 'rabbit', 'lion', 'goat', 'dog', 'deer', 'cow', 'cat', 'aligator')\n",
            "('tiger', 'lion', 'dog', 'cow', 'aligator')\n"
          ]
        }
      ]
    },
    {
      "cell_type": "markdown",
      "source": [
        "# Dictionary"
      ],
      "metadata": {
        "id": "J7lGD5mLgRki"
      }
    },
    {
      "cell_type": "code",
      "source": [
        "dict1={\n",
        "    'name':'GwanHyeon',\n",
        "    'surname':'Lee',\n",
        "    }\n",
        "dict2=dict([\n",
        "    ('name','John'),\n",
        "    ('surname','Doe'),  \n",
        "])"
      ],
      "metadata": {
        "id": "J17HU6RhAsfw"
      },
      "execution_count": 56,
      "outputs": []
    },
    {
      "cell_type": "code",
      "source": [
        "dict1['name']"
      ],
      "metadata": {
        "colab": {
          "base_uri": "https://localhost:8080/",
          "height": 35
        },
        "id": "Jrednn5nQuHk",
        "outputId": "7ca1cc28-e4ee-4294-a3fd-d48f4d8d642b"
      },
      "execution_count": 55,
      "outputs": [
        {
          "output_type": "execute_result",
          "data": {
            "text/plain": [
              "'GwanHyeon'"
            ],
            "application/vnd.google.colaboratory.intrinsic+json": {
              "type": "string"
            }
          },
          "metadata": {},
          "execution_count": 55
        }
      ]
    },
    {
      "cell_type": "code",
      "source": [
        "dict2['surname']"
      ],
      "metadata": {
        "colab": {
          "base_uri": "https://localhost:8080/",
          "height": 35
        },
        "id": "GxBTGUO2Qza4",
        "outputId": "0e00e042-e1ee-4090-a849-e16dc443ac92"
      },
      "execution_count": 59,
      "outputs": [
        {
          "output_type": "execute_result",
          "data": {
            "text/plain": [
              "'Doe'"
            ],
            "application/vnd.google.colaboratory.intrinsic+json": {
              "type": "string"
            }
          },
          "metadata": {},
          "execution_count": 59
        }
      ]
    },
    {
      "cell_type": "code",
      "source": [
        "dict1['locale']='Seoul, Korea'"
      ],
      "metadata": {
        "id": "DhwuWhQfQ0vT"
      },
      "execution_count": 62,
      "outputs": []
    },
    {
      "cell_type": "code",
      "source": [
        "dict1"
      ],
      "metadata": {
        "colab": {
          "base_uri": "https://localhost:8080/"
        },
        "id": "MzTS6yPBRsI2",
        "outputId": "3082a144-c970-4595-a7f6-986bd9cb132d"
      },
      "execution_count": 63,
      "outputs": [
        {
          "output_type": "execute_result",
          "data": {
            "text/plain": [
              "{'name': 'GwanHyeon', 'surname': 'Lee', 'locale': 'Seoul, Korea'}"
            ]
          },
          "metadata": {},
          "execution_count": 63
        }
      ]
    },
    {
      "cell_type": "code",
      "source": [
        "dict1['email']='1@naver.com'\n",
        "dict1"
      ],
      "metadata": {
        "colab": {
          "base_uri": "https://localhost:8080/"
        },
        "id": "8SEtznCYRyTF",
        "outputId": "445d6250-b168-4a00-f79a-d3fb609f4c25"
      },
      "execution_count": 64,
      "outputs": [
        {
          "output_type": "execute_result",
          "data": {
            "text/plain": [
              "{'name': 'GwanHyeon',\n",
              " 'surname': 'Lee',\n",
              " 'locale': 'Seoul, Korea',\n",
              " 'email': '1@naver.com'}"
            ]
          },
          "metadata": {},
          "execution_count": 64
        }
      ]
    },
    {
      "cell_type": "code",
      "source": [
        "dict1['mid-term'] = {}\n",
        "dict1"
      ],
      "metadata": {
        "colab": {
          "base_uri": "https://localhost:8080/"
        },
        "id": "n8ckQOwtSOhg",
        "outputId": "d1bc892f-87f9-4fab-9bf0-2a30079e43fc"
      },
      "execution_count": 65,
      "outputs": [
        {
          "output_type": "execute_result",
          "data": {
            "text/plain": [
              "{'name': 'GwanHyeon',\n",
              " 'surname': 'Lee',\n",
              " 'locale': 'Seoul, Korea',\n",
              " 'email': '1@naver.com',\n",
              " 'mid-term': {}}"
            ]
          },
          "metadata": {},
          "execution_count": 65
        }
      ]
    },
    {
      "cell_type": "code",
      "source": [
        "dict1['mid-term']['Korean'] = 80"
      ],
      "metadata": {
        "id": "U5kTiA8XSbOW"
      },
      "execution_count": 66,
      "outputs": []
    },
    {
      "cell_type": "code",
      "source": [
        "dict1"
      ],
      "metadata": {
        "colab": {
          "base_uri": "https://localhost:8080/"
        },
        "id": "1yF1NPY_Stsf",
        "outputId": "64f60e89-d9f2-482c-953c-b2505d85444a"
      },
      "execution_count": 67,
      "outputs": [
        {
          "output_type": "execute_result",
          "data": {
            "text/plain": [
              "{'name': 'GwanHyeon',\n",
              " 'surname': 'Lee',\n",
              " 'locale': 'Seoul, Korea',\n",
              " 'email': '1@naver.com',\n",
              " 'mid-term': {'Korean': 80}}"
            ]
          },
          "metadata": {},
          "execution_count": 67
        }
      ]
    },
    {
      "cell_type": "code",
      "source": [
        "dict1['mid-term']['Math'] = 30\n",
        "dict1['mid-term']['English'] = 50\n",
        "dict1['mid-term']['Science'] = [10,40,30,50]\n",
        "dict1"
      ],
      "metadata": {
        "colab": {
          "base_uri": "https://localhost:8080/"
        },
        "id": "lVyKnwGcSwU9",
        "outputId": "06df3a11-5fd5-490e-bbad-092bb2f7c6d7"
      },
      "execution_count": 68,
      "outputs": [
        {
          "output_type": "execute_result",
          "data": {
            "text/plain": [
              "{'name': 'GwanHyeon',\n",
              " 'surname': 'Lee',\n",
              " 'locale': 'Seoul, Korea',\n",
              " 'email': '1@naver.com',\n",
              " 'mid-term': {'Korean': 80,\n",
              "  'Math': 30,\n",
              "  'English': 50,\n",
              "  'Science': [10, 40, 30, 50]}}"
            ]
          },
          "metadata": {},
          "execution_count": 68
        }
      ]
    },
    {
      "cell_type": "code",
      "source": [
        "dict1['mid-term']['English'] = 70\n",
        "dict1 \n",
        "# 딕셔너리 키 값 중복이 안되기 때문에 값을 수정 가능"
      ],
      "metadata": {
        "colab": {
          "base_uri": "https://localhost:8080/"
        },
        "id": "rUmGmsd5TW7W",
        "outputId": "b4c19a72-fa92-4200-c33f-00d624a69990"
      },
      "execution_count": 69,
      "outputs": [
        {
          "output_type": "execute_result",
          "data": {
            "text/plain": [
              "{'name': 'GwanHyeon',\n",
              " 'surname': 'Lee',\n",
              " 'locale': 'Seoul, Korea',\n",
              " 'email': '1@naver.com',\n",
              " 'mid-term': {'Korean': 80,\n",
              "  'Math': 30,\n",
              "  'English': 70,\n",
              "  'Science': [10, 40, 30, 50]}}"
            ]
          },
          "metadata": {},
          "execution_count": 69
        }
      ]
    },
    {
      "cell_type": "code",
      "source": [
        "del dict1['email']\n",
        "dict1"
      ],
      "metadata": {
        "colab": {
          "base_uri": "https://localhost:8080/"
        },
        "id": "ilwI-s_4Tdvl",
        "outputId": "214275db-2da0-4e0e-d907-42caf202db60"
      },
      "execution_count": 70,
      "outputs": [
        {
          "output_type": "execute_result",
          "data": {
            "text/plain": [
              "{'name': 'GwanHyeon',\n",
              " 'surname': 'Lee',\n",
              " 'locale': 'Seoul, Korea',\n",
              " 'mid-term': {'Korean': 80,\n",
              "  'Math': 30,\n",
              "  'English': 70,\n",
              "  'Science': [10, 40, 30, 50]}}"
            ]
          },
          "metadata": {},
          "execution_count": 70
        }
      ]
    },
    {
      "cell_type": "code",
      "source": [
        "dict1.keys()"
      ],
      "metadata": {
        "colab": {
          "base_uri": "https://localhost:8080/"
        },
        "id": "HKZGdKzmUAIL",
        "outputId": "4bf2b19b-e507-49ef-e9e8-97aaa3d0e7bc"
      },
      "execution_count": 71,
      "outputs": [
        {
          "output_type": "execute_result",
          "data": {
            "text/plain": [
              "dict_keys(['name', 'surname', 'locale', 'mid-term'])"
            ]
          },
          "metadata": {},
          "execution_count": 71
        }
      ]
    },
    {
      "cell_type": "code",
      "source": [
        "dict1.values()"
      ],
      "metadata": {
        "colab": {
          "base_uri": "https://localhost:8080/"
        },
        "id": "oS3AwZS4UISA",
        "outputId": "3963350f-5325-4006-91c4-e77f6bc0da07"
      },
      "execution_count": 72,
      "outputs": [
        {
          "output_type": "execute_result",
          "data": {
            "text/plain": [
              "dict_values(['GwanHyeon', 'Lee', 'Seoul, Korea', {'Korean': 80, 'Math': 30, 'English': 70, 'Science': [10, 40, 30, 50]}])"
            ]
          },
          "metadata": {},
          "execution_count": 72
        }
      ]
    },
    {
      "cell_type": "code",
      "source": [
        "dict1.items()"
      ],
      "metadata": {
        "colab": {
          "base_uri": "https://localhost:8080/"
        },
        "id": "g6Jy5O_vUJ74",
        "outputId": "3675d278-442d-47e2-afde-e32b8e01fe47"
      },
      "execution_count": 73,
      "outputs": [
        {
          "output_type": "execute_result",
          "data": {
            "text/plain": [
              "dict_items([('name', 'GwanHyeon'), ('surname', 'Lee'), ('locale', 'Seoul, Korea'), ('mid-term', {'Korean': 80, 'Math': 30, 'English': 70, 'Science': [10, 40, 30, 50]})])"
            ]
          },
          "metadata": {},
          "execution_count": 73
        }
      ]
    },
    {
      "cell_type": "code",
      "source": [
        "dict1.pop('surname')"
      ],
      "metadata": {
        "colab": {
          "base_uri": "https://localhost:8080/",
          "height": 35
        },
        "id": "ueC07uJYUV-6",
        "outputId": "fda92d52-b96f-4abf-e10d-6173507002d8"
      },
      "execution_count": 74,
      "outputs": [
        {
          "output_type": "execute_result",
          "data": {
            "text/plain": [
              "'Lee'"
            ],
            "application/vnd.google.colaboratory.intrinsic+json": {
              "type": "string"
            }
          },
          "metadata": {},
          "execution_count": 74
        }
      ]
    },
    {
      "cell_type": "code",
      "source": [
        "dict1"
      ],
      "metadata": {
        "colab": {
          "base_uri": "https://localhost:8080/"
        },
        "id": "ytmSbj6mUkKU",
        "outputId": "e18572df-8e3d-4b84-e6f2-fc2afdc5ba40"
      },
      "execution_count": 75,
      "outputs": [
        {
          "output_type": "execute_result",
          "data": {
            "text/plain": [
              "{'name': 'GwanHyeon',\n",
              " 'locale': 'Seoul, Korea',\n",
              " 'mid-term': {'Korean': 80,\n",
              "  'Math': 30,\n",
              "  'English': 70,\n",
              "  'Science': [10, 40, 30, 50]}}"
            ]
          },
          "metadata": {},
          "execution_count": 75
        }
      ]
    },
    {
      "cell_type": "code",
      "source": [
        "dict1.popitem()"
      ],
      "metadata": {
        "colab": {
          "base_uri": "https://localhost:8080/"
        },
        "id": "osWFDbNxUn-V",
        "outputId": "5f2e339e-8427-4e1c-8f8e-13bc8c458758"
      },
      "execution_count": 77,
      "outputs": [
        {
          "output_type": "execute_result",
          "data": {
            "text/plain": [
              "('mid-term',\n",
              " {'Korean': 80, 'Math': 30, 'English': 70, 'Science': [10, 40, 30, 50]})"
            ]
          },
          "metadata": {},
          "execution_count": 77
        }
      ]
    },
    {
      "cell_type": "code",
      "source": [
        "dict1"
      ],
      "metadata": {
        "colab": {
          "base_uri": "https://localhost:8080/"
        },
        "id": "zBkJ4qtyVGT1",
        "outputId": "56b2b90a-b894-4e5f-e622-68083162cad1"
      },
      "execution_count": 78,
      "outputs": [
        {
          "output_type": "execute_result",
          "data": {
            "text/plain": [
              "{'name': 'GwanHyeon', 'locale': 'Seoul, Korea'}"
            ]
          },
          "metadata": {},
          "execution_count": 78
        }
      ]
    },
    {
      "cell_type": "code",
      "source": [
        "dict1['English']"
      ],
      "metadata": {
        "colab": {
          "base_uri": "https://localhost:8080/",
          "height": 172
        },
        "id": "2nSzNCQLVLRz",
        "outputId": "e38dd5b2-ea60-46d1-9351-64f80d72ee63"
      },
      "execution_count": 79,
      "outputs": [
        {
          "output_type": "error",
          "ename": "KeyError",
          "evalue": "ignored",
          "traceback": [
            "\u001b[0;31m---------------------------------------------------------------------------\u001b[0m",
            "\u001b[0;31mKeyError\u001b[0m                                  Traceback (most recent call last)",
            "\u001b[0;32m<ipython-input-79-6fc69c7657fb>\u001b[0m in \u001b[0;36m<module>\u001b[0;34m\u001b[0m\n\u001b[0;32m----> 1\u001b[0;31m \u001b[0mdict1\u001b[0m\u001b[0;34m[\u001b[0m\u001b[0;34m'English'\u001b[0m\u001b[0;34m]\u001b[0m\u001b[0;34m\u001b[0m\u001b[0;34m\u001b[0m\u001b[0m\n\u001b[0m",
            "\u001b[0;31mKeyError\u001b[0m: 'English'"
          ]
        }
      ]
    },
    {
      "cell_type": "code",
      "source": [
        "dict1.get('English', 0)\n",
        "# get으로 English값을 찾는데 English가 없으면 뒤에 값 반환(defalut는 공백)"
      ],
      "metadata": {
        "colab": {
          "base_uri": "https://localhost:8080/"
        },
        "id": "1uK_U81hV7Mf",
        "outputId": "96e7c7c3-22f1-45e2-d381-415b5db0efb6"
      },
      "execution_count": 80,
      "outputs": [
        {
          "output_type": "execute_result",
          "data": {
            "text/plain": [
              "0"
            ]
          },
          "metadata": {},
          "execution_count": 80
        }
      ]
    },
    {
      "cell_type": "code",
      "source": [
        "dict1.setdefault('English',[])\n",
        "# 키 값이 존재하는 경우에는 키값 호출, 만약 아니라면 []를 값으로 설정"
      ],
      "metadata": {
        "colab": {
          "base_uri": "https://localhost:8080/"
        },
        "id": "Jgl0dlW5V_h1",
        "outputId": "8831333a-e1a8-467f-89ac-d0b6ec7c9e34"
      },
      "execution_count": 81,
      "outputs": [
        {
          "output_type": "execute_result",
          "data": {
            "text/plain": [
              "[]"
            ]
          },
          "metadata": {},
          "execution_count": 81
        }
      ]
    },
    {
      "cell_type": "code",
      "source": [
        "dict1"
      ],
      "metadata": {
        "colab": {
          "base_uri": "https://localhost:8080/"
        },
        "id": "EWf5YQBFWEWt",
        "outputId": "715b49ac-cc15-4fcf-b864-736148ef5cf9"
      },
      "execution_count": 82,
      "outputs": [
        {
          "output_type": "execute_result",
          "data": {
            "text/plain": [
              "{'name': 'GwanHyeon', 'locale': 'Seoul, Korea', 'English': []}"
            ]
          },
          "metadata": {},
          "execution_count": 82
        }
      ]
    },
    {
      "cell_type": "code",
      "source": [
        "dict1.get('eng')"
      ],
      "metadata": {
        "id": "wz9Ji4UdWMOl"
      },
      "execution_count": 83,
      "outputs": []
    },
    {
      "cell_type": "code",
      "source": [
        "len(dict1)"
      ],
      "metadata": {
        "colab": {
          "base_uri": "https://localhost:8080/"
        },
        "id": "Wzyy4mjWWm1F",
        "outputId": "e10b5a2a-a64d-4f83-a1b1-2d2c7673f6b8"
      },
      "execution_count": 86,
      "outputs": [
        {
          "output_type": "execute_result",
          "data": {
            "text/plain": [
              "3"
            ]
          },
          "metadata": {},
          "execution_count": 86
        }
      ]
    },
    {
      "cell_type": "code",
      "source": [
        "dict1.update({'name'})                                                                                                                                                                                                                                                                                                                                                                                                                                                     "
      ],
      "metadata": {
        "colab": {
          "base_uri": "https://localhost:8080/",
          "height": 172
        },
        "id": "d0_TypaTY70u",
        "outputId": "eccc2538-b9b3-4690-97f7-8436583cbc79"
      },
      "execution_count": 87,
      "outputs": [
        {
          "output_type": "error",
          "ename": "AttributeError",
          "evalue": "ignored",
          "traceback": [
            "\u001b[0;31m---------------------------------------------------------------------------\u001b[0m",
            "\u001b[0;31mAttributeError\u001b[0m                            Traceback (most recent call last)",
            "\u001b[0;32m<ipython-input-87-0ea7f8e6d1de>\u001b[0m in \u001b[0;36m<module>\u001b[0;34m\u001b[0m\n\u001b[0;32m----> 1\u001b[0;31m \u001b[0mdict1\u001b[0m\u001b[0;34m.\u001b[0m\u001b[0muppa\u001b[0m\u001b[0;34m\u001b[0m\u001b[0;34m\u001b[0m\u001b[0m\n\u001b[0m",
            "\u001b[0;31mAttributeError\u001b[0m: 'dict' object has no attribute 'uppa'"
          ]
        }
      ]
    },
    {
      "cell_type": "code",
      "source": [
        "contact={\n",
        "    \"name\" : \"Guido\",\n",
        "    \"country\" : \"Netherland\",\n",
        "}\n",
        "print(f\"Hello, {contact['name']}. You are from {contact['country']}\")\n",
        "print(\"Hello, {name}. You are from {country}\".format(**contact))"
      ],
      "metadata": {
        "colab": {
          "base_uri": "https://localhost:8080/"
        },
        "id": "8LOKO9tMdfHk",
        "outputId": "492f46b4-0aa9-4896-e60b-4ea590a0646e"
      },
      "execution_count": 90,
      "outputs": [
        {
          "output_type": "stream",
          "name": "stdout",
          "text": [
            "Hello, Guido. You are from Netherland\n",
            "Hello, Guido. You are from Netherland\n"
          ]
        }
      ]
    },
    {
      "cell_type": "markdown",
      "source": [
        "# Set"
      ],
      "metadata": {
        "id": "K6nYPGZLgMlK"
      }
    },
    {
      "cell_type": "code",
      "source": [
        "faang = {'facebook', 'apple', 'apple', 'netfilx', 'google'}\n",
        "print(faang)"
      ],
      "metadata": {
        "colab": {
          "base_uri": "https://localhost:8080/"
        },
        "id": "vYqQkHengOJF",
        "outputId": "27925214-2e53-4f4a-d518-4420d599085a"
      },
      "execution_count": 91,
      "outputs": [
        {
          "output_type": "stream",
          "name": "stdout",
          "text": [
            "{'netfilx', 'google', 'apple', 'facebook'}\n"
          ]
        }
      ]
    },
    {
      "cell_type": "code",
      "source": [
        "split_str = set('facebook')\n",
        "split_str"
      ],
      "metadata": {
        "colab": {
          "base_uri": "https://localhost:8080/"
        },
        "id": "k2ahxSbAghlS",
        "outputId": "c46d4b8e-90c9-4863-86cb-9fa65c69a3aa"
      },
      "execution_count": 93,
      "outputs": [
        {
          "output_type": "execute_result",
          "data": {
            "text/plain": [
              "{'a', 'b', 'c', 'e', 'f', 'k', 'o'}"
            ]
          },
          "metadata": {},
          "execution_count": 93
        }
      ]
    },
    {
      "cell_type": "code",
      "source": [
        "'dangn' in faang"
      ],
      "metadata": {
        "colab": {
          "base_uri": "https://localhost:8080/"
        },
        "id": "41AAm08Jg5Ef",
        "outputId": "a10aadaf-a65d-4345-847f-767bb223082a"
      },
      "execution_count": 94,
      "outputs": [
        {
          "output_type": "execute_result",
          "data": {
            "text/plain": [
              "False"
            ]
          },
          "metadata": {},
          "execution_count": 94
        }
      ]
    },
    {
      "cell_type": "code",
      "source": [
        "set_a = set('fastcampus')\n",
        "set_b = set('shinhan')\n",
        "print(set_a)\n",
        "print(set_b)\n",
        "\n",
        "print(set_a | set_b)\n",
        "print(set_a & set_b)\n",
        "print(set_a - set_b)\n",
        "print(set_a ^ set_b) # 델타연산"
      ],
      "metadata": {
        "colab": {
          "base_uri": "https://localhost:8080/"
        },
        "id": "jwodvMhjhMoQ",
        "outputId": "a981c00a-2337-4b09-9805-808ae0fabb23"
      },
      "execution_count": 96,
      "outputs": [
        {
          "output_type": "stream",
          "name": "stdout",
          "text": [
            "{'s', 'u', 'a', 'm', 'p', 'c', 't', 'f'}\n",
            "{'s', 'n', 'i', 'a', 'h'}\n",
            "{'s', 'n', 'i', 'u', 'a', 'm', 'p', 'c', 't', 'h', 'f'}\n",
            "{'s', 'a'}\n",
            "{'u', 'm', 'p', 'c', 't', 'f'}\n",
            "{'u', 'm', 't', 'h', 'f', 'n', 'i', 'p', 'c'}\n"
          ]
        }
      ]
    },
    {
      "cell_type": "markdown",
      "source": [
        "dictionary와 set을 이용하여 다음 문제를 해결하세요.\n",
        "1. 다음 인적사항을 입력하세요.\n",
        "(list에 각 정보가 dict로 존재)\n",
        "2. Jane Doe의 Locale을 London, UK 로 수정하세요.\n",
        "3. list의 모든 아이템에 대해 key와 value를 모두 출력하세요.(반복문 쓰지 말 것)\n",
        "4. 다음 list의 중복 아이템을 제거한 뒤, 내림차순으로 정렬하여 출력하세요."
      ],
      "metadata": {
        "id": "Kl62UVBNix7z"
      }
    },
    {
      "cell_type": "code",
      "source": [
        "users=[\n",
        "    {\n",
        "      'Name':'Johnny Silverhand',\n",
        "      'Locale':'Night City',\n",
        "      'Age':120,\n",
        "      'Username':'Johnny'\n",
        "    },\n",
        "    {\n",
        "      'Name':'John Doe',\n",
        "      'Locale':'CA, USA',\n",
        "      'Age':40,\n",
        "      'Username':'Doh'\n",
        "    },\n",
        "    {\n",
        "      'Name':'Jane Doe',\n",
        "      'Locale':'Seoul, Korea',\n",
        "      'Age':24,\n",
        "      'Username':'jane-doe'  \n",
        "    },\n",
        "    {\n",
        "      'Name':'Foo Bar',\n",
        "      'Locale':'Busan, Korea',\n",
        "      'Age':31,\n",
        "      'Username':'foo-bar' \n",
        "    },\n",
        "]\n",
        "users"
      ],
      "metadata": {
        "colab": {
          "base_uri": "https://localhost:8080/"
        },
        "id": "FtMxNvDKixR6",
        "outputId": "fdf73d71-25b5-454e-82b7-c97f4ee115c0"
      },
      "execution_count": 119,
      "outputs": [
        {
          "output_type": "execute_result",
          "data": {
            "text/plain": [
              "[{'Name': 'Johnny Silverhand',\n",
              "  'Locale': 'Night City',\n",
              "  'Age': 120,\n",
              "  'Username': 'Johnny'},\n",
              " {'Name': 'John Doe', 'Locale': 'CA, USA', 'Age': 40, 'Username': 'Doh'},\n",
              " {'Name': 'Jane Doe',\n",
              "  'Locale': 'Seoul, Korea',\n",
              "  'Age': 24,\n",
              "  'Username': 'jane-doe'},\n",
              " {'Name': 'Foo Bar',\n",
              "  'Locale': 'Busan, Korea',\n",
              "  'Age': 31,\n",
              "  'Username': 'foo-bar'}]"
            ]
          },
          "metadata": {},
          "execution_count": 119
        }
      ]
    },
    {
      "cell_type": "code",
      "source": [
        "users[2]['Locale']='London, UK'"
      ],
      "metadata": {
        "id": "V5WzzJZZ1A3O"
      },
      "execution_count": 122,
      "outputs": []
    },
    {
      "cell_type": "code",
      "source": [
        "users"
      ],
      "metadata": {
        "colab": {
          "base_uri": "https://localhost:8080/"
        },
        "id": "GReO0Ce409AV",
        "outputId": "5f8b870c-dc2f-4146-dba3-8d2bef4fdfa9"
      },
      "execution_count": 124,
      "outputs": [
        {
          "output_type": "execute_result",
          "data": {
            "text/plain": [
              "[{'Name': 'Johnny Silverhand',\n",
              "  'Locale': 'Night City',\n",
              "  'Age': 120,\n",
              "  'Username': 'Johnny'},\n",
              " {'Name': 'John Doe', 'Locale': 'CA, USA', 'Age': 40, 'Username': 'Doh'},\n",
              " {'Name': 'Jane Doe',\n",
              "  'Locale': 'London, UK',\n",
              "  'Age': 24,\n",
              "  'Username': 'jane-doe'},\n",
              " {'Name': 'Foo Bar',\n",
              "  'Locale': 'Busan, Korea',\n",
              "  'Age': 31,\n",
              "  'Username': 'foo-bar'}]"
            ]
          },
          "metadata": {},
          "execution_count": 124
        }
      ]
    },
    {
      "cell_type": "code",
      "source": [
        "print(users[0].items())\n",
        "print(users[1].items())\n",
        "print(users[2].items())\n",
        "print(users[3].items())"
      ],
      "metadata": {
        "colab": {
          "base_uri": "https://localhost:8080/"
        },
        "id": "YiOHq2Id4hIq",
        "outputId": "574620c7-50a7-4c0e-d396-c1ab76a71473"
      },
      "execution_count": 126,
      "outputs": [
        {
          "output_type": "stream",
          "name": "stdout",
          "text": [
            "dict_items([('Name', 'Johnny Silverhand'), ('Locale', 'Night City'), ('Age', 120), ('Username', 'Johnny')])\n",
            "dict_items([('Name', 'John Doe'), ('Locale', 'CA, USA'), ('Age', 40), ('Username', 'Doh')])\n",
            "dict_items([('Name', 'Jane Doe'), ('Locale', 'London, UK'), ('Age', 24), ('Username', 'jane-doe')])\n",
            "dict_items([('Name', 'Foo Bar'), ('Locale', 'Busan, Korea'), ('Age', 31), ('Username', 'foo-bar')])\n"
          ]
        }
      ]
    },
    {
      "cell_type": "code",
      "source": [
        "cities = [\n",
        "'Daejeon','Ulsan','Seoul','Jeju','Busan','Ulsan','Daegu','Daejeon','Seoul','Seoul','Daejeon','Gwangju','Busan','Daegu','Gwangju','Daejeon','Ulsan','Jeju','Gwangju','Seoul'\n",
        "]\n",
        "cities=set(cities)\n",
        "cities=list(cities)\n",
        "cities.sort(reverse=True)\n",
        "cities"
      ],
      "metadata": {
        "colab": {
          "base_uri": "https://localhost:8080/"
        },
        "id": "im2hpeF527br",
        "outputId": "b5621d31-4e42-4c45-827d-2e3bb72b3a70"
      },
      "execution_count": 130,
      "outputs": [
        {
          "output_type": "execute_result",
          "data": {
            "text/plain": [
              "['Ulsan', 'Seoul', 'Jeju', 'Gwangju', 'Daejeon', 'Daegu', 'Busan']"
            ]
          },
          "metadata": {},
          "execution_count": 130
        }
      ]
    },
    {
      "cell_type": "code",
      "source": [
        "# fizzbuzz\n",
        "for i in range(1,16):\n",
        "  if i%15==0:\n",
        "    print('fizzbuzz')\n",
        "  elif i%3==0:\n",
        "    print('fizz')\n",
        "  elif i%5==0:\n",
        "    print('buzz')\n",
        "  else:\n",
        "    print(i)"
      ],
      "metadata": {
        "colab": {
          "base_uri": "https://localhost:8080/"
        },
        "id": "ayHd3BmH5R3I",
        "outputId": "a5364179-ffda-4472-a0b3-498ebe7169ed"
      },
      "execution_count": 135,
      "outputs": [
        {
          "output_type": "stream",
          "name": "stdout",
          "text": [
            "1\n",
            "2\n",
            "fizz\n",
            "4\n",
            "buzz\n",
            "fizz\n",
            "7\n",
            "8\n",
            "fizz\n",
            "buzz\n",
            "11\n",
            "fizz\n",
            "13\n",
            "14\n",
            "fizzbuzz\n"
          ]
        }
      ]
    },
    {
      "cell_type": "code",
      "source": [
        "vat={\n",
        "     'Korea':10,\n",
        "     'Japan':8,\n",
        "     'UK':20,\n",
        "     }\n",
        "price=int(input(\"제품 가격은? > \"))\n",
        "country=input(\"나라는? > \")\n",
        "per=vat[country]\n",
        "print(price*per/100)"
      ],
      "metadata": {
        "colab": {
          "base_uri": "https://localhost:8080/"
        },
        "id": "jdlC4j89HWvQ",
        "outputId": "0b4dd8c0-ad2f-454a-e926-4519e176e61d"
      },
      "execution_count": 138,
      "outputs": [
        {
          "output_type": "stream",
          "name": "stdout",
          "text": [
            "제품 가격은? > 50000\n",
            "나라는? > UK\n",
            "10000.0\n"
          ]
        }
      ]
    },
    {
      "cell_type": "markdown",
      "source": [
        "# if문"
      ],
      "metadata": {
        "id": "oxMOBcn-J_tV"
      }
    },
    {
      "cell_type": "markdown",
      "source": [
        "- 조건문:\n",
        "  - 실행할 문장들"
      ],
      "metadata": {
        "id": "Wm9PLcM9KYig"
      }
    },
    {
      "cell_type": "code",
      "source": [
        "현금 = 10000\n",
        "날씨 = 'rainy'\n",
        "if 현금 <5000:\n",
        "  print(\"음료를 사먹는다\")\n",
        "else:\n",
        "  if 날씨=='rainy':\n",
        "    print(\"국밥을 먹는다\")\n",
        "  else:\n",
        "    print('냉면을 먹는다')"
      ],
      "metadata": {
        "colab": {
          "base_uri": "https://localhost:8080/"
        },
        "id": "c4qUTB-mJ_HI",
        "outputId": "fe45b173-21f2-4893-bc33-99ab13223f71"
      },
      "execution_count": 140,
      "outputs": [
        {
          "output_type": "stream",
          "name": "stdout",
          "text": [
            "국밥을 먹는다\n"
          ]
        }
      ]
    },
    {
      "cell_type": "markdown",
      "source": [
        "# Ternary Operators"
      ],
      "metadata": {
        "id": "g8qgw8l5U5fN"
      }
    },
    {
      "cell_type": "code",
      "source": [
        "\"a\" if True else \"b\""
      ],
      "metadata": {
        "colab": {
          "base_uri": "https://localhost:8080/",
          "height": 35
        },
        "id": "IKRjuf7ZLNv7",
        "outputId": "6c9a9290-97bb-4851-c865-53dfd4416c25"
      },
      "execution_count": 141,
      "outputs": [
        {
          "output_type": "execute_result",
          "data": {
            "text/plain": [
              "'a'"
            ],
            "application/vnd.google.colaboratory.intrinsic+json": {
              "type": "string"
            }
          },
          "metadata": {},
          "execution_count": 141
        }
      ]
    },
    {
      "cell_type": "code",
      "source": [
        "numbers = [1,3,5,7,9]\n",
        "num = 0\n",
        "\"odd\" if num in numbers else \"even\""
      ],
      "metadata": {
        "colab": {
          "base_uri": "https://localhost:8080/",
          "height": 35
        },
        "id": "GPrRGPvYU_md",
        "outputId": "2ac710f2-7eac-4b5f-fc0d-331380071539"
      },
      "execution_count": 142,
      "outputs": [
        {
          "output_type": "execute_result",
          "data": {
            "text/plain": [
              "'even'"
            ],
            "application/vnd.google.colaboratory.intrinsic+json": {
              "type": "string"
            }
          },
          "metadata": {},
          "execution_count": 142
        }
      ]
    },
    {
      "cell_type": "code",
      "source": [
        "num = 1\n",
        "\"odd\" if num in numbers else \"even\""
      ],
      "metadata": {
        "colab": {
          "base_uri": "https://localhost:8080/",
          "height": 35
        },
        "id": "4eiLsmyxVbY9",
        "outputId": "84d6a030-0b63-4433-d250-b215269428b9"
      },
      "execution_count": 143,
      "outputs": [
        {
          "output_type": "execute_result",
          "data": {
            "text/plain": [
              "'odd'"
            ],
            "application/vnd.google.colaboratory.intrinsic+json": {
              "type": "string"
            }
          },
          "metadata": {},
          "execution_count": 143
        }
      ]
    },
    {
      "cell_type": "code",
      "source": [
        "weekdays = ['t','w','t','f']\n",
        "user_input = 'w'\n",
        "\n",
        "\"weekday\" if user_input in weekdays else \"weekend\""
      ],
      "metadata": {
        "colab": {
          "base_uri": "https://localhost:8080/",
          "height": 35
        },
        "id": "OtZchziSWBeN",
        "outputId": "6c18603a-823a-44dd-94d5-b63e83944847"
      },
      "execution_count": 146,
      "outputs": [
        {
          "output_type": "execute_result",
          "data": {
            "text/plain": [
              "'weekday'"
            ],
            "application/vnd.google.colaboratory.intrinsic+json": {
              "type": "string"
            }
          },
          "metadata": {},
          "execution_count": 146
        }
      ]
    },
    {
      "cell_type": "code",
      "source": [
        "user_input = 'm'\n",
        "print(\n",
        "    \"weekday\" \n",
        "    if user_input in weekdays \n",
        "    else \"난 월요일을 좋아하지 않아\" \n",
        "    if user_input==\"m\" \n",
        "    else \"weekend\"\n",
        "    )"
      ],
      "metadata": {
        "colab": {
          "base_uri": "https://localhost:8080/"
        },
        "id": "fLMHW4ihWG97",
        "outputId": "2d5fea8c-9e58-450c-e9ca-a1c1fdef30fb"
      },
      "execution_count": 153,
      "outputs": [
        {
          "output_type": "stream",
          "name": "stdout",
          "text": [
            "난 월요일을 좋아하지 않아\n"
          ]
        }
      ]
    },
    {
      "cell_type": "markdown",
      "source": [
        "## Practice - Leap year\n",
        "을 출력하도록 Conditional Statements 와 Conditional Expressions로 각각 구현하세요"
      ],
      "metadata": {
        "id": "RGEwLs16YL6m"
      }
    },
    {
      "cell_type": "code",
      "source": [
        "# Conditional Statements\n",
        "user_input=2100\n",
        "if user_input % 4==0 and user_input%100 != 0 or user_input%400 == 0:\n",
        "  print(f\"{user_input}은 윤년이다.\")\n",
        "else:\n",
        "  print(f\"{user_input}은 평년이다\")"
      ],
      "metadata": {
        "colab": {
          "base_uri": "https://localhost:8080/"
        },
        "id": "D3sHY6i1YOcd",
        "outputId": "31ecbddf-bd5f-4b46-b1c5-1cd7e0e82c8d"
      },
      "execution_count": 163,
      "outputs": [
        {
          "output_type": "stream",
          "name": "stdout",
          "text": [
            "2100은 평년이다\n"
          ]
        }
      ]
    },
    {
      "cell_type": "code",
      "source": [
        "# Conditional Expressions\n",
        "user_input=1988\n",
        "f\"{user_input}은 윤년이다.\" if(user_input % 4==0 and (user_input%100)!=0 or (user_input%400)==0) else (f\"{user_input}은 평년이다\")"
      ],
      "metadata": {
        "colab": {
          "base_uri": "https://localhost:8080/",
          "height": 35
        },
        "id": "6U9CuPxoZWxe",
        "outputId": "ccc5d574-985d-42af-8e05-6fd41725a939"
      },
      "execution_count": 162,
      "outputs": [
        {
          "output_type": "execute_result",
          "data": {
            "text/plain": [
              "'1988은 윤년이다.'"
            ],
            "application/vnd.google.colaboratory.intrinsic+json": {
              "type": "string"
            }
          },
          "metadata": {},
          "execution_count": 162
        }
      ]
    },
    {
      "cell_type": "markdown",
      "source": [
        "# Loop\n",
        "## For, while Statement"
      ],
      "metadata": {
        "id": "kMN9ibcoehS5"
      }
    },
    {
      "cell_type": "code",
      "source": [
        "for i in range(1,5+1):\n",
        "  print(i)"
      ],
      "metadata": {
        "colab": {
          "base_uri": "https://localhost:8080/"
        },
        "id": "EQLwF-wjZ1KH",
        "outputId": "6c6932a4-8898-4a53-d0f9-642859937e8e"
      },
      "execution_count": 167,
      "outputs": [
        {
          "output_type": "stream",
          "name": "stdout",
          "text": [
            "1\n",
            "2\n",
            "3\n",
            "4\n",
            "5\n"
          ]
        }
      ]
    },
    {
      "cell_type": "code",
      "source": [
        "sum=0\n",
        "for i in range(1,10+1):\n",
        "  sum+=i\n",
        "print(sum)"
      ],
      "metadata": {
        "colab": {
          "base_uri": "https://localhost:8080/"
        },
        "id": "X6KLxlhTfQIm",
        "outputId": "ff918f5d-1be1-42ba-f67e-3cd13d326a66"
      },
      "execution_count": 168,
      "outputs": [
        {
          "output_type": "stream",
          "name": "stdout",
          "text": [
            "55\n"
          ]
        }
      ]
    },
    {
      "cell_type": "code",
      "source": [
        "for c in \"ShinhanProDigitalAcademy\":\n",
        "  print(c,end=' ')"
      ],
      "metadata": {
        "colab": {
          "base_uri": "https://localhost:8080/"
        },
        "id": "SxgdH8HogS2q",
        "outputId": "b7e552a2-c4fb-4dbf-b501-21396f04c20d"
      },
      "execution_count": 170,
      "outputs": [
        {
          "output_type": "stream",
          "name": "stdout",
          "text": [
            "S h i n h a n P r o D i g i t a l A c a d e m y "
          ]
        }
      ]
    },
    {
      "cell_type": "code",
      "source": [
        "for item in ['cat', 'dog', 'hamster']:\n",
        "  print(f'{item} is so cute!!!!!!!!!')"
      ],
      "metadata": {
        "colab": {
          "base_uri": "https://localhost:8080/"
        },
        "id": "ELM6WwLUgaKt",
        "outputId": "ec0af299-f49e-49cf-db88-3383ee2ace71"
      },
      "execution_count": 171,
      "outputs": [
        {
          "output_type": "stream",
          "name": "stdout",
          "text": [
            "cat is so cute!!!!!!!!!\n",
            "dog is so cute!!!!!!!!!\n",
            "hamster is so cute!!!!!!!!!\n"
          ]
        }
      ]
    },
    {
      "cell_type": "code",
      "source": [
        "for i in range(1, 100+1):\n",
        "  if i%2==0 or i%3==0:\n",
        "    continue\n",
        "  elif i%17==0:\n",
        "    break\n",
        "  else:\n",
        "    print(f'{i} is survived!!!')"
      ],
      "metadata": {
        "colab": {
          "base_uri": "https://localhost:8080/"
        },
        "id": "qI3CsUiBhaDe",
        "outputId": "1926c51f-aec6-46e8-bb53-821bb5f8c612"
      },
      "execution_count": 176,
      "outputs": [
        {
          "output_type": "stream",
          "name": "stdout",
          "text": [
            "1 is survived!!!\n",
            "5 is survived!!!\n",
            "7 is survived!!!\n",
            "11 is survived!!!\n",
            "13 is survived!!!\n"
          ]
        }
      ]
    },
    {
      "cell_type": "code",
      "source": [
        "i=0\n",
        "while i<10:\n",
        "  i+=1\n",
        "  if i%3==0:\n",
        "    continue\n",
        "  print(f\"{i}입니다.\")"
      ],
      "metadata": {
        "colab": {
          "base_uri": "https://localhost:8080/"
        },
        "id": "kR4EGJzFg7kI",
        "outputId": "95fd1f25-fe0f-4253-b99c-62475bba3aab"
      },
      "execution_count": 175,
      "outputs": [
        {
          "output_type": "stream",
          "name": "stdout",
          "text": [
            "1입니다.\n",
            "2입니다.\n",
            "4입니다.\n",
            "5입니다.\n",
            "7입니다.\n",
            "8입니다.\n",
            "10입니다.\n"
          ]
        }
      ]
    },
    {
      "cell_type": "markdown",
      "source": [
        "## Fizzbuzz"
      ],
      "metadata": {
        "id": "nHb8wg_Gkz5w"
      }
    },
    {
      "cell_type": "code",
      "source": [
        "# dest = int(input(\"Enter some num >>\"))\n",
        "dest = 30 # for debugging\n",
        "\n",
        "for i in range(1, dest+1):\n",
        "  if i%15==0:\n",
        "    print('fizzbuzz')\n",
        "  elif i%3==0:\n",
        "    print('fizz')\n",
        "  elif i%5==0:\n",
        "    print('buzz')\n",
        "  else:\n",
        "    print(i)"
      ],
      "metadata": {
        "colab": {
          "base_uri": "https://localhost:8080/"
        },
        "id": "SzYf9sG9k2jf",
        "outputId": "22b204c6-23c3-4c59-8616-ea1054f9c087"
      },
      "execution_count": 196,
      "outputs": [
        {
          "output_type": "stream",
          "name": "stdout",
          "text": [
            "1\n",
            "2\n",
            "fizz\n",
            "4\n",
            "buzz\n",
            "fizz\n",
            "7\n",
            "8\n",
            "fizz\n",
            "buzz\n",
            "11\n",
            "fizz\n",
            "13\n",
            "14\n",
            "fizzbuzz\n",
            "16\n",
            "17\n",
            "fizz\n",
            "19\n",
            "buzz\n",
            "fizz\n",
            "22\n",
            "23\n",
            "fizz\n",
            "buzz\n",
            "26\n",
            "fizz\n",
            "28\n",
            "29\n",
            "fizzbuzz\n"
          ]
        }
      ]
    },
    {
      "cell_type": "code",
      "source": [
        "3%3==0"
      ],
      "metadata": {
        "colab": {
          "base_uri": "https://localhost:8080/"
        },
        "id": "2fqwqaBGpqxI",
        "outputId": "016329c3-7bf4-435c-c679-ccc9bb9da6b9"
      },
      "execution_count": 202,
      "outputs": [
        {
          "output_type": "execute_result",
          "data": {
            "text/plain": [
              "True"
            ]
          },
          "metadata": {},
          "execution_count": 202
        }
      ]
    },
    {
      "cell_type": "code",
      "source": [
        "5%5==0"
      ],
      "metadata": {
        "colab": {
          "base_uri": "https://localhost:8080/"
        },
        "id": "wp3CpfZDps8Q",
        "outputId": "edd31fb7-69bb-42ff-e520-e692f6091d39"
      },
      "execution_count": 203,
      "outputs": [
        {
          "output_type": "execute_result",
          "data": {
            "text/plain": [
              "True"
            ]
          },
          "metadata": {},
          "execution_count": 203
        }
      ]
    },
    {
      "cell_type": "code",
      "source": [
        "True==1"
      ],
      "metadata": {
        "colab": {
          "base_uri": "https://localhost:8080/"
        },
        "id": "kb1-6ffypuiY",
        "outputId": "21de8733-8a98-4d81-c9d8-d85475a8735b"
      },
      "execution_count": 204,
      "outputs": [
        {
          "output_type": "execute_result",
          "data": {
            "text/plain": [
              "True"
            ]
          },
          "metadata": {},
          "execution_count": 204
        }
      ]
    },
    {
      "cell_type": "code",
      "source": [
        "False==0"
      ],
      "metadata": {
        "colab": {
          "base_uri": "https://localhost:8080/"
        },
        "id": "FFXfZTH8pwgZ",
        "outputId": "90e6b6ea-ace9-4de0-e737-6b53ba56ba12"
      },
      "execution_count": 205,
      "outputs": [
        {
          "output_type": "execute_result",
          "data": {
            "text/plain": [
              "True"
            ]
          },
          "metadata": {},
          "execution_count": 205
        }
      ]
    },
    {
      "cell_type": "code",
      "source": [
        "# 한줄로 만드는 건 딕셔너리를 이용해서도 가능\n",
        "# dest = int(input(\"Enter some num >>\"))\n",
        "dest = 30 # for debugging\n",
        "for i in range(1, dest+1):\n",
        "  if i%3==0 or i%5==0:\n",
        "    print('fizz'*(i%3==0)+'buzz'*(i%5==0))\n",
        "  else:\n",
        "    print(i)"
      ],
      "metadata": {
        "colab": {
          "base_uri": "https://localhost:8080/"
        },
        "id": "8jSXXQ4Im_wH",
        "outputId": "7058934c-f2e7-4c2a-cadb-58a9388f336a"
      },
      "execution_count": 200,
      "outputs": [
        {
          "output_type": "stream",
          "name": "stdout",
          "text": [
            "1\n",
            "2\n",
            "fizz\n",
            "4\n",
            "buzz\n",
            "fizz\n",
            "7\n",
            "8\n",
            "fizz\n",
            "buzz\n",
            "11\n",
            "fizz\n",
            "13\n",
            "14\n",
            "fizzbuzz\n",
            "16\n",
            "17\n",
            "fizz\n",
            "19\n",
            "buzz\n",
            "fizz\n",
            "22\n",
            "23\n",
            "fizz\n",
            "buzz\n",
            "26\n",
            "fizz\n",
            "28\n",
            "29\n",
            "fizzbuzz\n"
          ]
        }
      ]
    },
    {
      "cell_type": "code",
      "source": [
        "dest = 30 # for debugging\n",
        "for i in range(1, dest+1):\n",
        "  print(\n",
        "      'fizzbuzz' if i%15==0 else\n",
        "      'fizz' if i%3==0 else\n",
        "      'buzz' if i%5==0 else\n",
        "      i)"
      ],
      "metadata": {
        "colab": {
          "base_uri": "https://localhost:8080/"
        },
        "id": "XPRPiLvepV_w",
        "outputId": "17944d06-412e-44d8-90ac-01bc0179ca03"
      },
      "execution_count": 201,
      "outputs": [
        {
          "output_type": "stream",
          "name": "stdout",
          "text": [
            "1\n",
            "2\n",
            "fizz\n",
            "4\n",
            "buzz\n",
            "fizz\n",
            "7\n",
            "8\n",
            "fizz\n",
            "buzz\n",
            "11\n",
            "fizz\n",
            "13\n",
            "14\n",
            "fizzbuzz\n",
            "16\n",
            "17\n",
            "fizz\n",
            "19\n",
            "buzz\n",
            "fizz\n",
            "22\n",
            "23\n",
            "fizz\n",
            "buzz\n",
            "26\n",
            "fizz\n",
            "28\n",
            "29\n",
            "fizzbuzz\n"
          ]
        }
      ]
    },
    {
      "cell_type": "markdown",
      "source": [
        "다음 문제를 해결하세요.\n",
        "1. 사용자가 입력한 임의의 정수(2~100)에 대해 팩토리얼 연산을 수행하세요.\n",
        "2. 다음 2차원 list에 대해 각 요소의 합을 구하세요.\n",
        "\n",
        "[\n",
        "\n",
        "[1, 0, 7, 0],\n",
        "\n",
        "[0, 2, 0, 9],\n",
        "\n",
        "[0, 6, 3, 7],\n",
        "\n",
        "[4, 0, 5, 1],\n",
        "\n",
        "]\n"
      ],
      "metadata": {
        "id": "VcVbAjnXiBhv"
      }
    },
    {
      "cell_type": "code",
      "source": [
        "user_input=6\n",
        "i=1\n",
        "sum=1\n",
        "\n",
        "while i<=user_input:\n",
        "  print(f\"{i}\",end=\"\")\n",
        "  if user_input!=i:\n",
        "    print(\" * \",end='')\n",
        "  sum*=i\n",
        "  i+=1\n",
        "print(f\"= {sum}\")"
      ],
      "metadata": {
        "colab": {
          "base_uri": "https://localhost:8080/"
        },
        "id": "bnBNSbe6h2NY",
        "outputId": "897cc1c6-a898-43f3-c753-4782832e92b4"
      },
      "execution_count": 183,
      "outputs": [
        {
          "output_type": "stream",
          "name": "stdout",
          "text": [
            "1 * 2 * 3 * 4 * 5 * 6= 720\n"
          ]
        }
      ]
    },
    {
      "cell_type": "code",
      "source": [
        "user_list=[\n",
        "[1, 0, 7, 0],\n",
        "[0, 2, 0, 9],\n",
        "[0, 6, 3, 7],\n",
        "[4, 0, 5, 1],\n",
        "]\n",
        "sum=0\n",
        "for i in range(len(user_list)):\n",
        "  for j in user_list[i]:\n",
        "    sum+=j\n",
        "print(sum)"
      ],
      "metadata": {
        "colab": {
          "base_uri": "https://localhost:8080/"
        },
        "id": "JvmNdCHqjdRO",
        "outputId": "651b2e4c-e76a-465c-9b54-6e9163059fe5"
      },
      "execution_count": 192,
      "outputs": [
        {
          "output_type": "stream",
          "name": "stdout",
          "text": [
            "45\n"
          ]
        }
      ]
    }
  ]
}